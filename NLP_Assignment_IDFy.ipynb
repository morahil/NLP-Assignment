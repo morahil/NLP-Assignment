{
  "nbformat": 4,
  "nbformat_minor": 0,
  "metadata": {
    "colab": {
      "provenance": [],
      "gpuType": "T4"
    },
    "kernelspec": {
      "name": "python3",
      "display_name": "Python 3"
    },
    "language_info": {
      "name": "python"
    },
    "widgets": {
      "application/vnd.jupyter.widget-state+json": {
        "e73f47e5dff0427cbd881e39991c6482": {
          "model_module": "@jupyter-widgets/controls",
          "model_name": "HBoxModel",
          "model_module_version": "1.5.0",
          "state": {
            "_dom_classes": [],
            "_model_module": "@jupyter-widgets/controls",
            "_model_module_version": "1.5.0",
            "_model_name": "HBoxModel",
            "_view_count": null,
            "_view_module": "@jupyter-widgets/controls",
            "_view_module_version": "1.5.0",
            "_view_name": "HBoxView",
            "box_style": "",
            "children": [
              "IPY_MODEL_772ea0004cf94d29a151495f99cc4aef",
              "IPY_MODEL_d5761376cf4345caae8b681d6b80f93e",
              "IPY_MODEL_c73372a714f444a6a74df52bbb5d1ec8"
            ],
            "layout": "IPY_MODEL_edee3ac3c0804813ac4e3088d01605e5"
          }
        },
        "772ea0004cf94d29a151495f99cc4aef": {
          "model_module": "@jupyter-widgets/controls",
          "model_name": "HTMLModel",
          "model_module_version": "1.5.0",
          "state": {
            "_dom_classes": [],
            "_model_module": "@jupyter-widgets/controls",
            "_model_module_version": "1.5.0",
            "_model_name": "HTMLModel",
            "_view_count": null,
            "_view_module": "@jupyter-widgets/controls",
            "_view_module_version": "1.5.0",
            "_view_name": "HTMLView",
            "description": "",
            "description_tooltip": null,
            "layout": "IPY_MODEL_1a6c6443580145d2b788c1fd33998bb7",
            "placeholder": "​",
            "style": "IPY_MODEL_be061f635a7c4f75bf34472ae173dea8",
            "value": "Pandas Apply: 100%"
          }
        },
        "d5761376cf4345caae8b681d6b80f93e": {
          "model_module": "@jupyter-widgets/controls",
          "model_name": "FloatProgressModel",
          "model_module_version": "1.5.0",
          "state": {
            "_dom_classes": [],
            "_model_module": "@jupyter-widgets/controls",
            "_model_module_version": "1.5.0",
            "_model_name": "FloatProgressModel",
            "_view_count": null,
            "_view_module": "@jupyter-widgets/controls",
            "_view_module_version": "1.5.0",
            "_view_name": "ProgressView",
            "bar_style": "success",
            "description": "",
            "description_tooltip": null,
            "layout": "IPY_MODEL_e3569c87284f4f1f8aa3982fa1ca9580",
            "max": 133,
            "min": 0,
            "orientation": "horizontal",
            "style": "IPY_MODEL_dc1ca7dda4654686802c1f8834ddbfe3",
            "value": 133
          }
        },
        "c73372a714f444a6a74df52bbb5d1ec8": {
          "model_module": "@jupyter-widgets/controls",
          "model_name": "HTMLModel",
          "model_module_version": "1.5.0",
          "state": {
            "_dom_classes": [],
            "_model_module": "@jupyter-widgets/controls",
            "_model_module_version": "1.5.0",
            "_model_name": "HTMLModel",
            "_view_count": null,
            "_view_module": "@jupyter-widgets/controls",
            "_view_module_version": "1.5.0",
            "_view_name": "HTMLView",
            "description": "",
            "description_tooltip": null,
            "layout": "IPY_MODEL_d8e2246a4c8e4d7cb7ac0eabc819d89a",
            "placeholder": "​",
            "style": "IPY_MODEL_5b2649e4de864cb9b331f9b586d30e04",
            "value": " 133/133 [00:00&lt;00:00, 212.67it/s]"
          }
        },
        "edee3ac3c0804813ac4e3088d01605e5": {
          "model_module": "@jupyter-widgets/base",
          "model_name": "LayoutModel",
          "model_module_version": "1.2.0",
          "state": {
            "_model_module": "@jupyter-widgets/base",
            "_model_module_version": "1.2.0",
            "_model_name": "LayoutModel",
            "_view_count": null,
            "_view_module": "@jupyter-widgets/base",
            "_view_module_version": "1.2.0",
            "_view_name": "LayoutView",
            "align_content": null,
            "align_items": null,
            "align_self": null,
            "border": null,
            "bottom": null,
            "display": null,
            "flex": null,
            "flex_flow": null,
            "grid_area": null,
            "grid_auto_columns": null,
            "grid_auto_flow": null,
            "grid_auto_rows": null,
            "grid_column": null,
            "grid_gap": null,
            "grid_row": null,
            "grid_template_areas": null,
            "grid_template_columns": null,
            "grid_template_rows": null,
            "height": null,
            "justify_content": null,
            "justify_items": null,
            "left": null,
            "margin": null,
            "max_height": null,
            "max_width": null,
            "min_height": null,
            "min_width": null,
            "object_fit": null,
            "object_position": null,
            "order": null,
            "overflow": null,
            "overflow_x": null,
            "overflow_y": null,
            "padding": null,
            "right": null,
            "top": null,
            "visibility": null,
            "width": null
          }
        },
        "1a6c6443580145d2b788c1fd33998bb7": {
          "model_module": "@jupyter-widgets/base",
          "model_name": "LayoutModel",
          "model_module_version": "1.2.0",
          "state": {
            "_model_module": "@jupyter-widgets/base",
            "_model_module_version": "1.2.0",
            "_model_name": "LayoutModel",
            "_view_count": null,
            "_view_module": "@jupyter-widgets/base",
            "_view_module_version": "1.2.0",
            "_view_name": "LayoutView",
            "align_content": null,
            "align_items": null,
            "align_self": null,
            "border": null,
            "bottom": null,
            "display": null,
            "flex": null,
            "flex_flow": null,
            "grid_area": null,
            "grid_auto_columns": null,
            "grid_auto_flow": null,
            "grid_auto_rows": null,
            "grid_column": null,
            "grid_gap": null,
            "grid_row": null,
            "grid_template_areas": null,
            "grid_template_columns": null,
            "grid_template_rows": null,
            "height": null,
            "justify_content": null,
            "justify_items": null,
            "left": null,
            "margin": null,
            "max_height": null,
            "max_width": null,
            "min_height": null,
            "min_width": null,
            "object_fit": null,
            "object_position": null,
            "order": null,
            "overflow": null,
            "overflow_x": null,
            "overflow_y": null,
            "padding": null,
            "right": null,
            "top": null,
            "visibility": null,
            "width": null
          }
        },
        "be061f635a7c4f75bf34472ae173dea8": {
          "model_module": "@jupyter-widgets/controls",
          "model_name": "DescriptionStyleModel",
          "model_module_version": "1.5.0",
          "state": {
            "_model_module": "@jupyter-widgets/controls",
            "_model_module_version": "1.5.0",
            "_model_name": "DescriptionStyleModel",
            "_view_count": null,
            "_view_module": "@jupyter-widgets/base",
            "_view_module_version": "1.2.0",
            "_view_name": "StyleView",
            "description_width": ""
          }
        },
        "e3569c87284f4f1f8aa3982fa1ca9580": {
          "model_module": "@jupyter-widgets/base",
          "model_name": "LayoutModel",
          "model_module_version": "1.2.0",
          "state": {
            "_model_module": "@jupyter-widgets/base",
            "_model_module_version": "1.2.0",
            "_model_name": "LayoutModel",
            "_view_count": null,
            "_view_module": "@jupyter-widgets/base",
            "_view_module_version": "1.2.0",
            "_view_name": "LayoutView",
            "align_content": null,
            "align_items": null,
            "align_self": null,
            "border": null,
            "bottom": null,
            "display": null,
            "flex": null,
            "flex_flow": null,
            "grid_area": null,
            "grid_auto_columns": null,
            "grid_auto_flow": null,
            "grid_auto_rows": null,
            "grid_column": null,
            "grid_gap": null,
            "grid_row": null,
            "grid_template_areas": null,
            "grid_template_columns": null,
            "grid_template_rows": null,
            "height": null,
            "justify_content": null,
            "justify_items": null,
            "left": null,
            "margin": null,
            "max_height": null,
            "max_width": null,
            "min_height": null,
            "min_width": null,
            "object_fit": null,
            "object_position": null,
            "order": null,
            "overflow": null,
            "overflow_x": null,
            "overflow_y": null,
            "padding": null,
            "right": null,
            "top": null,
            "visibility": null,
            "width": null
          }
        },
        "dc1ca7dda4654686802c1f8834ddbfe3": {
          "model_module": "@jupyter-widgets/controls",
          "model_name": "ProgressStyleModel",
          "model_module_version": "1.5.0",
          "state": {
            "_model_module": "@jupyter-widgets/controls",
            "_model_module_version": "1.5.0",
            "_model_name": "ProgressStyleModel",
            "_view_count": null,
            "_view_module": "@jupyter-widgets/base",
            "_view_module_version": "1.2.0",
            "_view_name": "StyleView",
            "bar_color": null,
            "description_width": ""
          }
        },
        "d8e2246a4c8e4d7cb7ac0eabc819d89a": {
          "model_module": "@jupyter-widgets/base",
          "model_name": "LayoutModel",
          "model_module_version": "1.2.0",
          "state": {
            "_model_module": "@jupyter-widgets/base",
            "_model_module_version": "1.2.0",
            "_model_name": "LayoutModel",
            "_view_count": null,
            "_view_module": "@jupyter-widgets/base",
            "_view_module_version": "1.2.0",
            "_view_name": "LayoutView",
            "align_content": null,
            "align_items": null,
            "align_self": null,
            "border": null,
            "bottom": null,
            "display": null,
            "flex": null,
            "flex_flow": null,
            "grid_area": null,
            "grid_auto_columns": null,
            "grid_auto_flow": null,
            "grid_auto_rows": null,
            "grid_column": null,
            "grid_gap": null,
            "grid_row": null,
            "grid_template_areas": null,
            "grid_template_columns": null,
            "grid_template_rows": null,
            "height": null,
            "justify_content": null,
            "justify_items": null,
            "left": null,
            "margin": null,
            "max_height": null,
            "max_width": null,
            "min_height": null,
            "min_width": null,
            "object_fit": null,
            "object_position": null,
            "order": null,
            "overflow": null,
            "overflow_x": null,
            "overflow_y": null,
            "padding": null,
            "right": null,
            "top": null,
            "visibility": null,
            "width": null
          }
        },
        "5b2649e4de864cb9b331f9b586d30e04": {
          "model_module": "@jupyter-widgets/controls",
          "model_name": "DescriptionStyleModel",
          "model_module_version": "1.5.0",
          "state": {
            "_model_module": "@jupyter-widgets/controls",
            "_model_module_version": "1.5.0",
            "_model_name": "DescriptionStyleModel",
            "_view_count": null,
            "_view_module": "@jupyter-widgets/base",
            "_view_module_version": "1.2.0",
            "_view_name": "StyleView",
            "description_width": ""
          }
        }
      }
    }
  },
  "cells": [
    {
      "cell_type": "markdown",
      "source": [
        "## **Install EasyOCR**"
      ],
      "metadata": {
        "id": "nlV_dguDqML5"
      }
    },
    {
      "cell_type": "code",
      "source": [
        "!pip install easyocr"
      ],
      "metadata": {
        "id": "cIJwCQ_Ezi11"
      },
      "execution_count": null,
      "outputs": []
    },
    {
      "cell_type": "code",
      "source": [
        "from easyocr import Reader      # Using EasyOCR for extracting text\n",
        "\n",
        "# Load model for the English language\n",
        "language_reader = Reader([\"en\"])"
      ],
      "metadata": {
        "colab": {
          "base_uri": "https://localhost:8080/"
        },
        "id": "HGQPjILde141",
        "outputId": "e5d7ca2f-133b-4a1d-95c8-9e66b877863e"
      },
      "execution_count": null,
      "outputs": [
        {
          "output_type": "stream",
          "name": "stderr",
          "text": [
            "WARNING:easyocr.easyocr:Downloading detection model, please wait. This may take several minutes depending upon your network connection.\n"
          ]
        },
        {
          "output_type": "stream",
          "name": "stdout",
          "text": [
            "Progress: |██████████████████████████████████████████████████| 100.0% Complete"
          ]
        },
        {
          "output_type": "stream",
          "name": "stderr",
          "text": [
            "WARNING:easyocr.easyocr:Downloading recognition model, please wait. This may take several minutes depending upon your network connection.\n"
          ]
        },
        {
          "output_type": "stream",
          "name": "stdout",
          "text": [
            "Progress: |██████████████████████████████████████████████████| 100.0% Complete"
          ]
        }
      ]
    },
    {
      "cell_type": "markdown",
      "source": [
        "## **Install Pypdfium**"
      ],
      "metadata": {
        "id": "2d-XqIM9qaP6"
      }
    },
    {
      "cell_type": "code",
      "source": [
        "!pip install -U pypdfium2"
      ],
      "metadata": {
        "colab": {
          "base_uri": "https://localhost:8080/"
        },
        "id": "pV_x97bie77X",
        "outputId": "cf7c83cd-27d3-4caf-9779-7b71b901bd60"
      },
      "execution_count": 2,
      "outputs": [
        {
          "output_type": "stream",
          "name": "stdout",
          "text": [
            "Collecting pypdfium2\n",
            "  Downloading pypdfium2-4.20.0-py3-none-manylinux_2_17_x86_64.whl (3.0 MB)\n",
            "\u001b[2K     \u001b[90m━━━━━━━━━━━━━━━━━━━━━━━━━━━━━━━━━━━━━━━━\u001b[0m \u001b[32m3.0/3.0 MB\u001b[0m \u001b[31m8.4 MB/s\u001b[0m eta \u001b[36m0:00:00\u001b[0m\n",
            "\u001b[?25hInstalling collected packages: pypdfium2\n",
            "Successfully installed pypdfium2-4.20.0\n"
          ]
        }
      ]
    },
    {
      "cell_type": "code",
      "source": [
        "!pip install PyPDF2"
      ],
      "metadata": {
        "id": "qD6Ms6-4aqMj",
        "colab": {
          "base_uri": "https://localhost:8080/"
        },
        "outputId": "eeff5d8a-11b8-4c76-c529-8f32baa269b5"
      },
      "execution_count": 3,
      "outputs": [
        {
          "output_type": "stream",
          "name": "stdout",
          "text": [
            "Collecting PyPDF2\n",
            "  Downloading pypdf2-3.0.1-py3-none-any.whl (232 kB)\n",
            "\u001b[?25l     \u001b[90m━━━━━━━━━━━━━━━━━━━━━━━━━━━━━━━━━━━━━━━━\u001b[0m \u001b[32m0.0/232.6 kB\u001b[0m \u001b[31m?\u001b[0m eta \u001b[36m-:--:--\u001b[0m\r\u001b[2K     \u001b[91m━━━━━━━━━━━━━━━━━━\u001b[0m\u001b[91m╸\u001b[0m\u001b[90m━━━━━━━━━━━━━━━━━━━━\u001b[0m \u001b[32m112.6/232.6 kB\u001b[0m \u001b[31m3.3 MB/s\u001b[0m eta \u001b[36m0:00:01\u001b[0m\r\u001b[2K     \u001b[90m━━━━━━━━━━━━━━━━━━━━━━━━━━━━━━━━━━━━━━━\u001b[0m \u001b[32m232.6/232.6 kB\u001b[0m \u001b[31m3.9 MB/s\u001b[0m eta \u001b[36m0:00:00\u001b[0m\n",
            "\u001b[?25hInstalling collected packages: PyPDF2\n",
            "Successfully installed PyPDF2-3.0.1\n"
          ]
        }
      ]
    },
    {
      "cell_type": "markdown",
      "source": [
        "## **Import required packages**"
      ],
      "metadata": {
        "id": "1XlG9foZqgbL"
      }
    },
    {
      "cell_type": "code",
      "source": [
        "import pypdfium2 as pdfium\n",
        "import matplotlib.pyplot as plt\n",
        "import pandas as pd\n",
        "from PIL import Image\n",
        "from io import BytesIO\n",
        "import glob\n",
        "import os"
      ],
      "metadata": {
        "id": "-ssYZ8YYfFzR"
      },
      "execution_count": 4,
      "outputs": []
    },
    {
      "cell_type": "code",
      "source": [
        "df = pd.DataFrame(columns = ('filename', 'formtype', 'text_content', 'label'))\n",
        "df"
      ],
      "metadata": {
        "colab": {
          "base_uri": "https://localhost:8080/",
          "height": 53
        },
        "id": "rUZqK5HWxFjB",
        "outputId": "b73c8d22-075b-416f-98b5-665e4bacd42d"
      },
      "execution_count": null,
      "outputs": [
        {
          "output_type": "execute_result",
          "data": {
            "text/plain": [
              "Empty DataFrame\n",
              "Columns: [filename, formtype, text_content, label]\n",
              "Index: []"
            ],
            "text/html": [
              "\n",
              "  <div id=\"df-e67df4dd-f260-408c-9bc9-bd58972bfeb1\" class=\"colab-df-container\">\n",
              "    <div>\n",
              "<style scoped>\n",
              "    .dataframe tbody tr th:only-of-type {\n",
              "        vertical-align: middle;\n",
              "    }\n",
              "\n",
              "    .dataframe tbody tr th {\n",
              "        vertical-align: top;\n",
              "    }\n",
              "\n",
              "    .dataframe thead th {\n",
              "        text-align: right;\n",
              "    }\n",
              "</style>\n",
              "<table border=\"1\" class=\"dataframe\">\n",
              "  <thead>\n",
              "    <tr style=\"text-align: right;\">\n",
              "      <th></th>\n",
              "      <th>filename</th>\n",
              "      <th>formtype</th>\n",
              "      <th>text_content</th>\n",
              "      <th>label</th>\n",
              "    </tr>\n",
              "  </thead>\n",
              "  <tbody>\n",
              "  </tbody>\n",
              "</table>\n",
              "</div>\n",
              "    <div class=\"colab-df-buttons\">\n",
              "\n",
              "  <div class=\"colab-df-container\">\n",
              "    <button class=\"colab-df-convert\" onclick=\"convertToInteractive('df-e67df4dd-f260-408c-9bc9-bd58972bfeb1')\"\n",
              "            title=\"Convert this dataframe to an interactive table.\"\n",
              "            style=\"display:none;\">\n",
              "\n",
              "  <svg xmlns=\"http://www.w3.org/2000/svg\" height=\"24px\" viewBox=\"0 -960 960 960\">\n",
              "    <path d=\"M120-120v-720h720v720H120Zm60-500h600v-160H180v160Zm220 220h160v-160H400v160Zm0 220h160v-160H400v160ZM180-400h160v-160H180v160Zm440 0h160v-160H620v160ZM180-180h160v-160H180v160Zm440 0h160v-160H620v160Z\"/>\n",
              "  </svg>\n",
              "    </button>\n",
              "\n",
              "  <style>\n",
              "    .colab-df-container {\n",
              "      display:flex;\n",
              "      gap: 12px;\n",
              "    }\n",
              "\n",
              "    .colab-df-convert {\n",
              "      background-color: #E8F0FE;\n",
              "      border: none;\n",
              "      border-radius: 50%;\n",
              "      cursor: pointer;\n",
              "      display: none;\n",
              "      fill: #1967D2;\n",
              "      height: 32px;\n",
              "      padding: 0 0 0 0;\n",
              "      width: 32px;\n",
              "    }\n",
              "\n",
              "    .colab-df-convert:hover {\n",
              "      background-color: #E2EBFA;\n",
              "      box-shadow: 0px 1px 2px rgba(60, 64, 67, 0.3), 0px 1px 3px 1px rgba(60, 64, 67, 0.15);\n",
              "      fill: #174EA6;\n",
              "    }\n",
              "\n",
              "    .colab-df-buttons div {\n",
              "      margin-bottom: 4px;\n",
              "    }\n",
              "\n",
              "    [theme=dark] .colab-df-convert {\n",
              "      background-color: #3B4455;\n",
              "      fill: #D2E3FC;\n",
              "    }\n",
              "\n",
              "    [theme=dark] .colab-df-convert:hover {\n",
              "      background-color: #434B5C;\n",
              "      box-shadow: 0px 1px 3px 1px rgba(0, 0, 0, 0.15);\n",
              "      filter: drop-shadow(0px 1px 2px rgba(0, 0, 0, 0.3));\n",
              "      fill: #FFFFFF;\n",
              "    }\n",
              "  </style>\n",
              "\n",
              "    <script>\n",
              "      const buttonEl =\n",
              "        document.querySelector('#df-e67df4dd-f260-408c-9bc9-bd58972bfeb1 button.colab-df-convert');\n",
              "      buttonEl.style.display =\n",
              "        google.colab.kernel.accessAllowed ? 'block' : 'none';\n",
              "\n",
              "      async function convertToInteractive(key) {\n",
              "        const element = document.querySelector('#df-e67df4dd-f260-408c-9bc9-bd58972bfeb1');\n",
              "        const dataTable =\n",
              "          await google.colab.kernel.invokeFunction('convertToInteractive',\n",
              "                                                    [key], {});\n",
              "        if (!dataTable) return;\n",
              "\n",
              "        const docLinkHtml = 'Like what you see? Visit the ' +\n",
              "          '<a target=\"_blank\" href=https://colab.research.google.com/notebooks/data_table.ipynb>data table notebook</a>'\n",
              "          + ' to learn more about interactive tables.';\n",
              "        element.innerHTML = '';\n",
              "        dataTable['output_type'] = 'display_data';\n",
              "        await google.colab.output.renderOutput(dataTable, element);\n",
              "        const docLink = document.createElement('div');\n",
              "        docLink.innerHTML = docLinkHtml;\n",
              "        element.appendChild(docLink);\n",
              "      }\n",
              "    </script>\n",
              "  </div>\n",
              "\n",
              "    </div>\n",
              "  </div>\n"
            ]
          },
          "metadata": {},
          "execution_count": 7
        }
      ]
    },
    {
      "cell_type": "markdown",
      "source": [
        "## **Function to fetch the first page of all the pdf files**"
      ],
      "metadata": {
        "id": "0RCNdlH4qmVk"
      }
    },
    {
      "cell_type": "code",
      "source": [
        "def get_first_page_only(pdf_path):\n",
        "    pages_to_keep = [0] # page numbering starts from 0\n",
        "    infile = PdfReader(pdf_path, 'rb')\n",
        "    output = PdfWriter()\n",
        "\n",
        "    for i in pages_to_keep:\n",
        "        p = infile.pages[i]\n",
        "        output.add_page(p)\n",
        "\n",
        "    with open('/content/drive/MyDrive/modified_sec_edgar/' + os.path.split(pdf_path)[-1], 'wb') as f:\n",
        "        output.write(f)"
      ],
      "metadata": {
        "id": "kGHGH44OldMW"
      },
      "execution_count": null,
      "outputs": []
    },
    {
      "cell_type": "markdown",
      "source": [
        "## **Function to extract Text from Images**"
      ],
      "metadata": {
        "id": "WwbibdjKteCd"
      }
    },
    {
      "cell_type": "code",
      "source": [
        "def extract_text_with_easyocr(list_dict_final_images):\n",
        "\n",
        "    image_list = [list(data.values())[0] for data in list_dict_final_images]\n",
        "    image_content = []\n",
        "\n",
        "    for index, image_bytes in enumerate(image_list):\n",
        "\n",
        "        image = Image.open(BytesIO(image_bytes))\n",
        "        raw_text = language_reader.readtext(image)\n",
        "        raw_text = \"\\n\".join([res[1] for res in raw_text])\n",
        "\n",
        "        image_content.append(raw_text)\n",
        "\n",
        "    return \"\\n\".join(image_content)"
      ],
      "metadata": {
        "id": "pzYp7TY2fp8-"
      },
      "execution_count": null,
      "outputs": []
    },
    {
      "cell_type": "markdown",
      "source": [
        "## **Function to convert PDF to Images**"
      ],
      "metadata": {
        "id": "IaBhvbU7raF2"
      }
    },
    {
      "cell_type": "code",
      "source": [
        "def convert_pdf_to_images(file_path, scale=300/72):\n",
        "\n",
        "    pdf_file = pdfium.PdfDocument(file_path)\n",
        "    page_indices = [i for i in range(len(pdf_file))]\n",
        "\n",
        "    renderer = pdf_file.render(\n",
        "        pdfium.PdfBitmap.to_pil,\n",
        "        page_indices = page_indices,\n",
        "        scale = scale,\n",
        "    )\n",
        "\n",
        "    list_final_images = []\n",
        "\n",
        "    for i, image in zip(page_indices, renderer):\n",
        "\n",
        "        image_byte_array = BytesIO()\n",
        "        image.save(image_byte_array, format='jpeg', optimize=True)\n",
        "        image_byte_array = image_byte_array.getvalue()\n",
        "        list_final_images.append(dict({i:image_byte_array}))\n",
        "\n",
        "    # text_with_easy_ocr = extract_text_with_easyocr(list_final_images)\n",
        "\n",
        "    return list_final_images"
      ],
      "metadata": {
        "id": "sUftNg5LfKEb"
      },
      "execution_count": null,
      "outputs": []
    },
    {
      "cell_type": "markdown",
      "source": [
        "## **Function to display the converted Images**"
      ],
      "metadata": {
        "id": "M8wdYPSsrldI"
      }
    },
    {
      "cell_type": "code",
      "source": [
        "# def display_images(list_dict_final_images):\n",
        "\n",
        "#     all_images = [list(data.values())[0] for data in list_dict_final_images]\n",
        "\n",
        "#     for index, image_bytes in enumerate(all_images):\n",
        "\n",
        "#         image = Image.open(BytesIO(image_bytes))\n",
        "#         figure = plt.figure(figsize = (image.width / 100, image.height / 100))\n",
        "\n",
        "#         plt.title(f\"----- Page Number {index+1} -----\")\n",
        "#         plt.imshow(image)\n",
        "#         plt.axis(\"off\")\n",
        "#         plt.show()"
      ],
      "metadata": {
        "id": "6y4Mf6HifO_h"
      },
      "execution_count": null,
      "outputs": []
    },
    {
      "cell_type": "code",
      "source": [
        "# Passing all the complete pdf files to fetch the first page and store in a seperate directory\n",
        "\n",
        "pdfs = glob.glob('/content/drive/MyDrive/sec_edgar/*.pdf')\n",
        "for i in pdfs:\n",
        "    get_first_page_only(i)"
      ],
      "metadata": {
        "id": "5dvVYp00nCZD"
      },
      "execution_count": null,
      "outputs": []
    },
    {
      "cell_type": "code",
      "source": [
        "# Populating the 'filename' column with the pdf names\n",
        "\n",
        "pdfs = glob.glob('/content/drive/MyDrive/sec_edgar/*.pdf')\n",
        "for n, file in zip(range(len(pdfs)), pdfs):\n",
        "    df.at[n, 'filename'] = os.path.split(file)[-1]"
      ],
      "metadata": {
        "id": "Gn7NJD4IzYwk"
      },
      "execution_count": null,
      "outputs": []
    },
    {
      "cell_type": "code",
      "source": [
        "# df.to_excel(\"SEC NLP Assignment.xlsx\")"
      ],
      "metadata": {
        "id": "oEdG1Ac52jVp"
      },
      "execution_count": null,
      "outputs": []
    },
    {
      "cell_type": "code",
      "source": [
        "df = pd.read_csv('/content/drive/MyDrive/SEC NLP Assignment.csv')\n",
        "df"
      ],
      "metadata": {
        "colab": {
          "base_uri": "https://localhost:8080/",
          "height": 423
        },
        "id": "NvLLGO9RH5LU",
        "outputId": "de5f8adf-129d-47dd-b337-eb5133d4c479"
      },
      "execution_count": null,
      "outputs": [
        {
          "output_type": "execute_result",
          "data": {
            "text/plain": [
              "     Unnamed: 0      filename    formtype  text_content  label\n",
              "0             0  00049397.pdf      Form D           NaN    NaN\n",
              "1             1  00068790.pdf      Form D           NaN    NaN\n",
              "2             2  00092635.pdf      Form D           NaN    NaN\n",
              "3             3  00092782.pdf    Form 13F           NaN    NaN\n",
              "4             4  00092785.pdf      Form D           NaN    NaN\n",
              "..          ...           ...         ...           ...    ...\n",
              "299         299  01082108.pdf  Form 19B-4           NaN    NaN\n",
              "300         300  01082109.pdf    Form 13F           NaN    NaN\n",
              "301         301  01082110.pdf    Form 13F           NaN    NaN\n",
              "302         302  01082111.pdf    Form 13F           NaN    NaN\n",
              "303         303  01082112.pdf    Form 13F           NaN    NaN\n",
              "\n",
              "[304 rows x 5 columns]"
            ],
            "text/html": [
              "\n",
              "  <div id=\"df-54992d77-29cf-4528-b724-1985b69766fb\" class=\"colab-df-container\">\n",
              "    <div>\n",
              "<style scoped>\n",
              "    .dataframe tbody tr th:only-of-type {\n",
              "        vertical-align: middle;\n",
              "    }\n",
              "\n",
              "    .dataframe tbody tr th {\n",
              "        vertical-align: top;\n",
              "    }\n",
              "\n",
              "    .dataframe thead th {\n",
              "        text-align: right;\n",
              "    }\n",
              "</style>\n",
              "<table border=\"1\" class=\"dataframe\">\n",
              "  <thead>\n",
              "    <tr style=\"text-align: right;\">\n",
              "      <th></th>\n",
              "      <th>Unnamed: 0</th>\n",
              "      <th>filename</th>\n",
              "      <th>formtype</th>\n",
              "      <th>text_content</th>\n",
              "      <th>label</th>\n",
              "    </tr>\n",
              "  </thead>\n",
              "  <tbody>\n",
              "    <tr>\n",
              "      <th>0</th>\n",
              "      <td>0</td>\n",
              "      <td>00049397.pdf</td>\n",
              "      <td>Form D</td>\n",
              "      <td>NaN</td>\n",
              "      <td>NaN</td>\n",
              "    </tr>\n",
              "    <tr>\n",
              "      <th>1</th>\n",
              "      <td>1</td>\n",
              "      <td>00068790.pdf</td>\n",
              "      <td>Form D</td>\n",
              "      <td>NaN</td>\n",
              "      <td>NaN</td>\n",
              "    </tr>\n",
              "    <tr>\n",
              "      <th>2</th>\n",
              "      <td>2</td>\n",
              "      <td>00092635.pdf</td>\n",
              "      <td>Form D</td>\n",
              "      <td>NaN</td>\n",
              "      <td>NaN</td>\n",
              "    </tr>\n",
              "    <tr>\n",
              "      <th>3</th>\n",
              "      <td>3</td>\n",
              "      <td>00092782.pdf</td>\n",
              "      <td>Form 13F</td>\n",
              "      <td>NaN</td>\n",
              "      <td>NaN</td>\n",
              "    </tr>\n",
              "    <tr>\n",
              "      <th>4</th>\n",
              "      <td>4</td>\n",
              "      <td>00092785.pdf</td>\n",
              "      <td>Form D</td>\n",
              "      <td>NaN</td>\n",
              "      <td>NaN</td>\n",
              "    </tr>\n",
              "    <tr>\n",
              "      <th>...</th>\n",
              "      <td>...</td>\n",
              "      <td>...</td>\n",
              "      <td>...</td>\n",
              "      <td>...</td>\n",
              "      <td>...</td>\n",
              "    </tr>\n",
              "    <tr>\n",
              "      <th>299</th>\n",
              "      <td>299</td>\n",
              "      <td>01082108.pdf</td>\n",
              "      <td>Form 19B-4</td>\n",
              "      <td>NaN</td>\n",
              "      <td>NaN</td>\n",
              "    </tr>\n",
              "    <tr>\n",
              "      <th>300</th>\n",
              "      <td>300</td>\n",
              "      <td>01082109.pdf</td>\n",
              "      <td>Form 13F</td>\n",
              "      <td>NaN</td>\n",
              "      <td>NaN</td>\n",
              "    </tr>\n",
              "    <tr>\n",
              "      <th>301</th>\n",
              "      <td>301</td>\n",
              "      <td>01082110.pdf</td>\n",
              "      <td>Form 13F</td>\n",
              "      <td>NaN</td>\n",
              "      <td>NaN</td>\n",
              "    </tr>\n",
              "    <tr>\n",
              "      <th>302</th>\n",
              "      <td>302</td>\n",
              "      <td>01082111.pdf</td>\n",
              "      <td>Form 13F</td>\n",
              "      <td>NaN</td>\n",
              "      <td>NaN</td>\n",
              "    </tr>\n",
              "    <tr>\n",
              "      <th>303</th>\n",
              "      <td>303</td>\n",
              "      <td>01082112.pdf</td>\n",
              "      <td>Form 13F</td>\n",
              "      <td>NaN</td>\n",
              "      <td>NaN</td>\n",
              "    </tr>\n",
              "  </tbody>\n",
              "</table>\n",
              "<p>304 rows × 5 columns</p>\n",
              "</div>\n",
              "    <div class=\"colab-df-buttons\">\n",
              "\n",
              "  <div class=\"colab-df-container\">\n",
              "    <button class=\"colab-df-convert\" onclick=\"convertToInteractive('df-54992d77-29cf-4528-b724-1985b69766fb')\"\n",
              "            title=\"Convert this dataframe to an interactive table.\"\n",
              "            style=\"display:none;\">\n",
              "\n",
              "  <svg xmlns=\"http://www.w3.org/2000/svg\" height=\"24px\" viewBox=\"0 -960 960 960\">\n",
              "    <path d=\"M120-120v-720h720v720H120Zm60-500h600v-160H180v160Zm220 220h160v-160H400v160Zm0 220h160v-160H400v160ZM180-400h160v-160H180v160Zm440 0h160v-160H620v160ZM180-180h160v-160H180v160Zm440 0h160v-160H620v160Z\"/>\n",
              "  </svg>\n",
              "    </button>\n",
              "\n",
              "  <style>\n",
              "    .colab-df-container {\n",
              "      display:flex;\n",
              "      gap: 12px;\n",
              "    }\n",
              "\n",
              "    .colab-df-convert {\n",
              "      background-color: #E8F0FE;\n",
              "      border: none;\n",
              "      border-radius: 50%;\n",
              "      cursor: pointer;\n",
              "      display: none;\n",
              "      fill: #1967D2;\n",
              "      height: 32px;\n",
              "      padding: 0 0 0 0;\n",
              "      width: 32px;\n",
              "    }\n",
              "\n",
              "    .colab-df-convert:hover {\n",
              "      background-color: #E2EBFA;\n",
              "      box-shadow: 0px 1px 2px rgba(60, 64, 67, 0.3), 0px 1px 3px 1px rgba(60, 64, 67, 0.15);\n",
              "      fill: #174EA6;\n",
              "    }\n",
              "\n",
              "    .colab-df-buttons div {\n",
              "      margin-bottom: 4px;\n",
              "    }\n",
              "\n",
              "    [theme=dark] .colab-df-convert {\n",
              "      background-color: #3B4455;\n",
              "      fill: #D2E3FC;\n",
              "    }\n",
              "\n",
              "    [theme=dark] .colab-df-convert:hover {\n",
              "      background-color: #434B5C;\n",
              "      box-shadow: 0px 1px 3px 1px rgba(0, 0, 0, 0.15);\n",
              "      filter: drop-shadow(0px 1px 2px rgba(0, 0, 0, 0.3));\n",
              "      fill: #FFFFFF;\n",
              "    }\n",
              "  </style>\n",
              "\n",
              "    <script>\n",
              "      const buttonEl =\n",
              "        document.querySelector('#df-54992d77-29cf-4528-b724-1985b69766fb button.colab-df-convert');\n",
              "      buttonEl.style.display =\n",
              "        google.colab.kernel.accessAllowed ? 'block' : 'none';\n",
              "\n",
              "      async function convertToInteractive(key) {\n",
              "        const element = document.querySelector('#df-54992d77-29cf-4528-b724-1985b69766fb');\n",
              "        const dataTable =\n",
              "          await google.colab.kernel.invokeFunction('convertToInteractive',\n",
              "                                                    [key], {});\n",
              "        if (!dataTable) return;\n",
              "\n",
              "        const docLinkHtml = 'Like what you see? Visit the ' +\n",
              "          '<a target=\"_blank\" href=https://colab.research.google.com/notebooks/data_table.ipynb>data table notebook</a>'\n",
              "          + ' to learn more about interactive tables.';\n",
              "        element.innerHTML = '';\n",
              "        dataTable['output_type'] = 'display_data';\n",
              "        await google.colab.output.renderOutput(dataTable, element);\n",
              "        const docLink = document.createElement('div');\n",
              "        docLink.innerHTML = docLinkHtml;\n",
              "        element.appendChild(docLink);\n",
              "      }\n",
              "    </script>\n",
              "  </div>\n",
              "\n",
              "\n",
              "<div id=\"df-57d0b369-bac4-415c-81e3-811a4d0a6f51\">\n",
              "  <button class=\"colab-df-quickchart\" onclick=\"quickchart('df-57d0b369-bac4-415c-81e3-811a4d0a6f51')\"\n",
              "            title=\"Suggest charts.\"\n",
              "            style=\"display:none;\">\n",
              "\n",
              "<svg xmlns=\"http://www.w3.org/2000/svg\" height=\"24px\"viewBox=\"0 0 24 24\"\n",
              "     width=\"24px\">\n",
              "    <g>\n",
              "        <path d=\"M19 3H5c-1.1 0-2 .9-2 2v14c0 1.1.9 2 2 2h14c1.1 0 2-.9 2-2V5c0-1.1-.9-2-2-2zM9 17H7v-7h2v7zm4 0h-2V7h2v10zm4 0h-2v-4h2v4z\"/>\n",
              "    </g>\n",
              "</svg>\n",
              "  </button>\n",
              "\n",
              "<style>\n",
              "  .colab-df-quickchart {\n",
              "      --bg-color: #E8F0FE;\n",
              "      --fill-color: #1967D2;\n",
              "      --hover-bg-color: #E2EBFA;\n",
              "      --hover-fill-color: #174EA6;\n",
              "      --disabled-fill-color: #AAA;\n",
              "      --disabled-bg-color: #DDD;\n",
              "  }\n",
              "\n",
              "  [theme=dark] .colab-df-quickchart {\n",
              "      --bg-color: #3B4455;\n",
              "      --fill-color: #D2E3FC;\n",
              "      --hover-bg-color: #434B5C;\n",
              "      --hover-fill-color: #FFFFFF;\n",
              "      --disabled-bg-color: #3B4455;\n",
              "      --disabled-fill-color: #666;\n",
              "  }\n",
              "\n",
              "  .colab-df-quickchart {\n",
              "    background-color: var(--bg-color);\n",
              "    border: none;\n",
              "    border-radius: 50%;\n",
              "    cursor: pointer;\n",
              "    display: none;\n",
              "    fill: var(--fill-color);\n",
              "    height: 32px;\n",
              "    padding: 0;\n",
              "    width: 32px;\n",
              "  }\n",
              "\n",
              "  .colab-df-quickchart:hover {\n",
              "    background-color: var(--hover-bg-color);\n",
              "    box-shadow: 0 1px 2px rgba(60, 64, 67, 0.3), 0 1px 3px 1px rgba(60, 64, 67, 0.15);\n",
              "    fill: var(--button-hover-fill-color);\n",
              "  }\n",
              "\n",
              "  .colab-df-quickchart-complete:disabled,\n",
              "  .colab-df-quickchart-complete:disabled:hover {\n",
              "    background-color: var(--disabled-bg-color);\n",
              "    fill: var(--disabled-fill-color);\n",
              "    box-shadow: none;\n",
              "  }\n",
              "\n",
              "  .colab-df-spinner {\n",
              "    border: 2px solid var(--fill-color);\n",
              "    border-color: transparent;\n",
              "    border-bottom-color: var(--fill-color);\n",
              "    animation:\n",
              "      spin 1s steps(1) infinite;\n",
              "  }\n",
              "\n",
              "  @keyframes spin {\n",
              "    0% {\n",
              "      border-color: transparent;\n",
              "      border-bottom-color: var(--fill-color);\n",
              "      border-left-color: var(--fill-color);\n",
              "    }\n",
              "    20% {\n",
              "      border-color: transparent;\n",
              "      border-left-color: var(--fill-color);\n",
              "      border-top-color: var(--fill-color);\n",
              "    }\n",
              "    30% {\n",
              "      border-color: transparent;\n",
              "      border-left-color: var(--fill-color);\n",
              "      border-top-color: var(--fill-color);\n",
              "      border-right-color: var(--fill-color);\n",
              "    }\n",
              "    40% {\n",
              "      border-color: transparent;\n",
              "      border-right-color: var(--fill-color);\n",
              "      border-top-color: var(--fill-color);\n",
              "    }\n",
              "    60% {\n",
              "      border-color: transparent;\n",
              "      border-right-color: var(--fill-color);\n",
              "    }\n",
              "    80% {\n",
              "      border-color: transparent;\n",
              "      border-right-color: var(--fill-color);\n",
              "      border-bottom-color: var(--fill-color);\n",
              "    }\n",
              "    90% {\n",
              "      border-color: transparent;\n",
              "      border-bottom-color: var(--fill-color);\n",
              "    }\n",
              "  }\n",
              "</style>\n",
              "\n",
              "  <script>\n",
              "    async function quickchart(key) {\n",
              "      const quickchartButtonEl =\n",
              "        document.querySelector('#' + key + ' button');\n",
              "      quickchartButtonEl.disabled = true;  // To prevent multiple clicks.\n",
              "      quickchartButtonEl.classList.add('colab-df-spinner');\n",
              "      try {\n",
              "        const charts = await google.colab.kernel.invokeFunction(\n",
              "            'suggestCharts', [key], {});\n",
              "      } catch (error) {\n",
              "        console.error('Error during call to suggestCharts:', error);\n",
              "      }\n",
              "      quickchartButtonEl.classList.remove('colab-df-spinner');\n",
              "      quickchartButtonEl.classList.add('colab-df-quickchart-complete');\n",
              "    }\n",
              "    (() => {\n",
              "      let quickchartButtonEl =\n",
              "        document.querySelector('#df-57d0b369-bac4-415c-81e3-811a4d0a6f51 button');\n",
              "      quickchartButtonEl.style.display =\n",
              "        google.colab.kernel.accessAllowed ? 'block' : 'none';\n",
              "    })();\n",
              "  </script>\n",
              "</div>\n",
              "    </div>\n",
              "  </div>\n"
            ]
          },
          "metadata": {},
          "execution_count": 11
        }
      ]
    },
    {
      "cell_type": "code",
      "source": [
        "# Labelling the different Form types with distinct labels\n",
        "\n",
        "for i in range(0, 304):\n",
        "    if df.at[i, 'formtype']=='Form D':\n",
        "      df.at[i, 'label'] = 0\n",
        "    elif df.at[i, 'formtype']=='Form 13F':\n",
        "      df.at[i, 'label'] = 1\n",
        "    elif df.at[i, 'formtype']=='Form X-17A-5':\n",
        "      df.at[i, 'label'] = 2\n",
        "    elif df.at[i, 'formtype']=='Form TA-2':\n",
        "      df.at[i, 'label'] = 3\n",
        "    elif df.at[i, 'formtype']=='Form 6-K':\n",
        "      df.at[i, 'label'] = 4\n",
        "    elif df.at[i, 'formtype']=='Form 11-K':\n",
        "      df.at[i, 'label'] = 5\n",
        "    elif df.at[i, 'formtype']=='Form 19B-4':\n",
        "      df.at[i, 'label'] = 6\n",
        "    elif df.at[i, 'formtype']=='Other':\n",
        "      df.at[i, 'label'] = 7"
      ],
      "metadata": {
        "id": "GSpOSYI2IN25"
      },
      "execution_count": null,
      "outputs": []
    },
    {
      "cell_type": "code",
      "source": [
        "df"
      ],
      "metadata": {
        "colab": {
          "base_uri": "https://localhost:8080/",
          "height": 423
        },
        "id": "MR97KFnRIN5N",
        "outputId": "e0fb4be3-d844-4b8c-f04e-abc7b7bc596c"
      },
      "execution_count": null,
      "outputs": [
        {
          "output_type": "execute_result",
          "data": {
            "text/plain": [
              "     Unnamed: 0      filename    formtype  text_content  label\n",
              "0             0  00049397.pdf      Form D           NaN    0.0\n",
              "1             1  00068790.pdf      Form D           NaN    0.0\n",
              "2             2  00092635.pdf      Form D           NaN    0.0\n",
              "3             3  00092782.pdf    Form 13F           NaN    1.0\n",
              "4             4  00092785.pdf      Form D           NaN    0.0\n",
              "..          ...           ...         ...           ...    ...\n",
              "299         299  01082108.pdf  Form 19B-4           NaN    6.0\n",
              "300         300  01082109.pdf    Form 13F           NaN    1.0\n",
              "301         301  01082110.pdf    Form 13F           NaN    1.0\n",
              "302         302  01082111.pdf    Form 13F           NaN    1.0\n",
              "303         303  01082112.pdf    Form 13F           NaN    1.0\n",
              "\n",
              "[304 rows x 5 columns]"
            ],
            "text/html": [
              "\n",
              "  <div id=\"df-ed282d6a-cafd-4dbb-a98b-56cba48f7510\" class=\"colab-df-container\">\n",
              "    <div>\n",
              "<style scoped>\n",
              "    .dataframe tbody tr th:only-of-type {\n",
              "        vertical-align: middle;\n",
              "    }\n",
              "\n",
              "    .dataframe tbody tr th {\n",
              "        vertical-align: top;\n",
              "    }\n",
              "\n",
              "    .dataframe thead th {\n",
              "        text-align: right;\n",
              "    }\n",
              "</style>\n",
              "<table border=\"1\" class=\"dataframe\">\n",
              "  <thead>\n",
              "    <tr style=\"text-align: right;\">\n",
              "      <th></th>\n",
              "      <th>Unnamed: 0</th>\n",
              "      <th>filename</th>\n",
              "      <th>formtype</th>\n",
              "      <th>text_content</th>\n",
              "      <th>label</th>\n",
              "    </tr>\n",
              "  </thead>\n",
              "  <tbody>\n",
              "    <tr>\n",
              "      <th>0</th>\n",
              "      <td>0</td>\n",
              "      <td>00049397.pdf</td>\n",
              "      <td>Form D</td>\n",
              "      <td>NaN</td>\n",
              "      <td>0.0</td>\n",
              "    </tr>\n",
              "    <tr>\n",
              "      <th>1</th>\n",
              "      <td>1</td>\n",
              "      <td>00068790.pdf</td>\n",
              "      <td>Form D</td>\n",
              "      <td>NaN</td>\n",
              "      <td>0.0</td>\n",
              "    </tr>\n",
              "    <tr>\n",
              "      <th>2</th>\n",
              "      <td>2</td>\n",
              "      <td>00092635.pdf</td>\n",
              "      <td>Form D</td>\n",
              "      <td>NaN</td>\n",
              "      <td>0.0</td>\n",
              "    </tr>\n",
              "    <tr>\n",
              "      <th>3</th>\n",
              "      <td>3</td>\n",
              "      <td>00092782.pdf</td>\n",
              "      <td>Form 13F</td>\n",
              "      <td>NaN</td>\n",
              "      <td>1.0</td>\n",
              "    </tr>\n",
              "    <tr>\n",
              "      <th>4</th>\n",
              "      <td>4</td>\n",
              "      <td>00092785.pdf</td>\n",
              "      <td>Form D</td>\n",
              "      <td>NaN</td>\n",
              "      <td>0.0</td>\n",
              "    </tr>\n",
              "    <tr>\n",
              "      <th>...</th>\n",
              "      <td>...</td>\n",
              "      <td>...</td>\n",
              "      <td>...</td>\n",
              "      <td>...</td>\n",
              "      <td>...</td>\n",
              "    </tr>\n",
              "    <tr>\n",
              "      <th>299</th>\n",
              "      <td>299</td>\n",
              "      <td>01082108.pdf</td>\n",
              "      <td>Form 19B-4</td>\n",
              "      <td>NaN</td>\n",
              "      <td>6.0</td>\n",
              "    </tr>\n",
              "    <tr>\n",
              "      <th>300</th>\n",
              "      <td>300</td>\n",
              "      <td>01082109.pdf</td>\n",
              "      <td>Form 13F</td>\n",
              "      <td>NaN</td>\n",
              "      <td>1.0</td>\n",
              "    </tr>\n",
              "    <tr>\n",
              "      <th>301</th>\n",
              "      <td>301</td>\n",
              "      <td>01082110.pdf</td>\n",
              "      <td>Form 13F</td>\n",
              "      <td>NaN</td>\n",
              "      <td>1.0</td>\n",
              "    </tr>\n",
              "    <tr>\n",
              "      <th>302</th>\n",
              "      <td>302</td>\n",
              "      <td>01082111.pdf</td>\n",
              "      <td>Form 13F</td>\n",
              "      <td>NaN</td>\n",
              "      <td>1.0</td>\n",
              "    </tr>\n",
              "    <tr>\n",
              "      <th>303</th>\n",
              "      <td>303</td>\n",
              "      <td>01082112.pdf</td>\n",
              "      <td>Form 13F</td>\n",
              "      <td>NaN</td>\n",
              "      <td>1.0</td>\n",
              "    </tr>\n",
              "  </tbody>\n",
              "</table>\n",
              "<p>304 rows × 5 columns</p>\n",
              "</div>\n",
              "    <div class=\"colab-df-buttons\">\n",
              "\n",
              "  <div class=\"colab-df-container\">\n",
              "    <button class=\"colab-df-convert\" onclick=\"convertToInteractive('df-ed282d6a-cafd-4dbb-a98b-56cba48f7510')\"\n",
              "            title=\"Convert this dataframe to an interactive table.\"\n",
              "            style=\"display:none;\">\n",
              "\n",
              "  <svg xmlns=\"http://www.w3.org/2000/svg\" height=\"24px\" viewBox=\"0 -960 960 960\">\n",
              "    <path d=\"M120-120v-720h720v720H120Zm60-500h600v-160H180v160Zm220 220h160v-160H400v160Zm0 220h160v-160H400v160ZM180-400h160v-160H180v160Zm440 0h160v-160H620v160ZM180-180h160v-160H180v160Zm440 0h160v-160H620v160Z\"/>\n",
              "  </svg>\n",
              "    </button>\n",
              "\n",
              "  <style>\n",
              "    .colab-df-container {\n",
              "      display:flex;\n",
              "      gap: 12px;\n",
              "    }\n",
              "\n",
              "    .colab-df-convert {\n",
              "      background-color: #E8F0FE;\n",
              "      border: none;\n",
              "      border-radius: 50%;\n",
              "      cursor: pointer;\n",
              "      display: none;\n",
              "      fill: #1967D2;\n",
              "      height: 32px;\n",
              "      padding: 0 0 0 0;\n",
              "      width: 32px;\n",
              "    }\n",
              "\n",
              "    .colab-df-convert:hover {\n",
              "      background-color: #E2EBFA;\n",
              "      box-shadow: 0px 1px 2px rgba(60, 64, 67, 0.3), 0px 1px 3px 1px rgba(60, 64, 67, 0.15);\n",
              "      fill: #174EA6;\n",
              "    }\n",
              "\n",
              "    .colab-df-buttons div {\n",
              "      margin-bottom: 4px;\n",
              "    }\n",
              "\n",
              "    [theme=dark] .colab-df-convert {\n",
              "      background-color: #3B4455;\n",
              "      fill: #D2E3FC;\n",
              "    }\n",
              "\n",
              "    [theme=dark] .colab-df-convert:hover {\n",
              "      background-color: #434B5C;\n",
              "      box-shadow: 0px 1px 3px 1px rgba(0, 0, 0, 0.15);\n",
              "      filter: drop-shadow(0px 1px 2px rgba(0, 0, 0, 0.3));\n",
              "      fill: #FFFFFF;\n",
              "    }\n",
              "  </style>\n",
              "\n",
              "    <script>\n",
              "      const buttonEl =\n",
              "        document.querySelector('#df-ed282d6a-cafd-4dbb-a98b-56cba48f7510 button.colab-df-convert');\n",
              "      buttonEl.style.display =\n",
              "        google.colab.kernel.accessAllowed ? 'block' : 'none';\n",
              "\n",
              "      async function convertToInteractive(key) {\n",
              "        const element = document.querySelector('#df-ed282d6a-cafd-4dbb-a98b-56cba48f7510');\n",
              "        const dataTable =\n",
              "          await google.colab.kernel.invokeFunction('convertToInteractive',\n",
              "                                                    [key], {});\n",
              "        if (!dataTable) return;\n",
              "\n",
              "        const docLinkHtml = 'Like what you see? Visit the ' +\n",
              "          '<a target=\"_blank\" href=https://colab.research.google.com/notebooks/data_table.ipynb>data table notebook</a>'\n",
              "          + ' to learn more about interactive tables.';\n",
              "        element.innerHTML = '';\n",
              "        dataTable['output_type'] = 'display_data';\n",
              "        await google.colab.output.renderOutput(dataTable, element);\n",
              "        const docLink = document.createElement('div');\n",
              "        docLink.innerHTML = docLinkHtml;\n",
              "        element.appendChild(docLink);\n",
              "      }\n",
              "    </script>\n",
              "  </div>\n",
              "\n",
              "\n",
              "<div id=\"df-8286dfd1-4f0e-4e02-8862-aa4f76fd25a9\">\n",
              "  <button class=\"colab-df-quickchart\" onclick=\"quickchart('df-8286dfd1-4f0e-4e02-8862-aa4f76fd25a9')\"\n",
              "            title=\"Suggest charts.\"\n",
              "            style=\"display:none;\">\n",
              "\n",
              "<svg xmlns=\"http://www.w3.org/2000/svg\" height=\"24px\"viewBox=\"0 0 24 24\"\n",
              "     width=\"24px\">\n",
              "    <g>\n",
              "        <path d=\"M19 3H5c-1.1 0-2 .9-2 2v14c0 1.1.9 2 2 2h14c1.1 0 2-.9 2-2V5c0-1.1-.9-2-2-2zM9 17H7v-7h2v7zm4 0h-2V7h2v10zm4 0h-2v-4h2v4z\"/>\n",
              "    </g>\n",
              "</svg>\n",
              "  </button>\n",
              "\n",
              "<style>\n",
              "  .colab-df-quickchart {\n",
              "      --bg-color: #E8F0FE;\n",
              "      --fill-color: #1967D2;\n",
              "      --hover-bg-color: #E2EBFA;\n",
              "      --hover-fill-color: #174EA6;\n",
              "      --disabled-fill-color: #AAA;\n",
              "      --disabled-bg-color: #DDD;\n",
              "  }\n",
              "\n",
              "  [theme=dark] .colab-df-quickchart {\n",
              "      --bg-color: #3B4455;\n",
              "      --fill-color: #D2E3FC;\n",
              "      --hover-bg-color: #434B5C;\n",
              "      --hover-fill-color: #FFFFFF;\n",
              "      --disabled-bg-color: #3B4455;\n",
              "      --disabled-fill-color: #666;\n",
              "  }\n",
              "\n",
              "  .colab-df-quickchart {\n",
              "    background-color: var(--bg-color);\n",
              "    border: none;\n",
              "    border-radius: 50%;\n",
              "    cursor: pointer;\n",
              "    display: none;\n",
              "    fill: var(--fill-color);\n",
              "    height: 32px;\n",
              "    padding: 0;\n",
              "    width: 32px;\n",
              "  }\n",
              "\n",
              "  .colab-df-quickchart:hover {\n",
              "    background-color: var(--hover-bg-color);\n",
              "    box-shadow: 0 1px 2px rgba(60, 64, 67, 0.3), 0 1px 3px 1px rgba(60, 64, 67, 0.15);\n",
              "    fill: var(--button-hover-fill-color);\n",
              "  }\n",
              "\n",
              "  .colab-df-quickchart-complete:disabled,\n",
              "  .colab-df-quickchart-complete:disabled:hover {\n",
              "    background-color: var(--disabled-bg-color);\n",
              "    fill: var(--disabled-fill-color);\n",
              "    box-shadow: none;\n",
              "  }\n",
              "\n",
              "  .colab-df-spinner {\n",
              "    border: 2px solid var(--fill-color);\n",
              "    border-color: transparent;\n",
              "    border-bottom-color: var(--fill-color);\n",
              "    animation:\n",
              "      spin 1s steps(1) infinite;\n",
              "  }\n",
              "\n",
              "  @keyframes spin {\n",
              "    0% {\n",
              "      border-color: transparent;\n",
              "      border-bottom-color: var(--fill-color);\n",
              "      border-left-color: var(--fill-color);\n",
              "    }\n",
              "    20% {\n",
              "      border-color: transparent;\n",
              "      border-left-color: var(--fill-color);\n",
              "      border-top-color: var(--fill-color);\n",
              "    }\n",
              "    30% {\n",
              "      border-color: transparent;\n",
              "      border-left-color: var(--fill-color);\n",
              "      border-top-color: var(--fill-color);\n",
              "      border-right-color: var(--fill-color);\n",
              "    }\n",
              "    40% {\n",
              "      border-color: transparent;\n",
              "      border-right-color: var(--fill-color);\n",
              "      border-top-color: var(--fill-color);\n",
              "    }\n",
              "    60% {\n",
              "      border-color: transparent;\n",
              "      border-right-color: var(--fill-color);\n",
              "    }\n",
              "    80% {\n",
              "      border-color: transparent;\n",
              "      border-right-color: var(--fill-color);\n",
              "      border-bottom-color: var(--fill-color);\n",
              "    }\n",
              "    90% {\n",
              "      border-color: transparent;\n",
              "      border-bottom-color: var(--fill-color);\n",
              "    }\n",
              "  }\n",
              "</style>\n",
              "\n",
              "  <script>\n",
              "    async function quickchart(key) {\n",
              "      const quickchartButtonEl =\n",
              "        document.querySelector('#' + key + ' button');\n",
              "      quickchartButtonEl.disabled = true;  // To prevent multiple clicks.\n",
              "      quickchartButtonEl.classList.add('colab-df-spinner');\n",
              "      try {\n",
              "        const charts = await google.colab.kernel.invokeFunction(\n",
              "            'suggestCharts', [key], {});\n",
              "      } catch (error) {\n",
              "        console.error('Error during call to suggestCharts:', error);\n",
              "      }\n",
              "      quickchartButtonEl.classList.remove('colab-df-spinner');\n",
              "      quickchartButtonEl.classList.add('colab-df-quickchart-complete');\n",
              "    }\n",
              "    (() => {\n",
              "      let quickchartButtonEl =\n",
              "        document.querySelector('#df-8286dfd1-4f0e-4e02-8862-aa4f76fd25a9 button');\n",
              "      quickchartButtonEl.style.display =\n",
              "        google.colab.kernel.accessAllowed ? 'block' : 'none';\n",
              "    })();\n",
              "  </script>\n",
              "</div>\n",
              "    </div>\n",
              "  </div>\n"
            ]
          },
          "metadata": {},
          "execution_count": 13
        }
      ]
    },
    {
      "cell_type": "markdown",
      "source": [
        "## **Function call to extract text from all the pdf files**"
      ],
      "metadata": {
        "id": "RMePcTXv596i"
      }
    },
    {
      "cell_type": "code",
      "source": [
        "mod_pdfs = glob.glob('/content/drive/MyDrive/modified_sec_edgar/*.pdf')\n",
        "all_pdf_content = []      # list to get the pdf text content\n",
        "for i in mod_pdfs:\n",
        "  print(i)\n",
        "  converted_image = convert_pdf_to_images(i)\n",
        "  text_with_easy_ocr = extract_text_with_easyocr(converted_image)\n",
        "  all_pdf_content.append(text_with_easy_ocr)"
      ],
      "metadata": {
        "colab": {
          "base_uri": "https://localhost:8080/"
        },
        "id": "sEYXGk0piClV",
        "outputId": "e3ccd384-92a5-4546-81ec-f4cfbbc8e356"
      },
      "execution_count": null,
      "outputs": [
        {
          "output_type": "stream",
          "name": "stdout",
          "text": [
            "/content/drive/MyDrive/modified_sec_edgar/00049397.pdf\n",
            "/content/drive/MyDrive/modified_sec_edgar/00068790.pdf\n",
            "/content/drive/MyDrive/modified_sec_edgar/00092635.pdf\n",
            "/content/drive/MyDrive/modified_sec_edgar/00092782.pdf\n",
            "/content/drive/MyDrive/modified_sec_edgar/00092785.pdf\n",
            "/content/drive/MyDrive/modified_sec_edgar/00092786.pdf\n",
            "/content/drive/MyDrive/modified_sec_edgar/00092787.pdf\n",
            "/content/drive/MyDrive/modified_sec_edgar/00092788.pdf\n",
            "/content/drive/MyDrive/modified_sec_edgar/00092789.pdf\n",
            "/content/drive/MyDrive/modified_sec_edgar/00092791.pdf\n",
            "/content/drive/MyDrive/modified_sec_edgar/00092793.pdf\n",
            "/content/drive/MyDrive/modified_sec_edgar/00092794.pdf\n",
            "/content/drive/MyDrive/modified_sec_edgar/00092795.pdf\n",
            "/content/drive/MyDrive/modified_sec_edgar/00092796.pdf\n",
            "/content/drive/MyDrive/modified_sec_edgar/00092797.pdf\n",
            "/content/drive/MyDrive/modified_sec_edgar/00092798.pdf\n",
            "/content/drive/MyDrive/modified_sec_edgar/00092799.pdf\n",
            "/content/drive/MyDrive/modified_sec_edgar/00092800.pdf\n",
            "/content/drive/MyDrive/modified_sec_edgar/00098683.pdf\n",
            "/content/drive/MyDrive/modified_sec_edgar/00099153.pdf\n",
            "/content/drive/MyDrive/modified_sec_edgar/00099155.pdf\n",
            "/content/drive/MyDrive/modified_sec_edgar/00104242.pdf\n",
            "/content/drive/MyDrive/modified_sec_edgar/00104243.pdf\n",
            "/content/drive/MyDrive/modified_sec_edgar/00104244.pdf\n",
            "/content/drive/MyDrive/modified_sec_edgar/00104245.pdf\n",
            "/content/drive/MyDrive/modified_sec_edgar/00104246.pdf\n",
            "/content/drive/MyDrive/modified_sec_edgar/00104247.pdf\n",
            "/content/drive/MyDrive/modified_sec_edgar/00104249.pdf\n",
            "/content/drive/MyDrive/modified_sec_edgar/00104250.pdf\n",
            "/content/drive/MyDrive/modified_sec_edgar/00104252.pdf\n",
            "/content/drive/MyDrive/modified_sec_edgar/00104253.pdf\n",
            "/content/drive/MyDrive/modified_sec_edgar/00104254.pdf\n",
            "/content/drive/MyDrive/modified_sec_edgar/00104255.pdf\n",
            "/content/drive/MyDrive/modified_sec_edgar/00104256.pdf\n",
            "/content/drive/MyDrive/modified_sec_edgar/00104257.pdf\n",
            "/content/drive/MyDrive/modified_sec_edgar/00104258.pdf\n",
            "/content/drive/MyDrive/modified_sec_edgar/00104259.pdf\n",
            "/content/drive/MyDrive/modified_sec_edgar/00104260.pdf\n",
            "/content/drive/MyDrive/modified_sec_edgar/00104261.pdf\n",
            "/content/drive/MyDrive/modified_sec_edgar/00104262.pdf\n",
            "/content/drive/MyDrive/modified_sec_edgar/00104263.pdf\n",
            "/content/drive/MyDrive/modified_sec_edgar/00104264.pdf\n",
            "/content/drive/MyDrive/modified_sec_edgar/00104265.pdf\n",
            "/content/drive/MyDrive/modified_sec_edgar/00104266.pdf\n",
            "/content/drive/MyDrive/modified_sec_edgar/00104267.pdf\n",
            "/content/drive/MyDrive/modified_sec_edgar/00104268.pdf\n",
            "/content/drive/MyDrive/modified_sec_edgar/00104269.pdf\n",
            "/content/drive/MyDrive/modified_sec_edgar/00104270.pdf\n",
            "/content/drive/MyDrive/modified_sec_edgar/00104271.pdf\n",
            "/content/drive/MyDrive/modified_sec_edgar/00104274.pdf\n",
            "/content/drive/MyDrive/modified_sec_edgar/00104275.pdf\n",
            "/content/drive/MyDrive/modified_sec_edgar/00104276.pdf\n",
            "/content/drive/MyDrive/modified_sec_edgar/00104277.pdf\n",
            "/content/drive/MyDrive/modified_sec_edgar/00104280.pdf\n",
            "/content/drive/MyDrive/modified_sec_edgar/00104283.pdf\n",
            "/content/drive/MyDrive/modified_sec_edgar/00104284.pdf\n",
            "/content/drive/MyDrive/modified_sec_edgar/00104288.pdf\n",
            "/content/drive/MyDrive/modified_sec_edgar/00104289.pdf\n",
            "/content/drive/MyDrive/modified_sec_edgar/00104290.pdf\n",
            "/content/drive/MyDrive/modified_sec_edgar/00104291.pdf\n",
            "/content/drive/MyDrive/modified_sec_edgar/00104292.pdf\n",
            "/content/drive/MyDrive/modified_sec_edgar/00104561.pdf\n",
            "/content/drive/MyDrive/modified_sec_edgar/00104562.pdf\n",
            "/content/drive/MyDrive/modified_sec_edgar/00104563.pdf\n",
            "/content/drive/MyDrive/modified_sec_edgar/00104564.pdf\n",
            "/content/drive/MyDrive/modified_sec_edgar/00104565.pdf\n",
            "/content/drive/MyDrive/modified_sec_edgar/00104566.pdf\n",
            "/content/drive/MyDrive/modified_sec_edgar/00104567.pdf\n",
            "/content/drive/MyDrive/modified_sec_edgar/00104568.pdf\n",
            "/content/drive/MyDrive/modified_sec_edgar/00104569.pdf\n",
            "/content/drive/MyDrive/modified_sec_edgar/00104570.pdf\n",
            "/content/drive/MyDrive/modified_sec_edgar/00104571.pdf\n",
            "/content/drive/MyDrive/modified_sec_edgar/00104572.pdf\n",
            "/content/drive/MyDrive/modified_sec_edgar/00104573.pdf\n",
            "/content/drive/MyDrive/modified_sec_edgar/00104574.pdf\n",
            "/content/drive/MyDrive/modified_sec_edgar/00104575.pdf\n",
            "/content/drive/MyDrive/modified_sec_edgar/00104576.pdf\n",
            "/content/drive/MyDrive/modified_sec_edgar/00104577.pdf\n",
            "/content/drive/MyDrive/modified_sec_edgar/00104578.pdf\n",
            "/content/drive/MyDrive/modified_sec_edgar/00104580.pdf\n",
            "/content/drive/MyDrive/modified_sec_edgar/00104581.pdf\n",
            "/content/drive/MyDrive/modified_sec_edgar/00104585.pdf\n",
            "/content/drive/MyDrive/modified_sec_edgar/00104586.pdf\n",
            "/content/drive/MyDrive/modified_sec_edgar/00104587.pdf\n",
            "/content/drive/MyDrive/modified_sec_edgar/00104588.pdf\n",
            "/content/drive/MyDrive/modified_sec_edgar/00104589.pdf\n",
            "/content/drive/MyDrive/modified_sec_edgar/00104590.pdf\n",
            "/content/drive/MyDrive/modified_sec_edgar/00104591.pdf\n",
            "/content/drive/MyDrive/modified_sec_edgar/00104592.pdf\n",
            "/content/drive/MyDrive/modified_sec_edgar/00104596.pdf\n",
            "/content/drive/MyDrive/modified_sec_edgar/00104597.pdf\n",
            "/content/drive/MyDrive/modified_sec_edgar/00104598.pdf\n",
            "/content/drive/MyDrive/modified_sec_edgar/00104599.pdf\n",
            "/content/drive/MyDrive/modified_sec_edgar/00104600.pdf\n",
            "/content/drive/MyDrive/modified_sec_edgar/00110001.pdf\n",
            "/content/drive/MyDrive/modified_sec_edgar/00110002.pdf\n",
            "/content/drive/MyDrive/modified_sec_edgar/00110003.pdf\n",
            "/content/drive/MyDrive/modified_sec_edgar/00110004.pdf\n",
            "/content/drive/MyDrive/modified_sec_edgar/00110005.pdf\n",
            "/content/drive/MyDrive/modified_sec_edgar/00110007.pdf\n",
            "/content/drive/MyDrive/modified_sec_edgar/00110008.pdf\n",
            "/content/drive/MyDrive/modified_sec_edgar/00110010.pdf\n",
            "/content/drive/MyDrive/modified_sec_edgar/00110011.pdf\n",
            "/content/drive/MyDrive/modified_sec_edgar/00110013.pdf\n",
            "/content/drive/MyDrive/modified_sec_edgar/00110015.pdf\n",
            "/content/drive/MyDrive/modified_sec_edgar/00110016.pdf\n",
            "/content/drive/MyDrive/modified_sec_edgar/00110017.pdf\n",
            "/content/drive/MyDrive/modified_sec_edgar/00110018.pdf\n",
            "/content/drive/MyDrive/modified_sec_edgar/00112001.pdf\n",
            "/content/drive/MyDrive/modified_sec_edgar/00112002.pdf\n",
            "/content/drive/MyDrive/modified_sec_edgar/00112003.pdf\n",
            "/content/drive/MyDrive/modified_sec_edgar/01005459.pdf\n",
            "/content/drive/MyDrive/modified_sec_edgar/01011018.pdf\n",
            "/content/drive/MyDrive/modified_sec_edgar/01011019.pdf\n",
            "/content/drive/MyDrive/modified_sec_edgar/01020160.pdf\n",
            "/content/drive/MyDrive/modified_sec_edgar/01024008.pdf\n",
            "/content/drive/MyDrive/modified_sec_edgar/01026141.pdf\n",
            "/content/drive/MyDrive/modified_sec_edgar/01029501.pdf\n",
            "/content/drive/MyDrive/modified_sec_edgar/01029503.pdf\n",
            "/content/drive/MyDrive/modified_sec_edgar/01029504.pdf\n",
            "/content/drive/MyDrive/modified_sec_edgar/01029508.pdf\n",
            "/content/drive/MyDrive/modified_sec_edgar/01029665.pdf\n",
            "/content/drive/MyDrive/modified_sec_edgar/01029670.pdf\n",
            "/content/drive/MyDrive/modified_sec_edgar/01029688.pdf\n",
            "/content/drive/MyDrive/modified_sec_edgar/01029689.pdf\n",
            "/content/drive/MyDrive/modified_sec_edgar/01029707.pdf\n",
            "/content/drive/MyDrive/modified_sec_edgar/01029837.pdf\n",
            "/content/drive/MyDrive/modified_sec_edgar/01031026.pdf\n",
            "/content/drive/MyDrive/modified_sec_edgar/01031027.pdf\n",
            "/content/drive/MyDrive/modified_sec_edgar/01031028.pdf\n",
            "/content/drive/MyDrive/modified_sec_edgar/01031029.pdf\n",
            "/content/drive/MyDrive/modified_sec_edgar/01036821.pdf\n",
            "/content/drive/MyDrive/modified_sec_edgar/01039578.pdf\n",
            "/content/drive/MyDrive/modified_sec_edgar/01039579.pdf\n",
            "/content/drive/MyDrive/modified_sec_edgar/01039580.pdf\n",
            "/content/drive/MyDrive/modified_sec_edgar/01039581.pdf\n",
            "/content/drive/MyDrive/modified_sec_edgar/01039582.pdf\n",
            "/content/drive/MyDrive/modified_sec_edgar/01039583.pdf\n",
            "/content/drive/MyDrive/modified_sec_edgar/01039584.pdf\n",
            "/content/drive/MyDrive/modified_sec_edgar/01039585.pdf\n",
            "/content/drive/MyDrive/modified_sec_edgar/01039586.pdf\n",
            "/content/drive/MyDrive/modified_sec_edgar/01039587.pdf\n",
            "/content/drive/MyDrive/modified_sec_edgar/01039588.pdf\n",
            "/content/drive/MyDrive/modified_sec_edgar/01039589.pdf\n",
            "/content/drive/MyDrive/modified_sec_edgar/01039590.pdf\n",
            "/content/drive/MyDrive/modified_sec_edgar/01039591.pdf\n",
            "/content/drive/MyDrive/modified_sec_edgar/01039592.pdf\n",
            "/content/drive/MyDrive/modified_sec_edgar/01039593.pdf\n",
            "/content/drive/MyDrive/modified_sec_edgar/01039594.pdf\n",
            "/content/drive/MyDrive/modified_sec_edgar/01039595.pdf\n",
            "/content/drive/MyDrive/modified_sec_edgar/01039596.pdf\n",
            "/content/drive/MyDrive/modified_sec_edgar/01039597.pdf\n",
            "/content/drive/MyDrive/modified_sec_edgar/01039598.pdf\n",
            "/content/drive/MyDrive/modified_sec_edgar/01039599.pdf\n",
            "/content/drive/MyDrive/modified_sec_edgar/01039600.pdf\n",
            "/content/drive/MyDrive/modified_sec_edgar/01046096.pdf\n",
            "/content/drive/MyDrive/modified_sec_edgar/01051158.pdf\n",
            "/content/drive/MyDrive/modified_sec_edgar/01051168.pdf\n",
            "/content/drive/MyDrive/modified_sec_edgar/01051170.pdf\n",
            "/content/drive/MyDrive/modified_sec_edgar/01051171.pdf\n",
            "/content/drive/MyDrive/modified_sec_edgar/01051172.pdf\n",
            "/content/drive/MyDrive/modified_sec_edgar/01051173.pdf\n",
            "/content/drive/MyDrive/modified_sec_edgar/01051174.pdf\n",
            "/content/drive/MyDrive/modified_sec_edgar/01051175.pdf\n",
            "/content/drive/MyDrive/modified_sec_edgar/01051176.pdf\n",
            "/content/drive/MyDrive/modified_sec_edgar/01051177.pdf\n",
            "/content/drive/MyDrive/modified_sec_edgar/01051178.pdf\n",
            "/content/drive/MyDrive/modified_sec_edgar/01051180.pdf\n",
            "/content/drive/MyDrive/modified_sec_edgar/01051181.pdf\n",
            "/content/drive/MyDrive/modified_sec_edgar/01051182.pdf\n",
            "/content/drive/MyDrive/modified_sec_edgar/01051183.pdf\n",
            "/content/drive/MyDrive/modified_sec_edgar/01051184.pdf\n",
            "/content/drive/MyDrive/modified_sec_edgar/01051186.pdf\n",
            "/content/drive/MyDrive/modified_sec_edgar/01051187.pdf\n",
            "/content/drive/MyDrive/modified_sec_edgar/01053783.pdf\n",
            "/content/drive/MyDrive/modified_sec_edgar/01053784.pdf\n",
            "/content/drive/MyDrive/modified_sec_edgar/01057240.pdf\n",
            "/content/drive/MyDrive/modified_sec_edgar/01057806.pdf\n",
            "/content/drive/MyDrive/modified_sec_edgar/01057865.pdf\n",
            "/content/drive/MyDrive/modified_sec_edgar/01057890.pdf\n",
            "/content/drive/MyDrive/modified_sec_edgar/01066271.pdf\n",
            "/content/drive/MyDrive/modified_sec_edgar/01066273.pdf\n",
            "/content/drive/MyDrive/modified_sec_edgar/01066274.pdf\n",
            "/content/drive/MyDrive/modified_sec_edgar/01066872.pdf\n",
            "/content/drive/MyDrive/modified_sec_edgar/01067088.pdf\n",
            "/content/drive/MyDrive/modified_sec_edgar/01068122.pdf\n",
            "/content/drive/MyDrive/modified_sec_edgar/01070419.pdf\n",
            "/content/drive/MyDrive/modified_sec_edgar/01071401.pdf\n",
            "/content/drive/MyDrive/modified_sec_edgar/01071676.pdf\n",
            "/content/drive/MyDrive/modified_sec_edgar/01071678.pdf\n",
            "/content/drive/MyDrive/modified_sec_edgar/01071680.pdf\n",
            "/content/drive/MyDrive/modified_sec_edgar/01071683.pdf\n",
            "/content/drive/MyDrive/modified_sec_edgar/01071684.pdf\n",
            "/content/drive/MyDrive/modified_sec_edgar/01071686.pdf\n",
            "/content/drive/MyDrive/modified_sec_edgar/01071688.pdf\n",
            "/content/drive/MyDrive/modified_sec_edgar/01071689.pdf\n",
            "/content/drive/MyDrive/modified_sec_edgar/01071693.pdf\n",
            "/content/drive/MyDrive/modified_sec_edgar/01071695.pdf\n",
            "/content/drive/MyDrive/modified_sec_edgar/01071697.pdf\n",
            "/content/drive/MyDrive/modified_sec_edgar/01073663.pdf\n",
            "/content/drive/MyDrive/modified_sec_edgar/01073664.pdf\n",
            "/content/drive/MyDrive/modified_sec_edgar/01074664.pdf\n",
            "/content/drive/MyDrive/modified_sec_edgar/01074667.pdf\n",
            "/content/drive/MyDrive/modified_sec_edgar/01074669.pdf\n",
            "/content/drive/MyDrive/modified_sec_edgar/01074671.pdf\n",
            "/content/drive/MyDrive/modified_sec_edgar/01074672.pdf\n",
            "/content/drive/MyDrive/modified_sec_edgar/01074674.pdf\n",
            "/content/drive/MyDrive/modified_sec_edgar/01074844.pdf\n",
            "/content/drive/MyDrive/modified_sec_edgar/01074845.pdf\n",
            "/content/drive/MyDrive/modified_sec_edgar/01074846.pdf\n",
            "/content/drive/MyDrive/modified_sec_edgar/01074847.pdf\n",
            "/content/drive/MyDrive/modified_sec_edgar/01074848.pdf\n",
            "/content/drive/MyDrive/modified_sec_edgar/01074849.pdf\n",
            "/content/drive/MyDrive/modified_sec_edgar/01074850.pdf\n",
            "/content/drive/MyDrive/modified_sec_edgar/01074854.pdf\n",
            "/content/drive/MyDrive/modified_sec_edgar/01074856.pdf\n",
            "/content/drive/MyDrive/modified_sec_edgar/01074860.pdf\n",
            "/content/drive/MyDrive/modified_sec_edgar/01074865.pdf\n",
            "/content/drive/MyDrive/modified_sec_edgar/01074867.pdf\n",
            "/content/drive/MyDrive/modified_sec_edgar/01074868.pdf\n",
            "/content/drive/MyDrive/modified_sec_edgar/01074870.pdf\n",
            "/content/drive/MyDrive/modified_sec_edgar/01074872.pdf\n",
            "/content/drive/MyDrive/modified_sec_edgar/01074875.pdf\n",
            "/content/drive/MyDrive/modified_sec_edgar/01074879.pdf\n",
            "/content/drive/MyDrive/modified_sec_edgar/01074941.pdf\n",
            "/content/drive/MyDrive/modified_sec_edgar/01074942.pdf\n",
            "/content/drive/MyDrive/modified_sec_edgar/01074943.pdf\n",
            "/content/drive/MyDrive/modified_sec_edgar/01074949.pdf\n",
            "/content/drive/MyDrive/modified_sec_edgar/01074950.pdf\n",
            "/content/drive/MyDrive/modified_sec_edgar/01074953.pdf\n",
            "/content/drive/MyDrive/modified_sec_edgar/01074955.pdf\n",
            "/content/drive/MyDrive/modified_sec_edgar/01074957.pdf\n",
            "/content/drive/MyDrive/modified_sec_edgar/01074959.pdf\n",
            "/content/drive/MyDrive/modified_sec_edgar/01074966.pdf\n",
            "/content/drive/MyDrive/modified_sec_edgar/01074967.pdf\n",
            "/content/drive/MyDrive/modified_sec_edgar/01074968.pdf\n",
            "/content/drive/MyDrive/modified_sec_edgar/01074971.pdf\n",
            "/content/drive/MyDrive/modified_sec_edgar/01074973.pdf\n",
            "/content/drive/MyDrive/modified_sec_edgar/01074974.pdf\n",
            "/content/drive/MyDrive/modified_sec_edgar/01074975.pdf\n",
            "/content/drive/MyDrive/modified_sec_edgar/01074976.pdf\n",
            "/content/drive/MyDrive/modified_sec_edgar/01074977.pdf\n",
            "/content/drive/MyDrive/modified_sec_edgar/01074978.pdf\n",
            "/content/drive/MyDrive/modified_sec_edgar/01074979.pdf\n",
            "/content/drive/MyDrive/modified_sec_edgar/01074980.pdf\n",
            "/content/drive/MyDrive/modified_sec_edgar/01074981.pdf\n",
            "/content/drive/MyDrive/modified_sec_edgar/01074983.pdf\n",
            "/content/drive/MyDrive/modified_sec_edgar/01074984.pdf\n",
            "/content/drive/MyDrive/modified_sec_edgar/01074987.pdf\n",
            "/content/drive/MyDrive/modified_sec_edgar/01074988.pdf\n",
            "/content/drive/MyDrive/modified_sec_edgar/01074990.pdf\n",
            "/content/drive/MyDrive/modified_sec_edgar/01074994.pdf\n",
            "/content/drive/MyDrive/modified_sec_edgar/01074995.pdf\n",
            "/content/drive/MyDrive/modified_sec_edgar/01074999.pdf\n",
            "/content/drive/MyDrive/modified_sec_edgar/01082000.pdf\n",
            "/content/drive/MyDrive/modified_sec_edgar/01082001.pdf\n",
            "/content/drive/MyDrive/modified_sec_edgar/01082002.pdf\n",
            "/content/drive/MyDrive/modified_sec_edgar/01082003.pdf\n",
            "/content/drive/MyDrive/modified_sec_edgar/01082004.pdf\n",
            "/content/drive/MyDrive/modified_sec_edgar/01082005.pdf\n",
            "/content/drive/MyDrive/modified_sec_edgar/01082006.pdf\n",
            "/content/drive/MyDrive/modified_sec_edgar/01082007.pdf\n",
            "/content/drive/MyDrive/modified_sec_edgar/01082014.pdf\n",
            "/content/drive/MyDrive/modified_sec_edgar/01082016.pdf\n",
            "/content/drive/MyDrive/modified_sec_edgar/01082018.pdf\n",
            "/content/drive/MyDrive/modified_sec_edgar/01082019.pdf\n",
            "/content/drive/MyDrive/modified_sec_edgar/01082020.pdf\n",
            "/content/drive/MyDrive/modified_sec_edgar/01082021.pdf\n",
            "/content/drive/MyDrive/modified_sec_edgar/01082022.pdf\n",
            "/content/drive/MyDrive/modified_sec_edgar/01082023.pdf\n",
            "/content/drive/MyDrive/modified_sec_edgar/01082024.pdf\n",
            "/content/drive/MyDrive/modified_sec_edgar/01082025.pdf\n",
            "/content/drive/MyDrive/modified_sec_edgar/01082026.pdf\n",
            "/content/drive/MyDrive/modified_sec_edgar/01082027.pdf\n",
            "/content/drive/MyDrive/modified_sec_edgar/01082028.pdf\n",
            "/content/drive/MyDrive/modified_sec_edgar/01082030.pdf\n",
            "/content/drive/MyDrive/modified_sec_edgar/01082031.pdf\n",
            "/content/drive/MyDrive/modified_sec_edgar/01082033.pdf\n",
            "/content/drive/MyDrive/modified_sec_edgar/01082035.pdf\n",
            "/content/drive/MyDrive/modified_sec_edgar/01082036.pdf\n",
            "/content/drive/MyDrive/modified_sec_edgar/01082037.pdf\n",
            "/content/drive/MyDrive/modified_sec_edgar/01082038.pdf\n",
            "/content/drive/MyDrive/modified_sec_edgar/01082040.pdf\n",
            "/content/drive/MyDrive/modified_sec_edgar/01082041.pdf\n",
            "/content/drive/MyDrive/modified_sec_edgar/01082047.pdf\n",
            "/content/drive/MyDrive/modified_sec_edgar/01082048.pdf\n",
            "/content/drive/MyDrive/modified_sec_edgar/01082050.pdf\n",
            "/content/drive/MyDrive/modified_sec_edgar/01082051.pdf\n",
            "/content/drive/MyDrive/modified_sec_edgar/01082053.pdf\n",
            "/content/drive/MyDrive/modified_sec_edgar/01082054.pdf\n",
            "/content/drive/MyDrive/modified_sec_edgar/01082055.pdf\n",
            "/content/drive/MyDrive/modified_sec_edgar/01082098.pdf\n",
            "/content/drive/MyDrive/modified_sec_edgar/01082101.pdf\n",
            "/content/drive/MyDrive/modified_sec_edgar/01082102.pdf\n",
            "/content/drive/MyDrive/modified_sec_edgar/01082103.pdf\n",
            "/content/drive/MyDrive/modified_sec_edgar/01082104.pdf\n",
            "/content/drive/MyDrive/modified_sec_edgar/01082105.pdf\n",
            "/content/drive/MyDrive/modified_sec_edgar/01082106.pdf\n",
            "/content/drive/MyDrive/modified_sec_edgar/01082107.pdf\n",
            "/content/drive/MyDrive/modified_sec_edgar/01082108.pdf\n",
            "/content/drive/MyDrive/modified_sec_edgar/01082109.pdf\n",
            "/content/drive/MyDrive/modified_sec_edgar/01082110.pdf\n",
            "/content/drive/MyDrive/modified_sec_edgar/01082111.pdf\n",
            "/content/drive/MyDrive/modified_sec_edgar/01082112.pdf\n"
          ]
        }
      ]
    },
    {
      "cell_type": "code",
      "source": [
        "df['text_content'] = all_pdf_content       # Dataframe with all the values populated\n",
        "df"
      ],
      "metadata": {
        "colab": {
          "base_uri": "https://localhost:8080/",
          "height": 423
        },
        "id": "jlXp0jospe1o",
        "outputId": "00a4e7b3-1a4b-40f2-9c3b-67eb2646d545"
      },
      "execution_count": null,
      "outputs": [
        {
          "output_type": "execute_result",
          "data": {
            "text/plain": [
              "     Unnamed: 0      filename    formtype  \\\n",
              "0             0  00049397.pdf      Form D   \n",
              "1             1  00068790.pdf      Form D   \n",
              "2             2  00092635.pdf      Form D   \n",
              "3             3  00092782.pdf    Form 13F   \n",
              "4             4  00092785.pdf      Form D   \n",
              "..          ...           ...         ...   \n",
              "299         299  01082108.pdf  Form 19B-4   \n",
              "300         300  01082109.pdf    Form 13F   \n",
              "301         301  01082110.pdf    Form 13F   \n",
              "302         302  01082111.pdf    Form 13F   \n",
              "303         303  01082112.pdf    Form 13F   \n",
              "\n",
              "                                          text_content  label  \n",
              "0    R1F-[0925-70\\nFORM D\\nUNITED STATES\\nOMB Appro...    0.0  \n",
              "1    FORM D\\nOMB APPROVAL\\nUNITED STATES\\nOMB Numbe...    0.0  \n",
              "2    FORM D\\nUNITED STATES\\nOMB APPROVAL\\nSECURITIE...    0.0  \n",
              "3    Rer\\nJ4C\\nUNITED  STATES\\n00 09 2782\\nSECURITI...    1.0  \n",
              "4    3\\nTC71278 3\\nFORM D\\nOMB APPROVAL\\nOMB Numbar...    0.0  \n",
              "..                                                 ...    ...  \n",
              "299  7(-uo\\n[oc Fis383g1z8.\\nSubioit [\\nPniginal\\nO...    6.0  \n",
              "300  b0MH\\n23;\\np\\nbMENovE-APPROVAIS\\n30\\n5\\n4\\nExp...    1.0  \n",
              "301  44 6oX\\n117\\n1vi LUUI\\n1V;uJ\\nrAA\\nP4\\nAltn Gu...    1.0  \n",
              "302  Tts doament % submitted 48 CONHDENTLAL Excmpti...    1.0  \n",
              "303  Ts doamcat % abmittcd as CQNHDENTLAL Excmption...    1.0  \n",
              "\n",
              "[304 rows x 5 columns]"
            ],
            "text/html": [
              "\n",
              "  <div id=\"df-01d247e5-164c-4d14-87b1-cc07dda357a3\" class=\"colab-df-container\">\n",
              "    <div>\n",
              "<style scoped>\n",
              "    .dataframe tbody tr th:only-of-type {\n",
              "        vertical-align: middle;\n",
              "    }\n",
              "\n",
              "    .dataframe tbody tr th {\n",
              "        vertical-align: top;\n",
              "    }\n",
              "\n",
              "    .dataframe thead th {\n",
              "        text-align: right;\n",
              "    }\n",
              "</style>\n",
              "<table border=\"1\" class=\"dataframe\">\n",
              "  <thead>\n",
              "    <tr style=\"text-align: right;\">\n",
              "      <th></th>\n",
              "      <th>Unnamed: 0</th>\n",
              "      <th>filename</th>\n",
              "      <th>formtype</th>\n",
              "      <th>text_content</th>\n",
              "      <th>label</th>\n",
              "    </tr>\n",
              "  </thead>\n",
              "  <tbody>\n",
              "    <tr>\n",
              "      <th>0</th>\n",
              "      <td>0</td>\n",
              "      <td>00049397.pdf</td>\n",
              "      <td>Form D</td>\n",
              "      <td>R1F-[0925-70\\nFORM D\\nUNITED STATES\\nOMB Appro...</td>\n",
              "      <td>0.0</td>\n",
              "    </tr>\n",
              "    <tr>\n",
              "      <th>1</th>\n",
              "      <td>1</td>\n",
              "      <td>00068790.pdf</td>\n",
              "      <td>Form D</td>\n",
              "      <td>FORM D\\nOMB APPROVAL\\nUNITED STATES\\nOMB Numbe...</td>\n",
              "      <td>0.0</td>\n",
              "    </tr>\n",
              "    <tr>\n",
              "      <th>2</th>\n",
              "      <td>2</td>\n",
              "      <td>00092635.pdf</td>\n",
              "      <td>Form D</td>\n",
              "      <td>FORM D\\nUNITED STATES\\nOMB APPROVAL\\nSECURITIE...</td>\n",
              "      <td>0.0</td>\n",
              "    </tr>\n",
              "    <tr>\n",
              "      <th>3</th>\n",
              "      <td>3</td>\n",
              "      <td>00092782.pdf</td>\n",
              "      <td>Form 13F</td>\n",
              "      <td>Rer\\nJ4C\\nUNITED  STATES\\n00 09 2782\\nSECURITI...</td>\n",
              "      <td>1.0</td>\n",
              "    </tr>\n",
              "    <tr>\n",
              "      <th>4</th>\n",
              "      <td>4</td>\n",
              "      <td>00092785.pdf</td>\n",
              "      <td>Form D</td>\n",
              "      <td>3\\nTC71278 3\\nFORM D\\nOMB APPROVAL\\nOMB Numbar...</td>\n",
              "      <td>0.0</td>\n",
              "    </tr>\n",
              "    <tr>\n",
              "      <th>...</th>\n",
              "      <td>...</td>\n",
              "      <td>...</td>\n",
              "      <td>...</td>\n",
              "      <td>...</td>\n",
              "      <td>...</td>\n",
              "    </tr>\n",
              "    <tr>\n",
              "      <th>299</th>\n",
              "      <td>299</td>\n",
              "      <td>01082108.pdf</td>\n",
              "      <td>Form 19B-4</td>\n",
              "      <td>7(-uo\\n[oc Fis383g1z8.\\nSubioit [\\nPniginal\\nO...</td>\n",
              "      <td>6.0</td>\n",
              "    </tr>\n",
              "    <tr>\n",
              "      <th>300</th>\n",
              "      <td>300</td>\n",
              "      <td>01082109.pdf</td>\n",
              "      <td>Form 13F</td>\n",
              "      <td>b0MH\\n23;\\np\\nbMENovE-APPROVAIS\\n30\\n5\\n4\\nExp...</td>\n",
              "      <td>1.0</td>\n",
              "    </tr>\n",
              "    <tr>\n",
              "      <th>301</th>\n",
              "      <td>301</td>\n",
              "      <td>01082110.pdf</td>\n",
              "      <td>Form 13F</td>\n",
              "      <td>44 6oX\\n117\\n1vi LUUI\\n1V;uJ\\nrAA\\nP4\\nAltn Gu...</td>\n",
              "      <td>1.0</td>\n",
              "    </tr>\n",
              "    <tr>\n",
              "      <th>302</th>\n",
              "      <td>302</td>\n",
              "      <td>01082111.pdf</td>\n",
              "      <td>Form 13F</td>\n",
              "      <td>Tts doament % submitted 48 CONHDENTLAL Excmpti...</td>\n",
              "      <td>1.0</td>\n",
              "    </tr>\n",
              "    <tr>\n",
              "      <th>303</th>\n",
              "      <td>303</td>\n",
              "      <td>01082112.pdf</td>\n",
              "      <td>Form 13F</td>\n",
              "      <td>Ts doamcat % abmittcd as CQNHDENTLAL Excmption...</td>\n",
              "      <td>1.0</td>\n",
              "    </tr>\n",
              "  </tbody>\n",
              "</table>\n",
              "<p>304 rows × 5 columns</p>\n",
              "</div>\n",
              "    <div class=\"colab-df-buttons\">\n",
              "\n",
              "  <div class=\"colab-df-container\">\n",
              "    <button class=\"colab-df-convert\" onclick=\"convertToInteractive('df-01d247e5-164c-4d14-87b1-cc07dda357a3')\"\n",
              "            title=\"Convert this dataframe to an interactive table.\"\n",
              "            style=\"display:none;\">\n",
              "\n",
              "  <svg xmlns=\"http://www.w3.org/2000/svg\" height=\"24px\" viewBox=\"0 -960 960 960\">\n",
              "    <path d=\"M120-120v-720h720v720H120Zm60-500h600v-160H180v160Zm220 220h160v-160H400v160Zm0 220h160v-160H400v160ZM180-400h160v-160H180v160Zm440 0h160v-160H620v160ZM180-180h160v-160H180v160Zm440 0h160v-160H620v160Z\"/>\n",
              "  </svg>\n",
              "    </button>\n",
              "\n",
              "  <style>\n",
              "    .colab-df-container {\n",
              "      display:flex;\n",
              "      gap: 12px;\n",
              "    }\n",
              "\n",
              "    .colab-df-convert {\n",
              "      background-color: #E8F0FE;\n",
              "      border: none;\n",
              "      border-radius: 50%;\n",
              "      cursor: pointer;\n",
              "      display: none;\n",
              "      fill: #1967D2;\n",
              "      height: 32px;\n",
              "      padding: 0 0 0 0;\n",
              "      width: 32px;\n",
              "    }\n",
              "\n",
              "    .colab-df-convert:hover {\n",
              "      background-color: #E2EBFA;\n",
              "      box-shadow: 0px 1px 2px rgba(60, 64, 67, 0.3), 0px 1px 3px 1px rgba(60, 64, 67, 0.15);\n",
              "      fill: #174EA6;\n",
              "    }\n",
              "\n",
              "    .colab-df-buttons div {\n",
              "      margin-bottom: 4px;\n",
              "    }\n",
              "\n",
              "    [theme=dark] .colab-df-convert {\n",
              "      background-color: #3B4455;\n",
              "      fill: #D2E3FC;\n",
              "    }\n",
              "\n",
              "    [theme=dark] .colab-df-convert:hover {\n",
              "      background-color: #434B5C;\n",
              "      box-shadow: 0px 1px 3px 1px rgba(0, 0, 0, 0.15);\n",
              "      filter: drop-shadow(0px 1px 2px rgba(0, 0, 0, 0.3));\n",
              "      fill: #FFFFFF;\n",
              "    }\n",
              "  </style>\n",
              "\n",
              "    <script>\n",
              "      const buttonEl =\n",
              "        document.querySelector('#df-01d247e5-164c-4d14-87b1-cc07dda357a3 button.colab-df-convert');\n",
              "      buttonEl.style.display =\n",
              "        google.colab.kernel.accessAllowed ? 'block' : 'none';\n",
              "\n",
              "      async function convertToInteractive(key) {\n",
              "        const element = document.querySelector('#df-01d247e5-164c-4d14-87b1-cc07dda357a3');\n",
              "        const dataTable =\n",
              "          await google.colab.kernel.invokeFunction('convertToInteractive',\n",
              "                                                    [key], {});\n",
              "        if (!dataTable) return;\n",
              "\n",
              "        const docLinkHtml = 'Like what you see? Visit the ' +\n",
              "          '<a target=\"_blank\" href=https://colab.research.google.com/notebooks/data_table.ipynb>data table notebook</a>'\n",
              "          + ' to learn more about interactive tables.';\n",
              "        element.innerHTML = '';\n",
              "        dataTable['output_type'] = 'display_data';\n",
              "        await google.colab.output.renderOutput(dataTable, element);\n",
              "        const docLink = document.createElement('div');\n",
              "        docLink.innerHTML = docLinkHtml;\n",
              "        element.appendChild(docLink);\n",
              "      }\n",
              "    </script>\n",
              "  </div>\n",
              "\n",
              "\n",
              "<div id=\"df-4a599be0-2abb-4a72-b3ac-5d2227d5414e\">\n",
              "  <button class=\"colab-df-quickchart\" onclick=\"quickchart('df-4a599be0-2abb-4a72-b3ac-5d2227d5414e')\"\n",
              "            title=\"Suggest charts.\"\n",
              "            style=\"display:none;\">\n",
              "\n",
              "<svg xmlns=\"http://www.w3.org/2000/svg\" height=\"24px\"viewBox=\"0 0 24 24\"\n",
              "     width=\"24px\">\n",
              "    <g>\n",
              "        <path d=\"M19 3H5c-1.1 0-2 .9-2 2v14c0 1.1.9 2 2 2h14c1.1 0 2-.9 2-2V5c0-1.1-.9-2-2-2zM9 17H7v-7h2v7zm4 0h-2V7h2v10zm4 0h-2v-4h2v4z\"/>\n",
              "    </g>\n",
              "</svg>\n",
              "  </button>\n",
              "\n",
              "<style>\n",
              "  .colab-df-quickchart {\n",
              "      --bg-color: #E8F0FE;\n",
              "      --fill-color: #1967D2;\n",
              "      --hover-bg-color: #E2EBFA;\n",
              "      --hover-fill-color: #174EA6;\n",
              "      --disabled-fill-color: #AAA;\n",
              "      --disabled-bg-color: #DDD;\n",
              "  }\n",
              "\n",
              "  [theme=dark] .colab-df-quickchart {\n",
              "      --bg-color: #3B4455;\n",
              "      --fill-color: #D2E3FC;\n",
              "      --hover-bg-color: #434B5C;\n",
              "      --hover-fill-color: #FFFFFF;\n",
              "      --disabled-bg-color: #3B4455;\n",
              "      --disabled-fill-color: #666;\n",
              "  }\n",
              "\n",
              "  .colab-df-quickchart {\n",
              "    background-color: var(--bg-color);\n",
              "    border: none;\n",
              "    border-radius: 50%;\n",
              "    cursor: pointer;\n",
              "    display: none;\n",
              "    fill: var(--fill-color);\n",
              "    height: 32px;\n",
              "    padding: 0;\n",
              "    width: 32px;\n",
              "  }\n",
              "\n",
              "  .colab-df-quickchart:hover {\n",
              "    background-color: var(--hover-bg-color);\n",
              "    box-shadow: 0 1px 2px rgba(60, 64, 67, 0.3), 0 1px 3px 1px rgba(60, 64, 67, 0.15);\n",
              "    fill: var(--button-hover-fill-color);\n",
              "  }\n",
              "\n",
              "  .colab-df-quickchart-complete:disabled,\n",
              "  .colab-df-quickchart-complete:disabled:hover {\n",
              "    background-color: var(--disabled-bg-color);\n",
              "    fill: var(--disabled-fill-color);\n",
              "    box-shadow: none;\n",
              "  }\n",
              "\n",
              "  .colab-df-spinner {\n",
              "    border: 2px solid var(--fill-color);\n",
              "    border-color: transparent;\n",
              "    border-bottom-color: var(--fill-color);\n",
              "    animation:\n",
              "      spin 1s steps(1) infinite;\n",
              "  }\n",
              "\n",
              "  @keyframes spin {\n",
              "    0% {\n",
              "      border-color: transparent;\n",
              "      border-bottom-color: var(--fill-color);\n",
              "      border-left-color: var(--fill-color);\n",
              "    }\n",
              "    20% {\n",
              "      border-color: transparent;\n",
              "      border-left-color: var(--fill-color);\n",
              "      border-top-color: var(--fill-color);\n",
              "    }\n",
              "    30% {\n",
              "      border-color: transparent;\n",
              "      border-left-color: var(--fill-color);\n",
              "      border-top-color: var(--fill-color);\n",
              "      border-right-color: var(--fill-color);\n",
              "    }\n",
              "    40% {\n",
              "      border-color: transparent;\n",
              "      border-right-color: var(--fill-color);\n",
              "      border-top-color: var(--fill-color);\n",
              "    }\n",
              "    60% {\n",
              "      border-color: transparent;\n",
              "      border-right-color: var(--fill-color);\n",
              "    }\n",
              "    80% {\n",
              "      border-color: transparent;\n",
              "      border-right-color: var(--fill-color);\n",
              "      border-bottom-color: var(--fill-color);\n",
              "    }\n",
              "    90% {\n",
              "      border-color: transparent;\n",
              "      border-bottom-color: var(--fill-color);\n",
              "    }\n",
              "  }\n",
              "</style>\n",
              "\n",
              "  <script>\n",
              "    async function quickchart(key) {\n",
              "      const quickchartButtonEl =\n",
              "        document.querySelector('#' + key + ' button');\n",
              "      quickchartButtonEl.disabled = true;  // To prevent multiple clicks.\n",
              "      quickchartButtonEl.classList.add('colab-df-spinner');\n",
              "      try {\n",
              "        const charts = await google.colab.kernel.invokeFunction(\n",
              "            'suggestCharts', [key], {});\n",
              "      } catch (error) {\n",
              "        console.error('Error during call to suggestCharts:', error);\n",
              "      }\n",
              "      quickchartButtonEl.classList.remove('colab-df-spinner');\n",
              "      quickchartButtonEl.classList.add('colab-df-quickchart-complete');\n",
              "    }\n",
              "    (() => {\n",
              "      let quickchartButtonEl =\n",
              "        document.querySelector('#df-4a599be0-2abb-4a72-b3ac-5d2227d5414e button');\n",
              "      quickchartButtonEl.style.display =\n",
              "        google.colab.kernel.accessAllowed ? 'block' : 'none';\n",
              "    })();\n",
              "  </script>\n",
              "</div>\n",
              "    </div>\n",
              "  </div>\n"
            ]
          },
          "metadata": {},
          "execution_count": 21
        }
      ]
    },
    {
      "cell_type": "code",
      "source": [
        "df.to_csv('Final NLP dataset.csv')"
      ],
      "metadata": {
        "id": "B8odm1vJpxdL"
      },
      "execution_count": null,
      "outputs": []
    },
    {
      "cell_type": "code",
      "source": [
        "df = pd.read_csv('/content/drive/MyDrive/SEC NLP Assignment.csv')"
      ],
      "metadata": {
        "id": "dgM_sd9BqH_T"
      },
      "execution_count": 5,
      "outputs": []
    },
    {
      "cell_type": "markdown",
      "source": [
        "## **Exploratory Data Analysis (EDA)**"
      ],
      "metadata": {
        "id": "iNB0cDtpGgrv"
      }
    },
    {
      "cell_type": "code",
      "source": [
        "df['formtype'].value_counts()"
      ],
      "metadata": {
        "colab": {
          "base_uri": "https://localhost:8080/"
        },
        "id": "VSgSm0q9qIBt",
        "outputId": "e09867f2-c726-497f-e3b9-330f4ad87fe7"
      },
      "execution_count": 6,
      "outputs": [
        {
          "output_type": "execute_result",
          "data": {
            "text/plain": [
              "Form 13F        197\n",
              "Form D           41\n",
              "Other            40\n",
              "Form X-17A-5     11\n",
              "Form TA-2         6\n",
              "Form 19B-4        6\n",
              "Form 6-K          2\n",
              "Form 11-K         1\n",
              "Name: formtype, dtype: int64"
            ]
          },
          "metadata": {},
          "execution_count": 6
        }
      ]
    },
    {
      "cell_type": "code",
      "source": [
        "df.shape"
      ],
      "metadata": {
        "colab": {
          "base_uri": "https://localhost:8080/"
        },
        "id": "5bM6aj3DM6Vs",
        "outputId": "e3f59d91-6624-42ff-90f4-f6d7f0c9fa0c"
      },
      "execution_count": 7,
      "outputs": [
        {
          "output_type": "execute_result",
          "data": {
            "text/plain": [
              "(304, 5)"
            ]
          },
          "metadata": {},
          "execution_count": 7
        }
      ]
    },
    {
      "cell_type": "code",
      "source": [
        "ax = df['formtype'].value_counts().plot(kind = 'barh', title = 'Formtype count')\n",
        "ax.set_xlabel('Count')\n",
        "ax.set_ylabel('Formtype')"
      ],
      "metadata": {
        "colab": {
          "base_uri": "https://localhost:8080/",
          "height": 489
        },
        "id": "CSb_eNHnM6ZE",
        "outputId": "7ac1d21e-18ce-4ed9-9f92-bc1d655c1374"
      },
      "execution_count": 8,
      "outputs": [
        {
          "output_type": "execute_result",
          "data": {
            "text/plain": [
              "Text(0, 0.5, 'Formtype')"
            ]
          },
          "metadata": {},
          "execution_count": 8
        },
        {
          "output_type": "display_data",
          "data": {
            "text/plain": [
              "<Figure size 640x480 with 1 Axes>"
            ],
            "image/png": "[encoded data removed]"
          },
          "metadata": {}
        }
      ]
    },
    {
      "cell_type": "code",
      "source": [
        "df.groupby('formtype').describe()"
      ],
      "metadata": {
        "colab": {
          "base_uri": "https://localhost:8080/",
          "height": 469
        },
        "id": "vO08LEbJOp7a",
        "outputId": "643fdba2-ed39-47f2-a04e-070a168b7a2b"
      },
      "execution_count": 9,
      "outputs": [
        {
          "output_type": "execute_result",
          "data": {
            "text/plain": [
              "             Unnamed: 0                                                       \\\n",
              "                  count        mean        std    min     25%    50%     75%   \n",
              "formtype                                                                       \n",
              "Form 11-K           1.0  183.000000        NaN  183.0  183.00  183.0  183.00   \n",
              "Form 13F          197.0  146.984772  93.381076    3.0   64.00  139.0  241.00   \n",
              "Form 19B-4          6.0  296.500000   1.870829  294.0  295.25  296.5  297.75   \n",
              "Form 6-K            2.0  115.500000   0.707107  115.0  115.25  115.5  115.75   \n",
              "Form D             41.0  139.390244  99.240586    0.0   52.00  176.0  202.00   \n",
              "Form TA-2           6.0  120.500000   3.391165  117.0  118.25  119.5  122.25   \n",
              "Form X-17A-5       11.0  122.272727   6.574054  112.0  117.50  124.0  127.50   \n",
              "Other              40.0  178.100000  37.338232   20.0  162.75  172.5  187.75   \n",
              "\n",
              "                     label                                     \n",
              "                max  count mean  std  min  25%  50%  75%  max  \n",
              "formtype                                                       \n",
              "Form 11-K     183.0    1.0  5.0  NaN  5.0  5.0  5.0  5.0  5.0  \n",
              "Form 13F      303.0  197.0  1.0  0.0  1.0  1.0  1.0  1.0  1.0  \n",
              "Form 19B-4    299.0    6.0  6.0  0.0  6.0  6.0  6.0  6.0  6.0  \n",
              "Form 6-K      116.0    2.0  4.0  0.0  4.0  4.0  4.0  4.0  4.0  \n",
              "Form D        293.0   41.0  0.0  0.0  0.0  0.0  0.0  0.0  0.0  \n",
              "Form TA-2     126.0    6.0  3.0  0.0  3.0  3.0  3.0  3.0  3.0  \n",
              "Form X-17A-5  130.0   11.0  2.0  0.0  2.0  2.0  2.0  2.0  2.0  \n",
              "Other         232.0   40.0  7.0  0.0  7.0  7.0  7.0  7.0  7.0  "
            ],
            "text/html": [
              "\n",
              "  <div id=\"df-ee0837f4-549c-42e9-a60e-ddb7bf4b64e5\" class=\"colab-df-container\">\n",
              "    <div>\n",
              "<style scoped>\n",
              "    .dataframe tbody tr th:only-of-type {\n",
              "        vertical-align: middle;\n",
              "    }\n",
              "\n",
              "    .dataframe tbody tr th {\n",
              "        vertical-align: top;\n",
              "    }\n",
              "\n",
              "    .dataframe thead tr th {\n",
              "        text-align: left;\n",
              "    }\n",
              "\n",
              "    .dataframe thead tr:last-of-type th {\n",
              "        text-align: right;\n",
              "    }\n",
              "</style>\n",
              "<table border=\"1\" class=\"dataframe\">\n",
              "  <thead>\n",
              "    <tr>\n",
              "      <th></th>\n",
              "      <th colspan=\"8\" halign=\"left\">Unnamed: 0</th>\n",
              "      <th colspan=\"8\" halign=\"left\">label</th>\n",
              "    </tr>\n",
              "    <tr>\n",
              "      <th></th>\n",
              "      <th>count</th>\n",
              "      <th>mean</th>\n",
              "      <th>std</th>\n",
              "      <th>min</th>\n",
              "      <th>25%</th>\n",
              "      <th>50%</th>\n",
              "      <th>75%</th>\n",
              "      <th>max</th>\n",
              "      <th>count</th>\n",
              "      <th>mean</th>\n",
              "      <th>std</th>\n",
              "      <th>min</th>\n",
              "      <th>25%</th>\n",
              "      <th>50%</th>\n",
              "      <th>75%</th>\n",
              "      <th>max</th>\n",
              "    </tr>\n",
              "    <tr>\n",
              "      <th>formtype</th>\n",
              "      <th></th>\n",
              "      <th></th>\n",
              "      <th></th>\n",
              "      <th></th>\n",
              "      <th></th>\n",
              "      <th></th>\n",
              "      <th></th>\n",
              "      <th></th>\n",
              "      <th></th>\n",
              "      <th></th>\n",
              "      <th></th>\n",
              "      <th></th>\n",
              "      <th></th>\n",
              "      <th></th>\n",
              "      <th></th>\n",
              "      <th></th>\n",
              "    </tr>\n",
              "  </thead>\n",
              "  <tbody>\n",
              "    <tr>\n",
              "      <th>Form 11-K</th>\n",
              "      <td>1.0</td>\n",
              "      <td>183.000000</td>\n",
              "      <td>NaN</td>\n",
              "      <td>183.0</td>\n",
              "      <td>183.00</td>\n",
              "      <td>183.0</td>\n",
              "      <td>183.00</td>\n",
              "      <td>183.0</td>\n",
              "      <td>1.0</td>\n",
              "      <td>5.0</td>\n",
              "      <td>NaN</td>\n",
              "      <td>5.0</td>\n",
              "      <td>5.0</td>\n",
              "      <td>5.0</td>\n",
              "      <td>5.0</td>\n",
              "      <td>5.0</td>\n",
              "    </tr>\n",
              "    <tr>\n",
              "      <th>Form 13F</th>\n",
              "      <td>197.0</td>\n",
              "      <td>146.984772</td>\n",
              "      <td>93.381076</td>\n",
              "      <td>3.0</td>\n",
              "      <td>64.00</td>\n",
              "      <td>139.0</td>\n",
              "      <td>241.00</td>\n",
              "      <td>303.0</td>\n",
              "      <td>197.0</td>\n",
              "      <td>1.0</td>\n",
              "      <td>0.0</td>\n",
              "      <td>1.0</td>\n",
              "      <td>1.0</td>\n",
              "      <td>1.0</td>\n",
              "      <td>1.0</td>\n",
              "      <td>1.0</td>\n",
              "    </tr>\n",
              "    <tr>\n",
              "      <th>Form 19B-4</th>\n",
              "      <td>6.0</td>\n",
              "      <td>296.500000</td>\n",
              "      <td>1.870829</td>\n",
              "      <td>294.0</td>\n",
              "      <td>295.25</td>\n",
              "      <td>296.5</td>\n",
              "      <td>297.75</td>\n",
              "      <td>299.0</td>\n",
              "      <td>6.0</td>\n",
              "      <td>6.0</td>\n",
              "      <td>0.0</td>\n",
              "      <td>6.0</td>\n",
              "      <td>6.0</td>\n",
              "      <td>6.0</td>\n",
              "      <td>6.0</td>\n",
              "      <td>6.0</td>\n",
              "    </tr>\n",
              "    <tr>\n",
              "      <th>Form 6-K</th>\n",
              "      <td>2.0</td>\n",
              "      <td>115.500000</td>\n",
              "      <td>0.707107</td>\n",
              "      <td>115.0</td>\n",
              "      <td>115.25</td>\n",
              "      <td>115.5</td>\n",
              "      <td>115.75</td>\n",
              "      <td>116.0</td>\n",
              "      <td>2.0</td>\n",
              "      <td>4.0</td>\n",
              "      <td>0.0</td>\n",
              "      <td>4.0</td>\n",
              "      <td>4.0</td>\n",
              "      <td>4.0</td>\n",
              "      <td>4.0</td>\n",
              "      <td>4.0</td>\n",
              "    </tr>\n",
              "    <tr>\n",
              "      <th>Form D</th>\n",
              "      <td>41.0</td>\n",
              "      <td>139.390244</td>\n",
              "      <td>99.240586</td>\n",
              "      <td>0.0</td>\n",
              "      <td>52.00</td>\n",
              "      <td>176.0</td>\n",
              "      <td>202.00</td>\n",
              "      <td>293.0</td>\n",
              "      <td>41.0</td>\n",
              "      <td>0.0</td>\n",
              "      <td>0.0</td>\n",
              "      <td>0.0</td>\n",
              "      <td>0.0</td>\n",
              "      <td>0.0</td>\n",
              "      <td>0.0</td>\n",
              "      <td>0.0</td>\n",
              "    </tr>\n",
              "    <tr>\n",
              "      <th>Form TA-2</th>\n",
              "      <td>6.0</td>\n",
              "      <td>120.500000</td>\n",
              "      <td>3.391165</td>\n",
              "      <td>117.0</td>\n",
              "      <td>118.25</td>\n",
              "      <td>119.5</td>\n",
              "      <td>122.25</td>\n",
              "      <td>126.0</td>\n",
              "      <td>6.0</td>\n",
              "      <td>3.0</td>\n",
              "      <td>0.0</td>\n",
              "      <td>3.0</td>\n",
              "      <td>3.0</td>\n",
              "      <td>3.0</td>\n",
              "      <td>3.0</td>\n",
              "      <td>3.0</td>\n",
              "    </tr>\n",
              "    <tr>\n",
              "      <th>Form X-17A-5</th>\n",
              "      <td>11.0</td>\n",
              "      <td>122.272727</td>\n",
              "      <td>6.574054</td>\n",
              "      <td>112.0</td>\n",
              "      <td>117.50</td>\n",
              "      <td>124.0</td>\n",
              "      <td>127.50</td>\n",
              "      <td>130.0</td>\n",
              "      <td>11.0</td>\n",
              "      <td>2.0</td>\n",
              "      <td>0.0</td>\n",
              "      <td>2.0</td>\n",
              "      <td>2.0</td>\n",
              "      <td>2.0</td>\n",
              "      <td>2.0</td>\n",
              "      <td>2.0</td>\n",
              "    </tr>\n",
              "    <tr>\n",
              "      <th>Other</th>\n",
              "      <td>40.0</td>\n",
              "      <td>178.100000</td>\n",
              "      <td>37.338232</td>\n",
              "      <td>20.0</td>\n",
              "      <td>162.75</td>\n",
              "      <td>172.5</td>\n",
              "      <td>187.75</td>\n",
              "      <td>232.0</td>\n",
              "      <td>40.0</td>\n",
              "      <td>7.0</td>\n",
              "      <td>0.0</td>\n",
              "      <td>7.0</td>\n",
              "      <td>7.0</td>\n",
              "      <td>7.0</td>\n",
              "      <td>7.0</td>\n",
              "      <td>7.0</td>\n",
              "    </tr>\n",
              "  </tbody>\n",
              "</table>\n",
              "</div>\n",
              "    <div class=\"colab-df-buttons\">\n",
              "\n",
              "  <div class=\"colab-df-container\">\n",
              "    <button class=\"colab-df-convert\" onclick=\"convertToInteractive('df-ee0837f4-549c-42e9-a60e-ddb7bf4b64e5')\"\n",
              "            title=\"Convert this dataframe to an interactive table.\"\n",
              "            style=\"display:none;\">\n",
              "\n",
              "  <svg xmlns=\"http://www.w3.org/2000/svg\" height=\"24px\" viewBox=\"0 -960 960 960\">\n",
              "    <path d=\"M120-120v-720h720v720H120Zm60-500h600v-160H180v160Zm220 220h160v-160H400v160Zm0 220h160v-160H400v160ZM180-400h160v-160H180v160Zm440 0h160v-160H620v160ZM180-180h160v-160H180v160Zm440 0h160v-160H620v160Z\"/>\n",
              "  </svg>\n",
              "    </button>\n",
              "\n",
              "  <style>\n",
              "    .colab-df-container {\n",
              "      display:flex;\n",
              "      gap: 12px;\n",
              "    }\n",
              "\n",
              "    .colab-df-convert {\n",
              "      background-color: #E8F0FE;\n",
              "      border: none;\n",
              "      border-radius: 50%;\n",
              "      cursor: pointer;\n",
              "      display: none;\n",
              "      fill: #1967D2;\n",
              "      height: 32px;\n",
              "      padding: 0 0 0 0;\n",
              "      width: 32px;\n",
              "    }\n",
              "\n",
              "    .colab-df-convert:hover {\n",
              "      background-color: #E2EBFA;\n",
              "      box-shadow: 0px 1px 2px rgba(60, 64, 67, 0.3), 0px 1px 3px 1px rgba(60, 64, 67, 0.15);\n",
              "      fill: #174EA6;\n",
              "    }\n",
              "\n",
              "    .colab-df-buttons div {\n",
              "      margin-bottom: 4px;\n",
              "    }\n",
              "\n",
              "    [theme=dark] .colab-df-convert {\n",
              "      background-color: #3B4455;\n",
              "      fill: #D2E3FC;\n",
              "    }\n",
              "\n",
              "    [theme=dark] .colab-df-convert:hover {\n",
              "      background-color: #434B5C;\n",
              "      box-shadow: 0px 1px 3px 1px rgba(0, 0, 0, 0.15);\n",
              "      filter: drop-shadow(0px 1px 2px rgba(0, 0, 0, 0.3));\n",
              "      fill: #FFFFFF;\n",
              "    }\n",
              "  </style>\n",
              "\n",
              "    <script>\n",
              "      const buttonEl =\n",
              "        document.querySelector('#df-ee0837f4-549c-42e9-a60e-ddb7bf4b64e5 button.colab-df-convert');\n",
              "      buttonEl.style.display =\n",
              "        google.colab.kernel.accessAllowed ? 'block' : 'none';\n",
              "\n",
              "      async function convertToInteractive(key) {\n",
              "        const element = document.querySelector('#df-ee0837f4-549c-42e9-a60e-ddb7bf4b64e5');\n",
              "        const dataTable =\n",
              "          await google.colab.kernel.invokeFunction('convertToInteractive',\n",
              "                                                    [key], {});\n",
              "        if (!dataTable) return;\n",
              "\n",
              "        const docLinkHtml = 'Like what you see? Visit the ' +\n",
              "          '<a target=\"_blank\" href=https://colab.research.google.com/notebooks/data_table.ipynb>data table notebook</a>'\n",
              "          + ' to learn more about interactive tables.';\n",
              "        element.innerHTML = '';\n",
              "        dataTable['output_type'] = 'display_data';\n",
              "        await google.colab.output.renderOutput(dataTable, element);\n",
              "        const docLink = document.createElement('div');\n",
              "        docLink.innerHTML = docLinkHtml;\n",
              "        element.appendChild(docLink);\n",
              "      }\n",
              "    </script>\n",
              "  </div>\n",
              "\n",
              "\n",
              "<div id=\"df-6f33284c-5d42-44aa-8201-65797eb5600e\">\n",
              "  <button class=\"colab-df-quickchart\" onclick=\"quickchart('df-6f33284c-5d42-44aa-8201-65797eb5600e')\"\n",
              "            title=\"Suggest charts.\"\n",
              "            style=\"display:none;\">\n",
              "\n",
              "<svg xmlns=\"http://www.w3.org/2000/svg\" height=\"24px\"viewBox=\"0 0 24 24\"\n",
              "     width=\"24px\">\n",
              "    <g>\n",
              "        <path d=\"M19 3H5c-1.1 0-2 .9-2 2v14c0 1.1.9 2 2 2h14c1.1 0 2-.9 2-2V5c0-1.1-.9-2-2-2zM9 17H7v-7h2v7zm4 0h-2V7h2v10zm4 0h-2v-4h2v4z\"/>\n",
              "    </g>\n",
              "</svg>\n",
              "  </button>\n",
              "\n",
              "<style>\n",
              "  .colab-df-quickchart {\n",
              "      --bg-color: #E8F0FE;\n",
              "      --fill-color: #1967D2;\n",
              "      --hover-bg-color: #E2EBFA;\n",
              "      --hover-fill-color: #174EA6;\n",
              "      --disabled-fill-color: #AAA;\n",
              "      --disabled-bg-color: #DDD;\n",
              "  }\n",
              "\n",
              "  [theme=dark] .colab-df-quickchart {\n",
              "      --bg-color: #3B4455;\n",
              "      --fill-color: #D2E3FC;\n",
              "      --hover-bg-color: #434B5C;\n",
              "      --hover-fill-color: #FFFFFF;\n",
              "      --disabled-bg-color: #3B4455;\n",
              "      --disabled-fill-color: #666;\n",
              "  }\n",
              "\n",
              "  .colab-df-quickchart {\n",
              "    background-color: var(--bg-color);\n",
              "    border: none;\n",
              "    border-radius: 50%;\n",
              "    cursor: pointer;\n",
              "    display: none;\n",
              "    fill: var(--fill-color);\n",
              "    height: 32px;\n",
              "    padding: 0;\n",
              "    width: 32px;\n",
              "  }\n",
              "\n",
              "  .colab-df-quickchart:hover {\n",
              "    background-color: var(--hover-bg-color);\n",
              "    box-shadow: 0 1px 2px rgba(60, 64, 67, 0.3), 0 1px 3px 1px rgba(60, 64, 67, 0.15);\n",
              "    fill: var(--button-hover-fill-color);\n",
              "  }\n",
              "\n",
              "  .colab-df-quickchart-complete:disabled,\n",
              "  .colab-df-quickchart-complete:disabled:hover {\n",
              "    background-color: var(--disabled-bg-color);\n",
              "    fill: var(--disabled-fill-color);\n",
              "    box-shadow: none;\n",
              "  }\n",
              "\n",
              "  .colab-df-spinner {\n",
              "    border: 2px solid var(--fill-color);\n",
              "    border-color: transparent;\n",
              "    border-bottom-color: var(--fill-color);\n",
              "    animation:\n",
              "      spin 1s steps(1) infinite;\n",
              "  }\n",
              "\n",
              "  @keyframes spin {\n",
              "    0% {\n",
              "      border-color: transparent;\n",
              "      border-bottom-color: var(--fill-color);\n",
              "      border-left-color: var(--fill-color);\n",
              "    }\n",
              "    20% {\n",
              "      border-color: transparent;\n",
              "      border-left-color: var(--fill-color);\n",
              "      border-top-color: var(--fill-color);\n",
              "    }\n",
              "    30% {\n",
              "      border-color: transparent;\n",
              "      border-left-color: var(--fill-color);\n",
              "      border-top-color: var(--fill-color);\n",
              "      border-right-color: var(--fill-color);\n",
              "    }\n",
              "    40% {\n",
              "      border-color: transparent;\n",
              "      border-right-color: var(--fill-color);\n",
              "      border-top-color: var(--fill-color);\n",
              "    }\n",
              "    60% {\n",
              "      border-color: transparent;\n",
              "      border-right-color: var(--fill-color);\n",
              "    }\n",
              "    80% {\n",
              "      border-color: transparent;\n",
              "      border-right-color: var(--fill-color);\n",
              "      border-bottom-color: var(--fill-color);\n",
              "    }\n",
              "    90% {\n",
              "      border-color: transparent;\n",
              "      border-bottom-color: var(--fill-color);\n",
              "    }\n",
              "  }\n",
              "</style>\n",
              "\n",
              "  <script>\n",
              "    async function quickchart(key) {\n",
              "      const quickchartButtonEl =\n",
              "        document.querySelector('#' + key + ' button');\n",
              "      quickchartButtonEl.disabled = true;  // To prevent multiple clicks.\n",
              "      quickchartButtonEl.classList.add('colab-df-spinner');\n",
              "      try {\n",
              "        const charts = await google.colab.kernel.invokeFunction(\n",
              "            'suggestCharts', [key], {});\n",
              "      } catch (error) {\n",
              "        console.error('Error during call to suggestCharts:', error);\n",
              "      }\n",
              "      quickchartButtonEl.classList.remove('colab-df-spinner');\n",
              "      quickchartButtonEl.classList.add('colab-df-quickchart-complete');\n",
              "    }\n",
              "    (() => {\n",
              "      let quickchartButtonEl =\n",
              "        document.querySelector('#df-6f33284c-5d42-44aa-8201-65797eb5600e button');\n",
              "      quickchartButtonEl.style.display =\n",
              "        google.colab.kernel.accessAllowed ? 'block' : 'none';\n",
              "    })();\n",
              "  </script>\n",
              "</div>\n",
              "    </div>\n",
              "  </div>\n"
            ]
          },
          "metadata": {},
          "execution_count": 9
        }
      ]
    },
    {
      "cell_type": "code",
      "source": [
        "df['formtype'].value_counts()"
      ],
      "metadata": {
        "colab": {
          "base_uri": "https://localhost:8080/"
        },
        "id": "yCkaY2ixv8Lw",
        "outputId": "9e79fc25-2506-479f-81b2-ffeda9ddfb5d"
      },
      "execution_count": 10,
      "outputs": [
        {
          "output_type": "execute_result",
          "data": {
            "text/plain": [
              "Form 13F        197\n",
              "Form D           41\n",
              "Other            40\n",
              "Form X-17A-5     11\n",
              "Form TA-2         6\n",
              "Form 19B-4        6\n",
              "Form 6-K          2\n",
              "Form 11-K         1\n",
              "Name: formtype, dtype: int64"
            ]
          },
          "metadata": {},
          "execution_count": 10
        }
      ]
    },
    {
      "cell_type": "markdown",
      "source": [
        "\n",
        "---\n",
        "\n",
        "\n",
        "**As we can see from above, there is a huge class\n",
        "imbalance issue in the dataset with Form 13F having relatively high samples than all the other form types. This results in Overfitting of the model. Also, we can drop the Form types which are having very less samples to avoid affecting the accuracy of the model.**\n",
        "\n",
        "---\n",
        "\n",
        "\n",
        "\n"
      ],
      "metadata": {
        "id": "SAP47JgWGtQ7"
      }
    },
    {
      "cell_type": "code",
      "source": [
        "form_list = ['Form TA-2', 'Form 19B-4', 'Form 6-K', 'Form 11-K']"
      ],
      "metadata": {
        "id": "W1U_PlOCv8TX"
      },
      "execution_count": 11,
      "outputs": []
    },
    {
      "cell_type": "code",
      "source": [
        "index_list = []\n",
        "\n",
        "for i in form_list:\n",
        "  a = list(df.index[df['formtype'] == i])\n",
        "  for n in a:\n",
        "    index_list.append(n)"
      ],
      "metadata": {
        "id": "f9xLot2Gv8XL"
      },
      "execution_count": 12,
      "outputs": []
    },
    {
      "cell_type": "code",
      "source": [
        "index_list"
      ],
      "metadata": {
        "colab": {
          "base_uri": "https://localhost:8080/"
        },
        "id": "z3a1Ab9yv8al",
        "outputId": "f60af693-7fa9-4bfe-abcd-44b31cea174a"
      },
      "execution_count": 13,
      "outputs": [
        {
          "output_type": "execute_result",
          "data": {
            "text/plain": [
              "[117, 118, 119, 120, 123, 126, 294, 295, 296, 297, 298, 299, 115, 116, 183]"
            ]
          },
          "metadata": {},
          "execution_count": 13
        }
      ]
    },
    {
      "cell_type": "markdown",
      "source": [
        "**Dropping the Forms having very less samples**"
      ],
      "metadata": {
        "id": "oUeHlxqKHyww"
      }
    },
    {
      "cell_type": "code",
      "source": [
        "df = df.drop(index_list)"
      ],
      "metadata": {
        "id": "esITJK-hv8f1"
      },
      "execution_count": 14,
      "outputs": []
    },
    {
      "cell_type": "code",
      "source": [
        "df['formtype'].value_counts()"
      ],
      "metadata": {
        "colab": {
          "base_uri": "https://localhost:8080/"
        },
        "id": "H2LiuWhOv8jd",
        "outputId": "fbba3c7a-427b-4e44-bcb9-84850cd6ce90"
      },
      "execution_count": 15,
      "outputs": [
        {
          "output_type": "execute_result",
          "data": {
            "text/plain": [
              "Form 13F        197\n",
              "Form D           41\n",
              "Other            40\n",
              "Form X-17A-5     11\n",
              "Name: formtype, dtype: int64"
            ]
          },
          "metadata": {},
          "execution_count": 15
        }
      ]
    },
    {
      "cell_type": "markdown",
      "source": [
        "**Downsampling the Form 13F to a size equivalent to Form D and Other type**"
      ],
      "metadata": {
        "id": "iNDkc85IH5L9"
      }
    },
    {
      "cell_type": "code",
      "source": [
        "df_FORMD = df[df['formtype']=='Form D']\n",
        "df_FORMD.shape"
      ],
      "metadata": {
        "colab": {
          "base_uri": "https://localhost:8080/"
        },
        "id": "0HsDwiN1v8nM",
        "outputId": "ce6bcf22-a7f3-41b6-f1c2-4d9545c9dbb8"
      },
      "execution_count": 16,
      "outputs": [
        {
          "output_type": "execute_result",
          "data": {
            "text/plain": [
              "(41, 5)"
            ]
          },
          "metadata": {},
          "execution_count": 16
        }
      ]
    },
    {
      "cell_type": "code",
      "source": [
        "df_FORM13F = df[df['formtype']=='Form 13F']\n",
        "df_FORM13F.shape"
      ],
      "metadata": {
        "colab": {
          "base_uri": "https://localhost:8080/"
        },
        "id": "SHY3jHYyv8qw",
        "outputId": "8a355b73-50ad-4cdc-a9f3-7a9757ea9a9b"
      },
      "execution_count": 17,
      "outputs": [
        {
          "output_type": "execute_result",
          "data": {
            "text/plain": [
              "(197, 5)"
            ]
          },
          "metadata": {},
          "execution_count": 17
        }
      ]
    },
    {
      "cell_type": "code",
      "source": [
        "df_rest = df[df['formtype'].isin(['Form X-17A-5', 'Other'])]\n",
        "df_rest.shape"
      ],
      "metadata": {
        "colab": {
          "base_uri": "https://localhost:8080/"
        },
        "id": "J7wzTGjGz6AN",
        "outputId": "5f4da9a4-cf25-4975-e48d-d015f87e9a59"
      },
      "execution_count": 18,
      "outputs": [
        {
          "output_type": "execute_result",
          "data": {
            "text/plain": [
              "(51, 5)"
            ]
          },
          "metadata": {},
          "execution_count": 18
        }
      ]
    },
    {
      "cell_type": "code",
      "source": [
        "df_FORM13F_downsampled = df_FORM13F.sample(df_FORMD.shape[0])\n",
        "df_FORM13F_downsampled.shape"
      ],
      "metadata": {
        "colab": {
          "base_uri": "https://localhost:8080/"
        },
        "id": "eZpDMbbiz6Cc",
        "outputId": "95536be5-7166-47e0-edbb-88176302b90a"
      },
      "execution_count": 19,
      "outputs": [
        {
          "output_type": "execute_result",
          "data": {
            "text/plain": [
              "(41, 5)"
            ]
          },
          "metadata": {},
          "execution_count": 19
        }
      ]
    },
    {
      "cell_type": "code",
      "source": [
        "df_balanced = pd.concat([df_FORM13F_downsampled, df_FORMD, df_rest])\n",
        "df_balanced.shape"
      ],
      "metadata": {
        "colab": {
          "base_uri": "https://localhost:8080/"
        },
        "id": "3SMLhDpBz6Es",
        "outputId": "a149429e-7f28-4a85-a8a7-ae598855ebaf"
      },
      "execution_count": 20,
      "outputs": [
        {
          "output_type": "execute_result",
          "data": {
            "text/plain": [
              "(133, 5)"
            ]
          },
          "metadata": {},
          "execution_count": 20
        }
      ]
    },
    {
      "cell_type": "code",
      "source": [
        "df_balanced['formtype'].value_counts()"
      ],
      "metadata": {
        "colab": {
          "base_uri": "https://localhost:8080/"
        },
        "id": "6eoYo6gsz6G8",
        "outputId": "b613a267-6d36-4187-b5d9-5f30fe5d5492"
      },
      "execution_count": 21,
      "outputs": [
        {
          "output_type": "execute_result",
          "data": {
            "text/plain": [
              "Form 13F        41\n",
              "Form D          41\n",
              "Other           40\n",
              "Form X-17A-5    11\n",
              "Name: formtype, dtype: int64"
            ]
          },
          "metadata": {},
          "execution_count": 21
        }
      ]
    },
    {
      "cell_type": "code",
      "source": [
        "!pip install swifter"
      ],
      "metadata": {
        "colab": {
          "base_uri": "https://localhost:8080/"
        },
        "id": "pMyYfC4FGK44",
        "outputId": "de76417a-a832-4322-f093-ea9679671eef"
      },
      "execution_count": 22,
      "outputs": [
        {
          "output_type": "stream",
          "name": "stdout",
          "text": [
            "Collecting swifter\n",
            "  Downloading swifter-1.4.0.tar.gz (1.2 MB)\n",
            "\u001b[2K     \u001b[90m━━━━━━━━━━━━━━━━━━━━━━━━━━━━━━━━━━━━━━━━\u001b[0m \u001b[32m1.2/1.2 MB\u001b[0m \u001b[31m9.1 MB/s\u001b[0m eta \u001b[36m0:00:00\u001b[0m\n",
            "\u001b[?25h  Preparing metadata (setup.py) ... \u001b[?25l\u001b[?25hdone\n",
            "Requirement already satisfied: pandas>=1.0.0 in /usr/local/lib/python3.10/dist-packages (from swifter) (1.5.3)\n",
            "Requirement already satisfied: psutil>=5.6.6 in /usr/local/lib/python3.10/dist-packages (from swifter) (5.9.5)\n",
            "Requirement already satisfied: dask[dataframe]>=2.10.0 in /usr/local/lib/python3.10/dist-packages (from swifter) (2023.8.1)\n",
            "Requirement already satisfied: tqdm>=4.33.0 in /usr/local/lib/python3.10/dist-packages (from swifter) (4.66.1)\n",
            "Requirement already satisfied: click>=8.0 in /usr/local/lib/python3.10/dist-packages (from dask[dataframe]>=2.10.0->swifter) (8.1.7)\n",
            "Requirement already satisfied: cloudpickle>=1.5.0 in /usr/local/lib/python3.10/dist-packages (from dask[dataframe]>=2.10.0->swifter) (2.2.1)\n",
            "Requirement already satisfied: fsspec>=2021.09.0 in /usr/local/lib/python3.10/dist-packages (from dask[dataframe]>=2.10.0->swifter) (2023.6.0)\n",
            "Requirement already satisfied: packaging>=20.0 in /usr/local/lib/python3.10/dist-packages (from dask[dataframe]>=2.10.0->swifter) (23.1)\n",
            "Requirement already satisfied: partd>=1.2.0 in /usr/local/lib/python3.10/dist-packages (from dask[dataframe]>=2.10.0->swifter) (1.4.0)\n",
            "Requirement already satisfied: pyyaml>=5.3.1 in /usr/local/lib/python3.10/dist-packages (from dask[dataframe]>=2.10.0->swifter) (6.0.1)\n",
            "Requirement already satisfied: toolz>=0.10.0 in /usr/local/lib/python3.10/dist-packages (from dask[dataframe]>=2.10.0->swifter) (0.12.0)\n",
            "Requirement already satisfied: importlib-metadata>=4.13.0 in /usr/local/lib/python3.10/dist-packages (from dask[dataframe]>=2.10.0->swifter) (6.8.0)\n",
            "Requirement already satisfied: python-dateutil>=2.8.1 in /usr/local/lib/python3.10/dist-packages (from pandas>=1.0.0->swifter) (2.8.2)\n",
            "Requirement already satisfied: pytz>=2020.1 in /usr/local/lib/python3.10/dist-packages (from pandas>=1.0.0->swifter) (2023.3.post1)\n",
            "Requirement already satisfied: numpy>=1.21.0 in /usr/local/lib/python3.10/dist-packages (from pandas>=1.0.0->swifter) (1.23.5)\n",
            "Requirement already satisfied: zipp>=0.5 in /usr/local/lib/python3.10/dist-packages (from importlib-metadata>=4.13.0->dask[dataframe]>=2.10.0->swifter) (3.16.2)\n",
            "Requirement already satisfied: locket in /usr/local/lib/python3.10/dist-packages (from partd>=1.2.0->dask[dataframe]>=2.10.0->swifter) (1.0.0)\n",
            "Requirement already satisfied: six>=1.5 in /usr/local/lib/python3.10/dist-packages (from python-dateutil>=2.8.1->pandas>=1.0.0->swifter) (1.16.0)\n",
            "Building wheels for collected packages: swifter\n",
            "  Building wheel for swifter (setup.py) ... \u001b[?25l\u001b[?25hdone\n",
            "  Created wheel for swifter: filename=swifter-1.4.0-py3-none-any.whl size=16507 sha256=77e2434cfe82a1a6b81df96fc52feda3c17ca2ab92328e76cf48b9dfc588fe63\n",
            "  Stored in directory: /root/.cache/pip/wheels/e4/cf/51/0904952972ee2c7aa3709437065278dc534ec1b8d2ad41b443\n",
            "Successfully built swifter\n",
            "Installing collected packages: swifter\n",
            "Successfully installed swifter-1.4.0\n"
          ]
        }
      ]
    },
    {
      "cell_type": "code",
      "source": [
        "try:\n",
        "    import json\n",
        "    import os\n",
        "\n",
        "    import pandas as  pd\n",
        "    import numpy as np\n",
        "    import spacy\n",
        "\n",
        "    import seaborn as sns\n",
        "    import string\n",
        "\n",
        "    from tqdm import tqdm\n",
        "    from textblob import TextBlob\n",
        "\n",
        "    from nltk.corpus import stopwords\n",
        "    import nltk\n",
        "    from nltk.stem import WordNetLemmatizer\n",
        "    from nltk import word_tokenize\n",
        "    import re\n",
        "\n",
        "\n",
        "    from sklearn.model_selection import train_test_split\n",
        "    from sklearn.preprocessing import LabelEncoder\n",
        "    from sklearn.feature_extraction.text import CountVectorizer\n",
        "    from sklearn.feature_extraction.text import TfidfTransformer\n",
        "    from sklearn.naive_bayes import MultinomialNB\n",
        "    from sklearn.pipeline import Pipeline\n",
        "\n",
        "\n",
        "    from sklearn.preprocessing import FunctionTransformer\n",
        "    from sklearn.base import BaseEstimator, TransformerMixin\n",
        "    from sklearn.pipeline import FeatureUnion\n",
        "    from sklearn.feature_extraction import DictVectorizer\n",
        "\n",
        "    import swifter\n",
        "\n",
        "    tqdm.pandas()\n",
        "except Exception as e:\n",
        "    print(\"Error : {} \".format(e))"
      ],
      "metadata": {
        "id": "o8QYv45WGK7j"
      },
      "execution_count": 23,
      "outputs": []
    },
    {
      "cell_type": "code",
      "source": [
        "import nltk\n",
        "nltk.download('punkt')\n",
        "nltk.download('stopwords')\n",
        "nltk.download('wordnet')\n",
        "nltk.download('averaged_perceptron_tagger')"
      ],
      "metadata": {
        "colab": {
          "base_uri": "https://localhost:8080/"
        },
        "id": "DS_G5WjtGK-J",
        "outputId": "ab428aab-b45f-4992-95d0-c5600221c63e"
      },
      "execution_count": 24,
      "outputs": [
        {
          "output_type": "stream",
          "name": "stderr",
          "text": [
            "[nltk_data] Downloading package punkt to /root/nltk_data...\n",
            "[nltk_data]   Unzipping tokenizers/punkt.zip.\n",
            "[nltk_data] Downloading package stopwords to /root/nltk_data...\n",
            "[nltk_data]   Unzipping corpora/stopwords.zip.\n",
            "[nltk_data] Downloading package wordnet to /root/nltk_data...\n",
            "[nltk_data] Downloading package averaged_perceptron_tagger to\n",
            "[nltk_data]     /root/nltk_data...\n",
            "[nltk_data]   Unzipping taggers/averaged_perceptron_tagger.zip.\n"
          ]
        },
        {
          "output_type": "execute_result",
          "data": {
            "text/plain": [
              "True"
            ]
          },
          "metadata": {},
          "execution_count": 24
        }
      ]
    },
    {
      "cell_type": "markdown",
      "source": [
        "## **Cleaning the extracted text**"
      ],
      "metadata": {
        "id": "opRDCrooIUh1"
      }
    },
    {
      "cell_type": "code",
      "source": [
        "stop_words_ = set(stopwords.words('english'))\n",
        "wn = WordNetLemmatizer()\n",
        "my_sw = ['make', 'amp',  'news','new' ,'time', 'u','s', 'photos',  'get', 'say']\n",
        "\n",
        "def black_txt(token):\n",
        "    return  token not in stop_words_ and token not in list(string.punctuation)  and len(token)>2 and token not in my_sw\n",
        "\n",
        "def clean_txt(text):\n",
        "    clean_text = []\n",
        "    clean_text2 = []\n",
        "    text = re.sub(\"'\", \"\",text)\n",
        "    text=re.sub(\"(\\\\d|\\\\W)+\",\" \",text)\n",
        "    clean_text = [wn.lemmatize(word, pos=\"v\") for word in word_tokenize(text.lower()) if black_txt(word)]\n",
        "    clean_text2 = [word for word in clean_text if black_txt(word)]\n",
        "    return \" \".join(clean_text2)"
      ],
      "metadata": {
        "id": "FppthZDcGLAR"
      },
      "execution_count": 25,
      "outputs": []
    },
    {
      "cell_type": "code",
      "source": [
        "def subj_txt(text):\n",
        "    return  TextBlob(text).sentiment[1]"
      ],
      "metadata": {
        "id": "VfNK3WfQGLCy"
      },
      "execution_count": 26,
      "outputs": []
    },
    {
      "cell_type": "code",
      "source": [
        "df_balanced['text_content'] = df_balanced['text_content'].swifter.apply(clean_txt)"
      ],
      "metadata": {
        "colab": {
          "base_uri": "https://localhost:8080/",
          "height": 49,
          "referenced_widgets": [
            "e73f47e5dff0427cbd881e39991c6482",
            "772ea0004cf94d29a151495f99cc4aef",
            "d5761376cf4345caae8b681d6b80f93e",
            "c73372a714f444a6a74df52bbb5d1ec8",
            "edee3ac3c0804813ac4e3088d01605e5",
            "1a6c6443580145d2b788c1fd33998bb7",
            "be061f635a7c4f75bf34472ae173dea8",
            "e3569c87284f4f1f8aa3982fa1ca9580",
            "dc1ca7dda4654686802c1f8834ddbfe3",
            "d8e2246a4c8e4d7cb7ac0eabc819d89a",
            "5b2649e4de864cb9b331f9b586d30e04"
          ]
        },
        "id": "XvbHA79IgsU_",
        "outputId": "bb6fb852-fc6e-4644-9b69-e20cc4eafee8"
      },
      "execution_count": 27,
      "outputs": [
        {
          "output_type": "display_data",
          "data": {
            "text/plain": [
              "Pandas Apply:   0%|          | 0/133 [00:00<?, ?it/s]"
            ],
            "application/vnd.jupyter.widget-view+json": {
              "version_major": 2,
              "version_minor": 0,
              "model_id": "e73f47e5dff0427cbd881e39991c6482"
            }
          },
          "metadata": {}
        }
      ]
    },
    {
      "cell_type": "markdown",
      "source": [
        "## **Splitting the data into Train and Test sets**"
      ],
      "metadata": {
        "id": "qA_-L9MuIyuh"
      }
    },
    {
      "cell_type": "code",
      "source": [
        "from sklearn.model_selection import train_test_split\n",
        "\n",
        "X = df_balanced['text_content']\n",
        "y =df_balanced['label']\n",
        "\n",
        "X_train, X_test, y_train, y_test = train_test_split(X, y, test_size=0.2)\n",
        "v = dict(zip(list(y), df_balanced['formtype'].to_list()))"
      ],
      "metadata": {
        "id": "YoalUl8aOp-n"
      },
      "execution_count": 44,
      "outputs": []
    },
    {
      "cell_type": "markdown",
      "source": [
        "## **Creating a Pipeline including Naive Bayes Classifier for classification of Documents**"
      ],
      "metadata": {
        "id": "yBjIOxGQI5ly"
      }
    },
    {
      "cell_type": "code",
      "source": [
        "text_clf = Pipeline([\n",
        "...     ('vect', CountVectorizer(analyzer=\"word\", stop_words=\"english\")),\n",
        "...     ('tfidf', TfidfTransformer(use_idf=True)),\n",
        "...     ('clf', MultinomialNB(alpha=.01)),\n",
        "... ])"
      ],
      "metadata": {
        "id": "E9ZIVxVlS-WV"
      },
      "execution_count": 45,
      "outputs": []
    },
    {
      "cell_type": "code",
      "source": [
        "text_clf.fit(X_train.to_list(), list(y_train))"
      ],
      "metadata": {
        "colab": {
          "base_uri": "https://localhost:8080/",
          "height": 158
        },
        "id": "cv9dl5UjinqB",
        "outputId": "fc397a44-f121-49b8-cd33-cacb336308a2"
      },
      "execution_count": 46,
      "outputs": [
        {
          "output_type": "execute_result",
          "data": {
            "text/plain": [
              "Pipeline(steps=[('vect', CountVectorizer(stop_words='english')),\n",
              "                ('tfidf', TfidfTransformer()),\n",
              "                ('clf', MultinomialNB(alpha=0.01))])"
            ],
            "text/html": [
              "<style>#sk-container-id-2 {color: black;background-color: white;}#sk-container-id-2 pre{padding: 0;}#sk-container-id-2 div.sk-toggleable {background-color: white;}#sk-container-id-2 label.sk-toggleable__label {cursor: pointer;display: block;width: 100%;margin-bottom: 0;padding: 0.3em;box-sizing: border-box;text-align: center;}#sk-container-id-2 label.sk-toggleable__label-arrow:before {content: \"▸\";float: left;margin-right: 0.25em;color: #696969;}#sk-container-id-2 label.sk-toggleable__label-arrow:hover:before {color: black;}#sk-container-id-2 div.sk-estimator:hover label.sk-toggleable__label-arrow:before {color: black;}#sk-container-id-2 div.sk-toggleable__content {max-height: 0;max-width: 0;overflow: hidden;text-align: left;background-color: #f0f8ff;}#sk-container-id-2 div.sk-toggleable__content pre {margin: 0.2em;color: black;border-radius: 0.25em;background-color: #f0f8ff;}#sk-container-id-2 input.sk-toggleable__control:checked~div.sk-toggleable__content {max-height: 200px;max-width: 100%;overflow: auto;}#sk-container-id-2 input.sk-toggleable__control:checked~label.sk-toggleable__label-arrow:before {content: \"▾\";}#sk-container-id-2 div.sk-estimator input.sk-toggleable__control:checked~label.sk-toggleable__label {background-color: #d4ebff;}#sk-container-id-2 div.sk-label input.sk-toggleable__control:checked~label.sk-toggleable__label {background-color: #d4ebff;}#sk-container-id-2 input.sk-hidden--visually {border: 0;clip: rect(1px 1px 1px 1px);clip: rect(1px, 1px, 1px, 1px);height: 1px;margin: -1px;overflow: hidden;padding: 0;position: absolute;width: 1px;}#sk-container-id-2 div.sk-estimator {font-family: monospace;background-color: #f0f8ff;border: 1px dotted black;border-radius: 0.25em;box-sizing: border-box;margin-bottom: 0.5em;}#sk-container-id-2 div.sk-estimator:hover {background-color: #d4ebff;}#sk-container-id-2 div.sk-parallel-item::after {content: \"\";width: 100%;border-bottom: 1px solid gray;flex-grow: 1;}#sk-container-id-2 div.sk-label:hover label.sk-toggleable__label {background-color: #d4ebff;}#sk-container-id-2 div.sk-serial::before {content: \"\";position: absolute;border-left: 1px solid gray;box-sizing: border-box;top: 0;bottom: 0;left: 50%;z-index: 0;}#sk-container-id-2 div.sk-serial {display: flex;flex-direction: column;align-items: center;background-color: white;padding-right: 0.2em;padding-left: 0.2em;position: relative;}#sk-container-id-2 div.sk-item {position: relative;z-index: 1;}#sk-container-id-2 div.sk-parallel {display: flex;align-items: stretch;justify-content: center;background-color: white;position: relative;}#sk-container-id-2 div.sk-item::before, #sk-container-id-2 div.sk-parallel-item::before {content: \"\";position: absolute;border-left: 1px solid gray;box-sizing: border-box;top: 0;bottom: 0;left: 50%;z-index: -1;}#sk-container-id-2 div.sk-parallel-item {display: flex;flex-direction: column;z-index: 1;position: relative;background-color: white;}#sk-container-id-2 div.sk-parallel-item:first-child::after {align-self: flex-end;width: 50%;}#sk-container-id-2 div.sk-parallel-item:last-child::after {align-self: flex-start;width: 50%;}#sk-container-id-2 div.sk-parallel-item:only-child::after {width: 0;}#sk-container-id-2 div.sk-dashed-wrapped {border: 1px dashed gray;margin: 0 0.4em 0.5em 0.4em;box-sizing: border-box;padding-bottom: 0.4em;background-color: white;}#sk-container-id-2 div.sk-label label {font-family: monospace;font-weight: bold;display: inline-block;line-height: 1.2em;}#sk-container-id-2 div.sk-label-container {text-align: center;}#sk-container-id-2 div.sk-container {/* jupyter's `normalize.less` sets `[hidden] { display: none; }` but bootstrap.min.css set `[hidden] { display: none !important; }` so we also need the `!important` here to be able to override the default hidden behavior on the sphinx rendered scikit-learn.org. See: https://github.com/scikit-learn/scikit-learn/issues/21755 */display: inline-block !important;position: relative;}#sk-container-id-2 div.sk-text-repr-fallback {display: none;}</style><div id=\"sk-container-id-2\" class=\"sk-top-container\"><div class=\"sk-text-repr-fallback\"><pre>Pipeline(steps=[(&#x27;vect&#x27;, CountVectorizer(stop_words=&#x27;english&#x27;)),\n",
              "                (&#x27;tfidf&#x27;, TfidfTransformer()),\n",
              "                (&#x27;clf&#x27;, MultinomialNB(alpha=0.01))])</pre><b>In a Jupyter environment, please rerun this cell to show the HTML representation or trust the notebook. <br />On GitHub, the HTML representation is unable to render, please try loading this page with nbviewer.org.</b></div><div class=\"sk-container\" hidden><div class=\"sk-item sk-dashed-wrapped\"><div class=\"sk-label-container\"><div class=\"sk-label sk-toggleable\"><input class=\"sk-toggleable__control sk-hidden--visually\" id=\"sk-estimator-id-5\" type=\"checkbox\" ><label for=\"sk-estimator-id-5\" class=\"sk-toggleable__label sk-toggleable__label-arrow\">Pipeline</label><div class=\"sk-toggleable__content\"><pre>Pipeline(steps=[(&#x27;vect&#x27;, CountVectorizer(stop_words=&#x27;english&#x27;)),\n",
              "                (&#x27;tfidf&#x27;, TfidfTransformer()),\n",
              "                (&#x27;clf&#x27;, MultinomialNB(alpha=0.01))])</pre></div></div></div><div class=\"sk-serial\"><div class=\"sk-item\"><div class=\"sk-estimator sk-toggleable\"><input class=\"sk-toggleable__control sk-hidden--visually\" id=\"sk-estimator-id-6\" type=\"checkbox\" ><label for=\"sk-estimator-id-6\" class=\"sk-toggleable__label sk-toggleable__label-arrow\">CountVectorizer</label><div class=\"sk-toggleable__content\"><pre>CountVectorizer(stop_words=&#x27;english&#x27;)</pre></div></div></div><div class=\"sk-item\"><div class=\"sk-estimator sk-toggleable\"><input class=\"sk-toggleable__control sk-hidden--visually\" id=\"sk-estimator-id-7\" type=\"checkbox\" ><label for=\"sk-estimator-id-7\" class=\"sk-toggleable__label sk-toggleable__label-arrow\">TfidfTransformer</label><div class=\"sk-toggleable__content\"><pre>TfidfTransformer()</pre></div></div></div><div class=\"sk-item\"><div class=\"sk-estimator sk-toggleable\"><input class=\"sk-toggleable__control sk-hidden--visually\" id=\"sk-estimator-id-8\" type=\"checkbox\" ><label for=\"sk-estimator-id-8\" class=\"sk-toggleable__label sk-toggleable__label-arrow\">MultinomialNB</label><div class=\"sk-toggleable__content\"><pre>MultinomialNB(alpha=0.01)</pre></div></div></div></div></div></div></div>"
            ]
          },
          "metadata": {},
          "execution_count": 46
        }
      ]
    },
    {
      "cell_type": "code",
      "source": [
        "X_TEST = X_test.to_list()\n",
        "Y_TEST = list(y_test)"
      ],
      "metadata": {
        "id": "rdg1v7nninuL"
      },
      "execution_count": 47,
      "outputs": []
    },
    {
      "cell_type": "markdown",
      "source": [
        "## **Predicting on Test set**"
      ],
      "metadata": {
        "id": "YT0sJIdRJa-O"
      }
    },
    {
      "cell_type": "code",
      "source": [
        "predicted = text_clf.predict(X_TEST)"
      ],
      "metadata": {
        "id": "mJFnt9Qvinxo"
      },
      "execution_count": 48,
      "outputs": []
    },
    {
      "cell_type": "code",
      "source": [
        "len(predicted)"
      ],
      "metadata": {
        "colab": {
          "base_uri": "https://localhost:8080/"
        },
        "id": "uVmdF4Wc18W6",
        "outputId": "636c3b26-da29-417d-e5d6-f166f80aa3a4"
      },
      "execution_count": 49,
      "outputs": [
        {
          "output_type": "execute_result",
          "data": {
            "text/plain": [
              "27"
            ]
          },
          "metadata": {},
          "execution_count": 49
        }
      ]
    },
    {
      "cell_type": "code",
      "source": [
        "c = 0\n",
        "y_pred =[]\n",
        "y_pred1 = []\n",
        "for doc, category in zip(X_TEST, predicted):\n",
        "\n",
        "    # if c == 2:break\n",
        "\n",
        "    print(\"-\"*55)\n",
        "    print(doc)\n",
        "    print(\"Predicted Label:\"+ v[category])\n",
        "    y_pred.append(category)\n",
        "    y_pred1.append(v[category])\n",
        "    print(\"Original Label:\"+ str(Y_TEST[c]))\n",
        "    print(\"-\"*55)\n",
        "\n",
        "    c = c + 1"
      ],
      "metadata": {
        "colab": {
          "base_uri": "https://localhost:8080/"
        },
        "id": "1nxuLqh1jT7M",
        "outputId": "95d78c27-d968-4635-d213-6a5a5eb24e1f"
      },
      "execution_count": 50,
      "outputs": [
        {
          "output_type": "stream",
          "name": "stdout",
          "text": [
            "-------------------------------------------------------\n",
            "unite state number best available copy securities exchange conmtssion expire december weshtogton esimated average burden hours per fonm form sec use notice sale sequrities prefix serial pursuant regulationenra section andior date receive uniform lmted offer exemption name offer check amendment name change indicate change special warrant offer january file check box apply rule rule rule section uloe type file enew file amerdment basic identtfication data best available dopy enter infomation request issuer name ssuer check amendment name change indicate change eldoradq gold corporation address exccutive offices number strcet city state zip code telerhepsslughe include area code west hastlngs street vancouver british columbia canada vge address principal business operations number street city state zip code telephone number include area code different executive offices brief description business mine exploration development resources type business organization zcorporatton limit partnership alreedy form please specifytnr business trust jimited pamership to_be fomed month ycar actual estimate date incorporation organization actual estiprjcessed jurisdiction incorporation organization enter two letter postal service abbreviation state canada foreign jurisdiction feb general instructions primark federals_ file issuers offer securities reliance exemption regulation section seq usc file notice must file jater days afiter first sale securities offer notice deem file securitics exchange commission sec carlier date receive sec address give receive address date iis due date mail unite state register certify mail address file securities exchange commission fifth street washington copy requlred eive copy notice must file sec one must manually sign manually sign must photocopy manually sign copy bear type print signaiures information require must contain information request amendments need report name issuer offer change thereto che information request part material change information previously supply part part ihe appendix need file sec fee federa fee state notice shall use indicale reliance uniform limit offer exemption uloe sales securities srates ihat adopicd uloe adopt fom issuers rely uloe must separate notice securities administraro cach state sales ifa state require payment fee precondition claim exemprion fee proper amount shali accompany tis form notice shall filedin appropriate sate accordance state jaw thc appendix nolice constitute part notice must complete attention failure file notlce appropriate state wlil pot result loss federal exemption conversely failure file appropriate ederal notice wlll result loss available state exemption unless exemption predicate federal notice process feb gold copy file file file file\n",
            "Predicted Label:Form D\n",
            "Original Label:0\n",
            "-------------------------------------------------------\n",
            "-------------------------------------------------------\n",
            "umid omb number unted state expire september exchance commssion burden estimate average washingto hours per response rzcd annval audit qrt sec file number form jannbzaol part iii bestavailable copy facng pace iformation require broker deaiers parsuant section cecurties excbange act gnd rule trereunde report perjod begin end loo mmmddiyy mmiddy registrant ientica tion name broker dealer official lse cms investmek esaed ine fipm address principal place business use box arch street suaat philadelphia pennsylvania city sialc coc name telephone number person contact regard report joseph lutes code tajzphone accountant identifcation ndependent public accountant whose opinion contain report asher company lid manc indivitul midt nmti walnut street philadelphta adj sul cpd check one jcertified public accountant process public accountani accountani resident unite stale possessions feb foa official use thomson financial claim exemption ine requirement hal ihe arnual report cover ihe opinion independent public must support sldlemeni jacs circumsiancg rely bazis exemplion see section sie sec patemriai pefsone trspond ahc kollea ion infosmation tis orm srouicze seshepa umess orm djspiegs eosrenalz voiid conrro numbc dlda\n",
            "Predicted Label:Form X-17A-5\n",
            "Original Label:2\n",
            "-------------------------------------------------------\n",
            "-------------------------------------------------------\n",
            "wjf omb apprqval omb number unite state expire september exchange commission estimate average burden nashington hours per response annual audit report sec file number form part iii face page information require broker dealers pursuant section securities exchange act rule thereunder report period begin end mmiddiyy mmddayy registrant denthfcaton tge name broker dealer rbr securities inc no_ address principal place business use box south street stect temple texas faaocessed city stare zip code jan name telephone number person contact regard report marcus rodriguez homson ajrca codc telephonc baccountant dentmfication independent public accountant whose opinion contain report lott vernon company name individual stale last first middle name south street temple texas addiess city state zip code check one certify public accountant public accountant accountant resident unite state possessions official use claim exemption requirement annual report cover opinion independent public accountant must support statement facts circumstances rely basis exemption see section sec potentiel persons arr respond collection information coneained shis form atr nof require respond unless form aisplags currently valid eontrol number cef cureziony dec svon market regulk\n",
            "Predicted Label:Form X-17A-5\n",
            "Original Label:2\n",
            "-------------------------------------------------------\n",
            "-------------------------------------------------------\n",
            "_submissions facingsheet kicrofiche conzrol label registrant nane srbsbsk_ iudenhad current address croefe lzztecf tlukchdc former name processfr address apr zuoz troson financial file fiscal year kuliz complele jor iiiol subvissiows enby pleose role bervee ead oddress ehenges indicnteeorm_type tq_be_usedforwqrkload_bntrx initial file annual report reinstatzment soppl def proxy oic date jzlea doral\n",
            "Predicted Label:Other\n",
            "Original Label:7\n",
            "-------------------------------------------------------\n",
            "-------------------------------------------------------\n",
            "lire treatment request fcon unite state securities exchange commission washington form form cover page report calendar year quarter end march check amendment amendment number amendment check one restatement add hold entries institutional investment manager file report name chesapeake partner management inc address reisterstown road suite baltimore maryland form file number institutional investment manager report person sign hereby represent person sign report authorize submit inforation contain herein true correct complete understand require items statements schedule list table consider integral part form person sign report behalf report manager process name mark lerner title vice president apr phone signature place date sign isl mark lerner baltimore maryland signature city state date report type check one hold report check hold report manager report report notice check hold report report hold report report manager combination report check portion hold report manager report report portion report report manager poxridoell cos file gnzon\n",
            "Predicted Label:Form 13F\n",
            "Original Label:1\n",
            "-------------------------------------------------------\n",
            "-------------------------------------------------------\n",
            "omb approval securities amission omb number washington expire october estimate average burden annual audit report hours per response form xiza sec file number part iii receive face page information require broker dealers pursuanto secdrr togh ooz securities exhange act rule tierkander report period begin kxlo end mmiddiyy mmiddnyy registrant identification name broker dealer baxslas frst tic pfficial use address principal place business use box firm no_ rotidus dwe sit street dabla city state zip code name telephone person contact regard report bsh npxer glf area code telephone number accountant identification independent public accountant whose opinion contain report iaussec iaybc llp name individual state last first middle name wist natiwd_hy szityoo_ cglubus address city state zip code check one certify public accountant public accountant processfd accountant resident unite state possessions may official use thomsoa financial claim exemption requirement report cover opinion independent public accountant must support statement facts circumstances rely basis exemption see section sec persons respond collection information contain form require respond unless form display currently valid omb control number mal secl annual\n",
            "Predicted Label:Form X-17A-5\n",
            "Original Label:2\n",
            "-------------------------------------------------------\n",
            "-------------------------------------------------------\n",
            "fcon unite state confidenal securities exchange commission washington btzcd form may form cover page report calendar year quarter end march check amendment amendment number amendment check one restatement_ add hold entries institutional investment manager file report name david berkowitz address gotham partner management east street floor york_ york form file number institutional investment manager file report person sign hereby represent person sign report authorize submit it_ information contain herein true correct complete understand require items statements schedule list table consider integral part form person sign report behalf report manager process name david berkowitz jan title manager thomson phone financial signature_ place date sign york york srzny hukg expirec reatment cqnfiqentval\n",
            "Predicted Label:Form 13F\n",
            "Original Label:1\n",
            "-------------------------------------------------------\n",
            "-------------------------------------------------------\n",
            "securities exchange commission washington joint report foreign issuers fiul pursuant rule securities exchange act informatidn tuynished july report joint report form file reed international elsevier reed international elsevier registrant registrant victoria street van sande bakhuyzenstraat london amsterdam swih oex netherlands address principal executive office address principal executive office indicate check mark whether registrants furnish furnish annual report cover form form fom v_fom indicate check mark whether registrant furnish information contain also thereby furnish information commission pursuant rule securities exchange act process yes jul thomson financial schedule information contain report notification london stock exchange concern completion harcourt tender offer reed elsevier inc ref rvenv sec lstock exchangelbkreportsl kjointtemplate doc frocessing sec mtz\n",
            "Predicted Label:Other\n",
            "Original Label:7\n",
            "-------------------------------------------------------\n",
            "-------------------------------------------------------\n",
            "form omb approval unite state securities exchange commission washington omb number expire form estimate average burden hours per form___ notice sale securities pursuant regulation sec use section andior prefix serial uniform limit offer exemption date receive name offer ocheck amendment name change indicate change offer secure convertible promissory note warrant underlie share common stock issuable upon conversion common stock file check box apply rule rule rule section uloe type file file amendment basic identification data enter infomation request issuer name issuer check amendment name change indicate change biospace com inc address executive offices number street city state zip code telephone number include area code street san francisco address principal business operations number street city state zip code telephone number include area code different executive offices process brief description business interet service provider feb type business organization corporation limit partnership already form please inancial business trust limit partnership form month year actual estimate date incorporation organization actual estimate jurisdiction incorporation organization enter two letter postal service abbreviation state canada foreign jurisdiction general instructions federal must file issuers offer securities reliance exempption regulation section cfr seg file notice must file later days sale securities offer notice deered file securities exchange commission sec earlier date receive sec address give receive address date date mail unite state register certify mail address file securities exchange commission fifth street washington copy require five_ copy notice must file sec one must manually sign copy manually sign must photocopy manually sign copy bear print signatures information require file must contain infomation request amendments need report name issuer offer change thereto inforation request part material change infommation previously supply part part appendix need file sec_ file fee federal fee state notice shall use indicate reliance uniform limit offer exemption uloe sales securities state adopt uloe adopt issuers rely uloe must file separate notice securities administrator state sales state require payment fee precondition claim exemption fee proper amount shall accompany fom notice shall file appropriate state accordance state jaw appendix notice constitute part notice must complete attention failure file notice appropriate state result loss federal exemption conversely failure file appropriate federal notice result loss available state exemption unless exemption predicate federal notice potential persons respond collection information contain form require respond unless form display currently valid omb control number sec doc may deca specifthomson first due type file file\n",
            "Predicted Label:Form D\n",
            "Original Label:0\n",
            "-------------------------------------------------------\n",
            "-------------------------------------------------------\n",
            "omb approval nited state omb number expire september exchange commission estimate average burden lington hours per response annual audit repora sec file number form part iil mar face page information require broker dealers pursuankio setieg securities exchange act rule thererader report period begin january end december mmmiddiy mmiddiyy registrant denticaton name broker dealer official use mcdermott julian co_ firm address principal place business use box central street sueat natick massachusetts cuty suc zip code name telephone number person contact regard report julian mcdermott ara code terphone west spring drive ellicott maryland accountant identtficaton independent public accountant whose opinion contain report jam kearney cpa ntc indiviua steal fvs middle namc brigantine east cohasset mass add cute sutc cos check one process cenificd public accountant mar public accountani accountant resident uniled stale ils possessions thomson officiai use faartal claim exemption lhe requirement hat annual repor cover ihe opinion independent public accountant must supponed slalemeni facis rcumslances rely basis exemption see section sec poteotiol pecsong respond collaction informarion contaidnd form squiced seepona unlese shc form jisploge eurrently valid controi oumber receive city\n",
            "Predicted Label:Form X-17A-5\n",
            "Original Label:2\n",
            "-------------------------------------------------------\n",
            "-------------------------------------------------------\n",
            "pmekzg fconp sloa unite state securities exchange commission washington form form cover report calendar year quarter end check amendment amendment number amendment check one restatement_ add hold entries institutional investment manager file report name noesis corporation address newport center drive suite newport beach califomia file number institutional investment manager report person sign hereby represent person sign report authorize submit information contain herein true correct complete understand require items statements schedule list table consider integral part person sign report behalf report manager name steve mizusawa title vice president chief financial officer phone may signature place date sign financial newport beacl califomia april report type check one hold report check hold report manager report report notice check hold report report hold report report manager combination report check portion hold report manager report report portion report report manager page may expire treatment confidential file process thomson\n",
            "Predicted Label:Form 13F\n",
            "Original Label:1\n",
            "-------------------------------------------------------\n",
            "-------------------------------------------------------\n",
            "luui raa altn gump rev salcllite asset manngcmcnt approvhu rrct oxa numter izfcon explres october esclmaecd average burden hourb por ncv rebponga unite szxtes securities ekchange _commission mashinqton fozm cover pagz repor cnc calerdor year quarter end septembe check hcre amananent angndment number thia amcndmant check one adda newthcedeng ies jilh nsrlrutiona invastrient manager fillng lhis repore namc satellite aaget managemcnt iddre jov ezotk floox forma file numbex zhe gnog oercby yepceeent ehager cne pergofh thandepbs outhoriaed ynom gulmid infprmatian concained herefn cruc correcc complete ard chat undezstood choc requfred irers czeemodce achadules lbs ard eables congldered integral part fora peeson slgninq cnis repoct behalf reporcing manoger tizzc eni opekstixg ksefngh icec princlpsl phone signatur placa date siqnlng driin kriecner york ney york novamber signature city stace dace repor type chack onky one hold reeort cneck holdlnge report managef report nis rcporc notice check hcre hold report chib rcport ond holdioge reportad othor report managar ljf cohbination report check portion holdinga thlg rcporciog managtr cported thlo report portion grc eported report managor process apr toon francal expire pafafoz treatment confidential\n",
            "Predicted Label:Form 13F\n",
            "Original Label:1\n",
            "-------------------------------------------------------\n",
            "-------------------------------------------------------\n",
            "confidential treatment request ifc fsecurities awexchngs commission washington form form cover page report calendar year quarter end september_ check amendment amendment number amendment check one restatement add hold entries institutional investment manager file report name chesapeake partner management inc address reisterstown road suite baltimore maryland form file number institutional investment manager report person sign hereby represent person sign report authorize submit information contain herein true correct complete understand require items statements schedule list table consider integral part form person sign report behalf report manager name mark lerner apr title vice president phone signature place date sign isl mark lerner baltimore maryland_ signature city state date report type check one hold report check hold report manager teported report notice check hold report report hold report report manager combnnation report check portion hold report manager report report portion report report manager expirec treatment com confidential file process esn\n",
            "Predicted Label:Form 13F\n",
            "Original Label:1\n",
            "-------------------------------------------------------\n",
            "-------------------------------------------------------\n",
            "fconp confidential treatment unite state securities exchange commission washington feb form form cover page report calendar year quarter end december_ bzod check amendment amendment number amendment check restatement add hold entries institutional investment manager report name mhdavdson colllc addres third avenue_suite york_ny file number institutional investment manager file report person sign hereby represent person sign report authorize submit information contain herein true correct complete understand require items statements schedule list table consider integral part form person sign report behalf report manager process name thomas lkempnerjr feb title manage member phone hgmtn signaturegplace date sigling nyc nys signatuke city state date report type check hold report check hold report manager report report notice check hold report report hold report report manager expirec file treatment confhdential\n",
            "Predicted Label:Form 13F\n",
            "Original Label:1\n",
            "-------------------------------------------------------\n",
            "-------------------------------------------------------\n",
            "form unite state omb approval securities exchange commission omb number washington expire march estimate average burden hours per respanse form notice sale securities sec use pursuant regulation prefix serial section andior uniform limit offer exemption date recetved name offer check amendment name change indicate change netilla network jnc receved check box apply orule orule erule osection duloe iype file onew file eamendment qec basc ientificationdnta enter the_infommation request aboutlhe issuer name tssuer check amendment name change indicate change netilla network inc address executive offices number land street state zip code elizabeth telephone numbe mcluding arca code avenue somerset_nj address principal business operations number street city state zip code telephone number include area code different executive offices brief description business web seryice company design build support web vertical ofiice network tor small medium size businesses txpe business organization corporation limit partnership already form proce please specify business trust limit partnership_to foned month year janttb actual estimate date incorporation organization actual company previously incorporate jersey recently merge delaware corporation estiidm jurisdiction incorporation organization enter two letter postal service abbreviation state de_ finan ici canada foreign jurisdiction general instructions federal must file ail issuers offer securities reliance exemption regulation section cfr seq file notice must file later first sale securities oflering notice deem file securities exchange commission sec earlier date receive sec address give receive address date due date mail unite state register certify mail address file securities exchange commission fifth street washington copy require five copy notice must file sec one must manually sign copy manually sign must photocopy manually sign sign copy bear type print signatures_ information require file must contain information request amendments need report name issuer ofiering change thereto information request part material change form information previously supply part part appendix need file sec file fee federal fee state notice shall use indicate reliance unifom limit offer exemption uloe sales securities state adopt uloe adopt form issuers rely uloe must file separate notice securities administrator state sales state require payment fee precondition claim exemption fee proper amount shall accompany form notice shall file appropriate state accordance state law appendix notice constitute part notice must completed_ attention failure file notice appropriate state result loss federal exemption conversely failure file appropriate federal notice result loss available state exemption unless exemption predicate federal notice sec newyorkj soriding zho city days file file\n",
            "Predicted Label:Form D\n",
            "Original Label:0\n",
            "-------------------------------------------------------\n",
            "-------------------------------------------------------\n",
            "fczm unite state securities exchange commission omb number washington expire novemberz form iotirszecrevetage burden per response notice sale securities sec use pursuant regulation prelx seral sectton andior date reeeived unttform lmmited offer exemption fegfiegre gun chcaye yaiie apeedneaf sal iae jishz ricend gidicalgebanes canada variable check box apply rule rule rule section uloe account dxpe file xknew filing_damendment_ cewvzd abasic identification data enter the_infomation request issuer_ nane issuer check ifthis amendment name change indicate change vill sun life canada variable account address executive offices number street state zip code telephone iecgaing area code one sun life executive _park rellesley hill address principal business operations number street city slate zip code telephone number ncluding area code diffevent fromexecutive offices brief description business process type business organization yanj corporation limit partnership already fomned please spccify sepiumso afcount business tnust jimited partership_tobe fomed month year fiangtat acfual estimate date incorporation organization actual estimate jurisdiction incorporation organization enter two lelter postel service abbreviation state canada foreign jurisdiction general instructions federal must file issuer ollering securitics reliance exemplion regulation section cfr seq file axpotice must file iater days ihe lirsl sale securities olfering notice decmcd file wilh securitics exchange commission sec itc earlicr lhe dale receive ihc sec address give reccived addiss afier ihe date duc uxc date maild unite slat tegistered ccrtified mail thak address file securities exchange commission fifth strcel w_wastington copy require eve cepies bis notice must file sec one must manually sign copics pot manvally sign must pholocopies bhrc manually sign copy orbear type print sigaatutes information require file must contain infommation requesled amcndments nced repon name tbe issuct end offer change lhereto information rquesled part material change informalion previously supply perts par eand appendix need file lke sec file fec thkn ederal state nolice shall use indicale reliance unifom limit offer exemplion uloe sales securitics ihose slat adopt uloe havc adpred ihis form issuers rely uloe must separale notice witb ihe securitics administralor cach stale wher sales bren madc slete iequircs uhe paymcnl ice precondition ihe claim cxcmption fcc proper umouni shali accompany fom nolice shall file approprale stale eccordence stale law thc appendix aotice consitlues part notice must complete attention fellure lle nollce epproprlale slales wlll nol result loss federal exemptlon con versely feilure iile epproprlale tederal nollce wlll nol resull loss ayallable state exemp unless exempllon predicate lhe_flllng federal nolice polential persons mespond lhe colleclion inlormalion contain wis torm require respond unless lhe form display currently kalid omb conirol number sec omb approval file city mzeg eny file\n",
            "Predicted Label:Form D\n",
            "Original Label:0\n",
            "-------------------------------------------------------\n",
            "-------------------------------------------------------\n",
            "fcoii unite state reon ubeecurres exchange commssionc washington form cover page report calendar year quarter end september check amendment amendment number amendment check one restatement add hold entries institutional investment manager report intel corporation mission college boulevard santa clara libeqyevg form file number nov person sign report behalf report manager thomson arvind sodhani vice president treasurer financial attention intentional misstatements omissions facts constitute federal criminal violations see institutional investment manager report person sign hereby represent person sign report authorize submit information contain herein true correct complete understand require items statements schedule list table consider integral part form signature place sign alfesi santa clara califomia november_ repork type check one hold report check hold report manager report report notice check hold report report hold report report manager combnation report check portion hold report manager report report portion report manager niv file confhdential deny file\n",
            "Predicted Label:Form 13F\n",
            "Original Label:1\n",
            "-------------------------------------------------------\n",
            "-------------------------------------------------------\n",
            "omb approval omb number securities mmission expire january estimate average burden hours per response aeceived annual audit report sec file number form zas apr part iii face page information require broker dealers pursuant section securities exchange act rule thereunder report period begin end mmddnyy mmddnyy registrant tdentification name broker dealer official use edwards sons inc firm address principal place business use box one north jefferson street saint louis missouri city state zip code name telephone number person contact regard ths report joseph g_porter area code telephone no_ accountant identification nndependent public accountant whose opinion contain report deloitte touchellp_ name individual state last first middle name one _city centre saint louis missouri address city state zip code check one certify public accountant public accountant may accountant resident unite state possessions official use claim exemption requirement annual report cover opinion independent public accountant must support statement facts circumstances rely basis exemption see section sec secl section procescfn thomso financial\n",
            "Predicted Label:Form X-17A-5\n",
            "Original Label:2\n",
            "-------------------------------------------------------\n",
            "-------------------------------------------------------\n",
            "form owbapprov untted state omb number securities exchange commission washingloa expire august estmated average burden form houts der esponse notice sale securities sec use omly pursuant regulation prelix seria section uniform limit offer exemptton date recuved nanic oflering chack ihis amendment jnd namc change indicle change convertible nete due_february file unde check box bal jpply rul rula sos ruk section ulof ixa file naw file amendmeni basic dentifcation daia leoter_the_infomation gcuested_ bour_the issusr_ issuet check amendmcnt aamc change indicte change fastshio_jnc address executive oflices number slreel srate zip code telephone number lncluding aea code chestnut street phl jadelphia address principal business operations number street city state zip code telephone numbe lnduding aea code diflerent rom excculive officss brief dascption business procesedby commercial cargo vessel design operation best available copy mar tyee busiaess organization primark corporlion limit partnership already ormed pleasc spraily corporaiion business trust limit partnership form month yczr acual estimaled date incorporation organizzlion acual estimate jurisdiction iacorporarion organization enter letter postal servicc abbreviation state canada oreign jurisdiction genbral instructions federt must file issuers oflering securilics relianee exemplion rogulation scction cfr file nolice must file later first sale sccurities offer notice decmed iled sccuritics exchange commission sec earlier thc date receive lhe sec lcaddrestivca bebw recaivad uha address afle uhe dalc due ihc dalc mail unjted sulss reaistered arrlicd mai tbat addres file securities exchange commission filth street washinglon copics require five copie nolice must file sec one must manually sieed copiss qanually sigped must pholoopi manually sign copy brar lyped print signatures informnation raquired file must contain information request amendments need tport name uhe issue ofle change lherelo inforinalion requesied part material change iformaton prsviously supplicd part par appendix nsed file sec file fee federal file stte notice shall use indicate reliance uniform limit oflering exemption uloe sles curitiz tbors state adopled uloe adopred thi torm issuers rely uloemust fle xparale noucewilh scauitic adminisrator siate sles stalc require paymeni preconditioe ube claim scar lion propar amount shall accompany form police sball file tbe appropriate sales accordance state bw_ appendix thc notice constitute part notice must mpleted fzllure llo notice tho appropriate state fenteon loss tho federal exompuon converzely iallure flle ihe appropriate derai nolice wili result loss ofan availablo srale axomptlon unloss ucn exemption predieated _the tederal nolie rjormriel pertooe facpood collectioa ioformlatioo cootcined ana requirtd cespoad uoless focm jisplays currtxly valid csp cootcol eumbcc sec zot rvo feb namc city days ing file\n",
            "Predicted Label:Form D\n",
            "Original Label:0\n",
            "-------------------------------------------------------\n",
            "-------------------------------------------------------\n",
            "submesslons facingsheet hicrofiche control label registrant name enereiea iallig utcl current address wst_ shun tak centvre qodconnaucas_ roccl cextro howc_lone former name process apr address tfomson fwancial file fiscal year complete ilitial submissions pleose aote aome eddress change indicate_eormtxpe_tq wsed_for_worklqad_entry initial file aris annual report reinstatekent soppl def proxy oicf yzuin date beiyico toyus\n",
            "Predicted Label:Other\n",
            "Original Label:7\n",
            "-------------------------------------------------------\n",
            "-------------------------------------------------------\n",
            "geveefetary ron public unite state securities exchange comission washington form form cover page report calendar year quarter end june check amendment amendment number amendment check one restatement add hold ies institutional investment manager file report name amerindo investment advisors inc address one embarcadero center suite san francisco california form file number institutional investment manager file report person sign hereby represent che person sign report authorize submit information contain herein true correct ana complete understand require items statements schedule list table congidered integral part form person sign report behalf report manager name jessica caruso title chief compliance officer phone signature place date sign apr qqq ooluo york york august financa report type check one hold report check hold report manager report report notice check hold report report hoidings report report manager combination report check portion hold report manager report report portion report report manager confidential treatment request one year period expirec streatment confudential process iomson ing_\n",
            "Predicted Label:Form 13F\n",
            "Original Label:1\n",
            "-------------------------------------------------------\n",
            "-------------------------------------------------------\n",
            "original form omb approval unite state omb number securities exchange commission washington expire august estlmated average burden form hours per response notice sale securities sec use pursuant regulation prall_ serial section uniform limit offer exemption rate deceive nunic offcring chcck amendmcnt uame chungcd indicate corpfin com inc series_a convertible prefer stock file cthcck boxles apply rule rulc sos rule scctior apd type file ncw file amendmeni basic dentncatzion data exter_ihe_informulion equested about_ths _issust namc issucr check amendmcnl jnd name changcd indicate change corpfin com inc address executive olfices number strect city state zip code telephone numbcr includins arca code atlanta financial center suite atlanta georgia address principal business opcrarions numbcr strect state zip code telephone number include aret code different rom exccurive offices bricl dcscriprion business online brokerldealer type business organization process corporalion limit partnership already formcd please sprcily business rust limit partnership formcd may monuh ycar primark aclual estimatcd datc incorporalion organizalion actual estimate corporation jurisdietion incorporation organization enter two letter postal scrvice abbrcviation state canada othcr foreign jurisdiction general instructions federa must file issucrs oflering securitics relianec exemplion regulation saction cfr file natice must file later han days alter first sale securitics lhe oflerins notice decmed iled sccurities exchange commission sec thc carlier thc dale receive sec ihe addrers piven belw recsived address aflet dale duc thc dalc mail unite sttte reeislered ccntificd mail ttal udrets file sccurikies exchange commission fifrh street washinaton copy require fivc_ copy norice must file sec one must manuully sign copie manually sign must photocopics ihe manually sign copy bear lyped print signatures informalion require ncw file must contain informalion requcsrcd amendmenls necd report name issucr offe change hereto inforination request part materiat change irom infortlion previously supplicd parus part ihc appendix nccd file sec fee therc cderal file fec_ state notice shall use indicale reliance uniform limit olfering exemption uloe les scurities thox sate thal adopled uloe adopt form issucrs rely uloe must file sparate noticc scuritics administrator cach stale sales bccn state require payment fcc precondition cleim cxcmp tion thc propcr amount shall accompany orm nolice shall file appropriate sules accordtnce ste jaw appendix thc notice constilules parl notice must complete fallure iile noilce approprlate state atfentign loos tedoral oxompllon conbenoty ialluro lla tha appropriato ederal notlce wlll result lose avelleblo etat oxemptlon unlats tuch exemetion le_predlcatod on_tho ledoral nollco potoptial persone reepont collgcrion ioformarioe conteined thto orm aro roquired reepond uolest torm aieplage eurrently alia omj cootrol pumber sec chan city ing file flling\n",
            "Predicted Label:Form D\n",
            "Original Label:0\n",
            "-------------------------------------------------------\n",
            "-------------------------------------------------------\n",
            "tts doament submit conhdentlal excmption fom disclosute non governmcntal document omb approval cpics daimcd ercedom inforr_uion act omb number aoy rule regulations request expire october eestimated average disclosure permit document part copics burden hours per timcly notice give patrick dooley akin response gump strauss haucr feld llp muisaavenuc york york jagcurities exchange commission washington uunl cover page tbe calendar year quarter end march nnon publk amendment amendment number may amendment check one restatement add hold entries institutional investment manager report name satellite asset management address east soth street lst floor york form file number institutional investment manager report person sign hereby represent person sign report authorize submit information contain herein true correct complete understand require items statements schedule list table consider integral part form person sign report behalf report manager name brian kriftcher title chief operate officer principal phone signature place_and date sign signature process yorknew york city state apr max tonron date fbvaicval report check one hold report check hold report manager report report notice check hold report report hold report report manager combination report check portion hold report manager report report portion report report manager york partics applicable esq rgoa file expire treatment confidential file type\n",
            "Predicted Label:Form 13F\n",
            "Original Label:1\n",
            "-------------------------------------------------------\n",
            "-------------------------------------------------------\n",
            "yest available cofy _submissions facingsheei hicrofiche control label registrant nake loshulin current address good_ yoid seesl_ kerea former name address process apr tkomson file fiscal year financiai complte inktial submissions onb please note name qad eddress change indicate eqbm_typetq_be_use for_wqrklqad_entrx initial file aris annoal report reinstatement soppl def proxy oicf date zhz_ tom mociv yoniduusea\n",
            "Predicted Label:Other\n",
            "Original Label:7\n",
            "-------------------------------------------------------\n",
            "-------------------------------------------------------\n",
            "form unite state omb approval securities exchange commhshsion washington omb number recened expire august formd estimate averege burden sep jours per form___ notice sale sesurities pursuant regulaionp sec use section andior prefix serial uniform limit offer exemption date receive name offer ocheck amendment name change indicate change series prefer stock file check box apply rulc rule rule section uloe type file amendment basic identification data enter information request issuer name issuer check amendment name change indicate change favrille inc address executive offices number street city state zip code telephone number include area code altman row suite san address principal business operations number street city state zip code telephone number include area cprocessel different executive officcs brief description business sep develop customize therapies cancer autoimmune diseases type business organization thqmson corporaition limit partnership already form please specify financiai business irust limit partnership form month year actual estimate date incorporation organization dactual eslimated jurisdiction incorporation organization enter two letter postal service abbreviation state das_i ictopht canada foreign jurisdiction general instructions federal must file issuers offer securities reliarce cxemption regulation section cfr seq file nolice must file later days first sale securities notice deem file securities exchange commission sec carlier date receive sec address give receive thal address ihe date due date mail unite state register certify mail address file sccurities exchange commission fifth strees washington copy require five copy notice inust file sec one iusi manually sign copy manually sign must photocopy manually sizned copy bear print signatures information require must contain information request amendments need report lhe name issuer offer change thercto information request pan material change information previously supply part part ana appendix necd file sec_ file fee federal file fee_ state notice shall use indicate reliance uriform limit offerirg exemption uloe sales securities siates adopt uloe adopt form_ issuers rely uloe must file scparate notice securities administrator stale sales state require payment fec precondition claim ihe exemption fee proper amount shall accompany form_ notice shall file appropriale state accordance state law appendix notice constitute parl notice must complete attention failure file notice appropriate state result loss federal exemption conversely failure file appropriate federal notice result loss available state exemption unless exemption predicate file federal notice polential persons respond collectlon information contain torm require respond unless torm display currently valid omb control number sec vzsd gcv doc secuon file diego offer type file\n",
            "Predicted Label:Form D\n",
            "Original Label:0\n",
            "-------------------------------------------------------\n",
            "-------------------------------------------------------\n",
            "cctc lcualcumfcanceziz placenc herv form cnited state omb appaoval securities exchange commission omb numder washinglon explros april estimaled jveraqe burden form nours_por_io ponse notice sale securities sec use pursuant regulation pretix serial section uniform limit offer exemption date aeceived name oflering check amendment namc change indicare change baiserplatz fundig lio file check box apply rule rulc sos rule section uloe rres ixe file file oamendment msic wentwcation data entcr_the_informarion _lcguestcd_about_the issuer name issuer check amendment namc changcd ana indicare change jaseralazz fwnding lted address execulive olfices number strccl stale zip code telephona number includins area codc nan stsear helier jzrsey iannel islanos addrcss principal business operetions number streel city stale zip code telephonc number include area codc different rom exccutive offices arove brief description business assat qacted commercial paper ccnoit awila projfde fund fur iaiserphatz craup respelt tieir acquisition iok finwcing various trade cecewabll financ securitb assets tyrr business organization corporation limit parinership already form olher pleasc spcify busines rust limit partnership form iimited richic process month yer feb acual estimaled date incorporation organization actual estimate jurisdiction incorporation organization enter ictter postal servicc abbrcviation suale itihomson canada ther foreicn jurisdicion angial general instructions federa must file issuers offer scurities reliance excmption regulalion scrion cfr seq whea file notice must liled bater lhan dys alter lhe first salc scuritics offer notice dcemed filad sccuritics und exchense commiseion sec earlicr dare rerrived sec xhc address eiven belw reccived thal sdrer ule dute due dalc mail unitad suates reeistered cnilied majl address file socurida exchantc commisgion fifth strect washington copy require fiveb thjs notice must filad sec must manually siencd copics maqually sign must photocop mtoually simad opy bear type prinled sienatures information requircd file musxt conualn information request amendments necd report namc issuer offe chanse thrrco blomarion request parr apy maleriel chan irom lhe inlorration previously supplicd part pant appendix nced dot flee thc sec fillnx fee federt file suu tis nolicc shel use indicate relianc thc unifor limit oflering excmprion uloe sle scurities ihose sles thu havc adopled uloe adopred fond issucrs relyin uloe must fle sparale lotio thc sccunties administrlor sute wtete mlcs becn madec sute taquire ptyment preconditjon thc ckaim thc exemp lioo fce proper smount shall gccompany lhis orm noticc shall file thc approprialc state accordanc jlalc bw_ thc apprndk tbc potice constitute par lhic nolice must complete felluro ila notleo tho approprlate statar athsntion ooo iho cdoral axomptlon convorsoly telluro ille tho pproprato icdorel notleo wlll rosull loee evolleblo stalo oxomptlon unlosa juch ompilon_ig_prealeated lhe nollca sec jun city ins illny\n",
            "Predicted Label:Form D\n",
            "Original Label:0\n",
            "-------------------------------------------------------\n",
            "-------------------------------------------------------\n",
            "omb approval omb number expire november form unite state estimate verage burden securities exchange commission hours per response washington sec use form prefix serial notice sale securities pursuant regulation date receive section andior uniform limit offer exemption name offer check amendment name change indicate change galaxy nutritiona foods inc series convertible prelerred stock file check box apply rule rule rule section uloe type amendment basic identifica tion data enter infomation request issuer name issuer check amendment name change indicate change galaxy nutritional foods_inc address executive offices number street city state zip code telephonc number include area coab viscount roworlando florida address principal business operations number street city state zip code telephone number include area code different executive offices executive offices executive ofiices brief description business galaxy nutritional foods inc form purpose develop manufacture market variety healthy cheese dairy relate products well cheese alternatives type business organization procfsced corporation limit partnership already fommed please specify feb business trust limit partnership formcd month thomsoiv actual estimared date incorporation organization actual estimate financial jurisdiction incorporation organization enter two letter postal service abbreviation state canada foreign jurisdiction general instructions federal must file issuers offer sccuriticsin reliance exemption regulation section cfr sot sed file notice must file later days first sale securities offer notice deem file securities exchan commission sec earlier receive sec address give receive address date receive sec address give receive address date due date mail unite state register certify mail address_ file sccuritics exchange commission fifth street washington copy require five copy notice must file sec one musl manually sign copy manually sign must photocopy manually sign copy bear typcd print signatures information require must contain information request amendments need repon name issuer offer change thereto information request part ary material change infomation previously supply part part appendix need file sec fee federal fee state notice shall use indicate reliance unifom limit oficring exemption uloe sales securities state adopt uloe adopt form issucrs rely uloe must file separate notice securities administrator cach state sales made_ sta require payment fee precondition claim exemption fee proper amount shall accompany form notice shall file appropria state accordance state law appendix notice constitute part notice must complete attention failure iile notice appropriate state result loss federal exemption conversely failure file appropriate federal notice result loss ofan gvailable state exemption unless exemption predicate federal notice potertial persons respond collection information contain fom require sec respond unless uhe form display currenly valid omb control number file file year day file file file file cre\n",
            "Predicted Label:Form D\n",
            "Original Label:0\n",
            "-------------------------------------------------------\n"
          ]
        }
      ]
    },
    {
      "cell_type": "code",
      "source": [
        "print(y_pred)"
      ],
      "metadata": {
        "colab": {
          "base_uri": "https://localhost:8080/"
        },
        "id": "Z-HkWc524Tuu",
        "outputId": "eb1bb838-fb0b-4a09-9f09-5f47ca341541"
      },
      "execution_count": 51,
      "outputs": [
        {
          "output_type": "stream",
          "name": "stdout",
          "text": [
            "[0, 2, 2, 7, 1, 2, 1, 7, 0, 2, 1, 1, 1, 1, 0, 0, 1, 2, 0, 7, 1, 0, 1, 7, 0, 0, 0]\n"
          ]
        }
      ]
    },
    {
      "cell_type": "markdown",
      "source": [
        "## **Evaluation Metrics and Sample predictions**"
      ],
      "metadata": {
        "id": "mI1TSosDJuBy"
      }
    },
    {
      "cell_type": "code",
      "source": [
        "np.mean(predicted == Y_TEST)"
      ],
      "metadata": {
        "colab": {
          "base_uri": "https://localhost:8080/"
        },
        "id": "uEEV9EeijT9U",
        "outputId": "53ba665b-ad2e-43b3-886c-c42f3ba77ae8"
      },
      "execution_count": 52,
      "outputs": [
        {
          "output_type": "execute_result",
          "data": {
            "text/plain": [
              "1.0"
            ]
          },
          "metadata": {},
          "execution_count": 52
        }
      ]
    },
    {
      "cell_type": "code",
      "source": [
        "docs_new = X_TEST[12]\n",
        "docs_new"
      ],
      "metadata": {
        "colab": {
          "base_uri": "https://localhost:8080/",
          "height": 191
        },
        "id": "0-8hh6pPjUBA",
        "outputId": "7d0fe0fa-925a-42f1-9b6a-24acd2f6a2c4"
      },
      "execution_count": 37,
      "outputs": [
        {
          "output_type": "execute_result",
          "data": {
            "text/plain": [
              "'sglusckbe_exckan uniteo ftates securities exc commssoi_ ashingtom ls__l divisiom rub market reculation lzoeo december tfo raymond hennessy vice president member fim regulation york stock exchange inc broad street york pime brokerage_arangements_between broker dealers certain investment advisors dear hennessy response letter december request division market regulation permanent extension july action letter regard treatment prime broker arrangements broker dealers engage prime brokerage activities certain investment advisers longer require register section investment advisers act adviser letter advisers letter extend action relief grant section securities exchange act exchangc act rule thereunder regulation provide divisions january prime brokerage letter prime broker letter adviser letter stale division recommend enforcement action december prbcessed jan ihomsqn anncaa letter michael macchiaroli associate director division market regulation sec jeffrey bemstein chaimman hoc prime brokerage committee securities industry association july cfr cfr fran brardon becker director division market regulation sec jcffrcy bemstls riue btoker committee cto beat stearns cosphnc jan lbe grant'"
            ],
            "application/vnd.google.colaboratory.intrinsic+json": {
              "type": "string"
            }
          },
          "metadata": {},
          "execution_count": 37
        }
      ]
    },
    {
      "cell_type": "code",
      "source": [
        "predicted = text_clf.predict(list(docs_new))"
      ],
      "metadata": {
        "id": "GknmMQxzkTx4"
      },
      "execution_count": 38,
      "outputs": []
    },
    {
      "cell_type": "code",
      "source": [
        "v[predicted[12]]"
      ],
      "metadata": {
        "colab": {
          "base_uri": "https://localhost:8080/",
          "height": 35
        },
        "id": "KQh6CA2pkT0B",
        "outputId": "f60ef3ed-e057-465a-d414-4070eb02dc9f"
      },
      "execution_count": 39,
      "outputs": [
        {
          "output_type": "execute_result",
          "data": {
            "text/plain": [
              "'Form D'"
            ],
            "application/vnd.google.colaboratory.intrinsic+json": {
              "type": "string"
            }
          },
          "metadata": {},
          "execution_count": 39
        }
      ]
    },
    {
      "cell_type": "code",
      "source": [
        "from sklearn.metrics import confusion_matrix"
      ],
      "metadata": {
        "id": "p5q9mDXJ45Y0"
      },
      "execution_count": 53,
      "outputs": []
    },
    {
      "cell_type": "code",
      "source": [
        "confusion_matrix(y_test, y_pred)"
      ],
      "metadata": {
        "colab": {
          "base_uri": "https://localhost:8080/"
        },
        "id": "VFYxXcnD45cN",
        "outputId": "9db4fffd-cc4f-4608-8660-c7044bf6d5c9"
      },
      "execution_count": 54,
      "outputs": [
        {
          "output_type": "execute_result",
          "data": {
            "text/plain": [
              "array([[9, 0, 0, 0],\n",
              "       [0, 9, 0, 0],\n",
              "       [0, 0, 5, 0],\n",
              "       [0, 0, 0, 4]])"
            ]
          },
          "metadata": {},
          "execution_count": 54
        }
      ]
    },
    {
      "cell_type": "code",
      "source": [
        "table = pd.DataFrame(confusion_matrix(y_test, y_pred))\n",
        "\n",
        "ax = sns.heatmap(table, annot=True, fmt='d', cmap='viridis')\n",
        "ax.set_xlabel('Predicted labels')\n",
        "ax.set_ylabel('True labels')\n",
        "ax.set_title('Confusion Matrix')\n",
        "ax.xaxis.set_ticklabels(['Form D', 'Form 13F', 'Form X-17A-5', 'Other'])\n",
        "ax.yaxis.set_ticklabels(['Form D', 'Form 13F', 'Form X-17A-5', 'Other'])"
      ],
      "metadata": {
        "colab": {
          "base_uri": "https://localhost:8080/",
          "height": 541
        },
        "id": "7B76qFKqLLDi",
        "outputId": "61b79f8c-e21b-47bd-9c6b-f57026f3dd42"
      },
      "execution_count": 57,
      "outputs": [
        {
          "output_type": "execute_result",
          "data": {
            "text/plain": [
              "[Text(0, 0.5, 'Form D'),\n",
              " Text(0, 1.5, 'Form 13F'),\n",
              " Text(0, 2.5, 'Form X-17A-5'),\n",
              " Text(0, 3.5, 'Other')]"
            ]
          },
          "metadata": {},
          "execution_count": 57
        },
        {
          "output_type": "display_data",
          "data": {
            "text/plain": [
              "<Figure size 640x480 with 2 Axes>"
            ],
            "image/png": "[encoded data removed]"
          },
          "metadata": {}
        }
      ]
    },
    {
      "cell_type": "code",
      "source": [
        "from sklearn.metrics import accuracy_score"
      ],
      "metadata": {
        "id": "ZmdfXEFjkT8V"
      },
      "execution_count": null,
      "outputs": []
    },
    {
      "cell_type": "code",
      "source": [
        "print(f'Accuracy Score is {accuracy_score(y_test,y_pred)}')"
      ],
      "metadata": {
        "colab": {
          "base_uri": "https://localhost:8080/"
        },
        "id": "T4hWxAdN36MP",
        "outputId": "243072c0-a3a5-40a0-e8fc-a0340ca7ca8e"
      },
      "execution_count": null,
      "outputs": [
        {
          "output_type": "stream",
          "name": "stdout",
          "text": [
            "Accuracy Score is 1.0\n"
          ]
        }
      ]
    }
  ]
}