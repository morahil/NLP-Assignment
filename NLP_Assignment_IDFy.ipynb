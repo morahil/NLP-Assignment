{
  "nbformat": 4,
  "nbformat_minor": 0,
  "metadata": {
    "colab": {
      "provenance": [],
      "gpuType": "T4"
    },
    "kernelspec": {
      "name": "python3",
      "display_name": "Python 3"
    },
    "language_info": {
      "name": "python"
    },
    "widgets": {
      "application/vnd.jupyter.widget-state+json": {
        "5c6e22c1dd9740d2bfedf95c1c64a6af": {
          "model_module": "@jupyter-widgets/controls",
          "model_name": "HBoxModel",
          "model_module_version": "1.5.0",
          "state": {
            "_dom_classes": [],
            "_model_module": "@jupyter-widgets/controls",
            "_model_module_version": "1.5.0",
            "_model_name": "HBoxModel",
            "_view_count": null,
            "_view_module": "@jupyter-widgets/controls",
            "_view_module_version": "1.5.0",
            "_view_name": "HBoxView",
            "box_style": "",
            "children": [
              "IPY_MODEL_bbba728193604c84a8bdc41d8cf9e5a4",
              "IPY_MODEL_77bfe1638d7243189ca52238c8d5b846",
              "IPY_MODEL_4c9c94f7100a458e8d7b194cdb0c4be4"
            ],
            "layout": "IPY_MODEL_a722969b2420480b9fb5d55dcbe223c0"
          }
        },
        "bbba728193604c84a8bdc41d8cf9e5a4": {
          "model_module": "@jupyter-widgets/controls",
          "model_name": "HTMLModel",
          "model_module_version": "1.5.0",
          "state": {
            "_dom_classes": [],
            "_model_module": "@jupyter-widgets/controls",
            "_model_module_version": "1.5.0",
            "_model_name": "HTMLModel",
            "_view_count": null,
            "_view_module": "@jupyter-widgets/controls",
            "_view_module_version": "1.5.0",
            "_view_name": "HTMLView",
            "description": "",
            "description_tooltip": null,
            "layout": "IPY_MODEL_b0d075afb09243a6855ce1e4fa62dd21",
            "placeholder": "​",
            "style": "IPY_MODEL_7f1f02bd1c9a4008a2f4c321ec4c961a",
            "value": "Pandas Apply: 100%"
          }
        },
        "77bfe1638d7243189ca52238c8d5b846": {
          "model_module": "@jupyter-widgets/controls",
          "model_name": "FloatProgressModel",
          "model_module_version": "1.5.0",
          "state": {
            "_dom_classes": [],
            "_model_module": "@jupyter-widgets/controls",
            "_model_module_version": "1.5.0",
            "_model_name": "FloatProgressModel",
            "_view_count": null,
            "_view_module": "@jupyter-widgets/controls",
            "_view_module_version": "1.5.0",
            "_view_name": "ProgressView",
            "bar_style": "success",
            "description": "",
            "description_tooltip": null,
            "layout": "IPY_MODEL_669922dad8bc48ee93e88453ce666c55",
            "max": 133,
            "min": 0,
            "orientation": "horizontal",
            "style": "IPY_MODEL_63cc00a4b45f4144b20183916d60f74c",
            "value": 133
          }
        },
        "4c9c94f7100a458e8d7b194cdb0c4be4": {
          "model_module": "@jupyter-widgets/controls",
          "model_name": "HTMLModel",
          "model_module_version": "1.5.0",
          "state": {
            "_dom_classes": [],
            "_model_module": "@jupyter-widgets/controls",
            "_model_module_version": "1.5.0",
            "_model_name": "HTMLModel",
            "_view_count": null,
            "_view_module": "@jupyter-widgets/controls",
            "_view_module_version": "1.5.0",
            "_view_name": "HTMLView",
            "description": "",
            "description_tooltip": null,
            "layout": "IPY_MODEL_e235d38a859045d8a98bf07d3025ed13",
            "placeholder": "​",
            "style": "IPY_MODEL_fa666baafdd040e0ac7492ef3056648d",
            "value": " 133/133 [00:00&lt;00:00, 198.03it/s]"
          }
        },
        "a722969b2420480b9fb5d55dcbe223c0": {
          "model_module": "@jupyter-widgets/base",
          "model_name": "LayoutModel",
          "model_module_version": "1.2.0",
          "state": {
            "_model_module": "@jupyter-widgets/base",
            "_model_module_version": "1.2.0",
            "_model_name": "LayoutModel",
            "_view_count": null,
            "_view_module": "@jupyter-widgets/base",
            "_view_module_version": "1.2.0",
            "_view_name": "LayoutView",
            "align_content": null,
            "align_items": null,
            "align_self": null,
            "border": null,
            "bottom": null,
            "display": null,
            "flex": null,
            "flex_flow": null,
            "grid_area": null,
            "grid_auto_columns": null,
            "grid_auto_flow": null,
            "grid_auto_rows": null,
            "grid_column": null,
            "grid_gap": null,
            "grid_row": null,
            "grid_template_areas": null,
            "grid_template_columns": null,
            "grid_template_rows": null,
            "height": null,
            "justify_content": null,
            "justify_items": null,
            "left": null,
            "margin": null,
            "max_height": null,
            "max_width": null,
            "min_height": null,
            "min_width": null,
            "object_fit": null,
            "object_position": null,
            "order": null,
            "overflow": null,
            "overflow_x": null,
            "overflow_y": null,
            "padding": null,
            "right": null,
            "top": null,
            "visibility": null,
            "width": null
          }
        },
        "b0d075afb09243a6855ce1e4fa62dd21": {
          "model_module": "@jupyter-widgets/base",
          "model_name": "LayoutModel",
          "model_module_version": "1.2.0",
          "state": {
            "_model_module": "@jupyter-widgets/base",
            "_model_module_version": "1.2.0",
            "_model_name": "LayoutModel",
            "_view_count": null,
            "_view_module": "@jupyter-widgets/base",
            "_view_module_version": "1.2.0",
            "_view_name": "LayoutView",
            "align_content": null,
            "align_items": null,
            "align_self": null,
            "border": null,
            "bottom": null,
            "display": null,
            "flex": null,
            "flex_flow": null,
            "grid_area": null,
            "grid_auto_columns": null,
            "grid_auto_flow": null,
            "grid_auto_rows": null,
            "grid_column": null,
            "grid_gap": null,
            "grid_row": null,
            "grid_template_areas": null,
            "grid_template_columns": null,
            "grid_template_rows": null,
            "height": null,
            "justify_content": null,
            "justify_items": null,
            "left": null,
            "margin": null,
            "max_height": null,
            "max_width": null,
            "min_height": null,
            "min_width": null,
            "object_fit": null,
            "object_position": null,
            "order": null,
            "overflow": null,
            "overflow_x": null,
            "overflow_y": null,
            "padding": null,
            "right": null,
            "top": null,
            "visibility": null,
            "width": null
          }
        },
        "7f1f02bd1c9a4008a2f4c321ec4c961a": {
          "model_module": "@jupyter-widgets/controls",
          "model_name": "DescriptionStyleModel",
          "model_module_version": "1.5.0",
          "state": {
            "_model_module": "@jupyter-widgets/controls",
            "_model_module_version": "1.5.0",
            "_model_name": "DescriptionStyleModel",
            "_view_count": null,
            "_view_module": "@jupyter-widgets/base",
            "_view_module_version": "1.2.0",
            "_view_name": "StyleView",
            "description_width": ""
          }
        },
        "669922dad8bc48ee93e88453ce666c55": {
          "model_module": "@jupyter-widgets/base",
          "model_name": "LayoutModel",
          "model_module_version": "1.2.0",
          "state": {
            "_model_module": "@jupyter-widgets/base",
            "_model_module_version": "1.2.0",
            "_model_name": "LayoutModel",
            "_view_count": null,
            "_view_module": "@jupyter-widgets/base",
            "_view_module_version": "1.2.0",
            "_view_name": "LayoutView",
            "align_content": null,
            "align_items": null,
            "align_self": null,
            "border": null,
            "bottom": null,
            "display": null,
            "flex": null,
            "flex_flow": null,
            "grid_area": null,
            "grid_auto_columns": null,
            "grid_auto_flow": null,
            "grid_auto_rows": null,
            "grid_column": null,
            "grid_gap": null,
            "grid_row": null,
            "grid_template_areas": null,
            "grid_template_columns": null,
            "grid_template_rows": null,
            "height": null,
            "justify_content": null,
            "justify_items": null,
            "left": null,
            "margin": null,
            "max_height": null,
            "max_width": null,
            "min_height": null,
            "min_width": null,
            "object_fit": null,
            "object_position": null,
            "order": null,
            "overflow": null,
            "overflow_x": null,
            "overflow_y": null,
            "padding": null,
            "right": null,
            "top": null,
            "visibility": null,
            "width": null
          }
        },
        "63cc00a4b45f4144b20183916d60f74c": {
          "model_module": "@jupyter-widgets/controls",
          "model_name": "ProgressStyleModel",
          "model_module_version": "1.5.0",
          "state": {
            "_model_module": "@jupyter-widgets/controls",
            "_model_module_version": "1.5.0",
            "_model_name": "ProgressStyleModel",
            "_view_count": null,
            "_view_module": "@jupyter-widgets/base",
            "_view_module_version": "1.2.0",
            "_view_name": "StyleView",
            "bar_color": null,
            "description_width": ""
          }
        },
        "e235d38a859045d8a98bf07d3025ed13": {
          "model_module": "@jupyter-widgets/base",
          "model_name": "LayoutModel",
          "model_module_version": "1.2.0",
          "state": {
            "_model_module": "@jupyter-widgets/base",
            "_model_module_version": "1.2.0",
            "_model_name": "LayoutModel",
            "_view_count": null,
            "_view_module": "@jupyter-widgets/base",
            "_view_module_version": "1.2.0",
            "_view_name": "LayoutView",
            "align_content": null,
            "align_items": null,
            "align_self": null,
            "border": null,
            "bottom": null,
            "display": null,
            "flex": null,
            "flex_flow": null,
            "grid_area": null,
            "grid_auto_columns": null,
            "grid_auto_flow": null,
            "grid_auto_rows": null,
            "grid_column": null,
            "grid_gap": null,
            "grid_row": null,
            "grid_template_areas": null,
            "grid_template_columns": null,
            "grid_template_rows": null,
            "height": null,
            "justify_content": null,
            "justify_items": null,
            "left": null,
            "margin": null,
            "max_height": null,
            "max_width": null,
            "min_height": null,
            "min_width": null,
            "object_fit": null,
            "object_position": null,
            "order": null,
            "overflow": null,
            "overflow_x": null,
            "overflow_y": null,
            "padding": null,
            "right": null,
            "top": null,
            "visibility": null,
            "width": null
          }
        },
        "fa666baafdd040e0ac7492ef3056648d": {
          "model_module": "@jupyter-widgets/controls",
          "model_name": "DescriptionStyleModel",
          "model_module_version": "1.5.0",
          "state": {
            "_model_module": "@jupyter-widgets/controls",
            "_model_module_version": "1.5.0",
            "_model_name": "DescriptionStyleModel",
            "_view_count": null,
            "_view_module": "@jupyter-widgets/base",
            "_view_module_version": "1.2.0",
            "_view_name": "StyleView",
            "description_width": ""
          }
        }
      }
    }
  },
  "cells": [
    {
      "cell_type": "markdown",
      "source": [
        "## **Install EasyOCR**"
      ],
      "metadata": {
        "id": "nlV_dguDqML5"
      }
    },
    {
      "cell_type": "code",
      "source": [
        "!pip install easyocr"
      ],
      "metadata": {
        "id": "cIJwCQ_Ezi11"
      },
      "execution_count": null,
      "outputs": []
    },
    {
      "cell_type": "code",
      "source": [
        "from easyocr import Reader      # Using EasyOCR for extracting text\n",
        "\n",
        "# Load model for the English language\n",
        "language_reader = Reader([\"en\"])"
      ],
      "metadata": {
        "colab": {
          "base_uri": "https://localhost:8080/"
        },
        "id": "HGQPjILde141",
        "outputId": "e5d7ca2f-133b-4a1d-95c8-9e66b877863e"
      },
      "execution_count": null,
      "outputs": [
        {
          "output_type": "stream",
          "name": "stderr",
          "text": [
            "WARNING:easyocr.easyocr:Downloading detection model, please wait. This may take several minutes depending upon your network connection.\n"
          ]
        },
        {
          "output_type": "stream",
          "name": "stdout",
          "text": [
            "Progress: |██████████████████████████████████████████████████| 100.0% Complete"
          ]
        },
        {
          "output_type": "stream",
          "name": "stderr",
          "text": [
            "WARNING:easyocr.easyocr:Downloading recognition model, please wait. This may take several minutes depending upon your network connection.\n"
          ]
        },
        {
          "output_type": "stream",
          "name": "stdout",
          "text": [
            "Progress: |██████████████████████████████████████████████████| 100.0% Complete"
          ]
        }
      ]
    },
    {
      "cell_type": "markdown",
      "source": [
        "## **Install Pypdfium**"
      ],
      "metadata": {
        "id": "2d-XqIM9qaP6"
      }
    },
    {
      "cell_type": "code",
      "source": [
        "!pip install -U pypdfium2"
      ],
      "metadata": {
        "colab": {
          "base_uri": "https://localhost:8080/"
        },
        "id": "pV_x97bie77X",
        "outputId": "792f2a9f-cfa5-4f62-aa8e-2ae4f521dc5c"
      },
      "execution_count": 2,
      "outputs": [
        {
          "output_type": "stream",
          "name": "stdout",
          "text": [
            "Collecting pypdfium2\n",
            "  Downloading pypdfium2-4.20.0-py3-none-manylinux_2_17_x86_64.whl (3.0 MB)\n",
            "\u001b[2K     \u001b[90m━━━━━━━━━━━━━━━━━━━━━━━━━━━━━━━━━━━━━━━━\u001b[0m \u001b[32m3.0/3.0 MB\u001b[0m \u001b[31m25.2 MB/s\u001b[0m eta \u001b[36m0:00:00\u001b[0m\n",
            "\u001b[?25hInstalling collected packages: pypdfium2\n",
            "Successfully installed pypdfium2-4.20.0\n"
          ]
        }
      ]
    },
    {
      "cell_type": "code",
      "source": [
        "!pip install PyPDF2"
      ],
      "metadata": {
        "id": "qD6Ms6-4aqMj",
        "colab": {
          "base_uri": "https://localhost:8080/"
        },
        "outputId": "6c6b7aa7-9d04-442d-9718-689b90aee084"
      },
      "execution_count": 3,
      "outputs": [
        {
          "output_type": "stream",
          "name": "stdout",
          "text": [
            "Collecting PyPDF2\n",
            "  Downloading pypdf2-3.0.1-py3-none-any.whl (232 kB)\n",
            "\u001b[?25l     \u001b[90m━━━━━━━━━━━━━━━━━━━━━━━━━━━━━━━━━━━━━━━━\u001b[0m \u001b[32m0.0/232.6 kB\u001b[0m \u001b[31m?\u001b[0m eta \u001b[36m-:--:--\u001b[0m\r\u001b[2K     \u001b[91m━━━━━━━━━━━━━━━━━━\u001b[0m\u001b[91m╸\u001b[0m\u001b[90m━━━━━━━━━━━━━━━━━━━━\u001b[0m \u001b[32m112.6/232.6 kB\u001b[0m \u001b[31m3.3 MB/s\u001b[0m eta \u001b[36m0:00:01\u001b[0m\r\u001b[2K     \u001b[90m━━━━━━━━━━━━━━━━━━━━━━━━━━━━━━━━━━━━━━━\u001b[0m \u001b[32m232.6/232.6 kB\u001b[0m \u001b[31m4.4 MB/s\u001b[0m eta \u001b[36m0:00:00\u001b[0m\n",
            "\u001b[?25hInstalling collected packages: PyPDF2\n",
            "Successfully installed PyPDF2-3.0.1\n"
          ]
        }
      ]
    },
    {
      "cell_type": "markdown",
      "source": [
        "## **Import required packages**"
      ],
      "metadata": {
        "id": "1XlG9foZqgbL"
      }
    },
    {
      "cell_type": "code",
      "source": [
        "import pypdfium2 as pdfium\n",
        "import matplotlib.pyplot as plt\n",
        "import pandas as pd\n",
        "from PIL import Image\n",
        "from io import BytesIO\n",
        "import glob\n",
        "import os"
      ],
      "metadata": {
        "id": "-ssYZ8YYfFzR"
      },
      "execution_count": 4,
      "outputs": []
    },
    {
      "cell_type": "code",
      "source": [
        "df = pd.DataFrame(columns = ('filename', 'formtype', 'text_content', 'label'))\n",
        "df"
      ],
      "metadata": {
        "colab": {
          "base_uri": "https://localhost:8080/",
          "height": 53
        },
        "id": "rUZqK5HWxFjB",
        "outputId": "b73c8d22-075b-416f-98b5-665e4bacd42d"
      },
      "execution_count": null,
      "outputs": [
        {
          "output_type": "execute_result",
          "data": {
            "text/plain": [
              "Empty DataFrame\n",
              "Columns: [filename, formtype, text_content, label]\n",
              "Index: []"
            ],
            "text/html": [
              "\n",
              "  <div id=\"df-e67df4dd-f260-408c-9bc9-bd58972bfeb1\" class=\"colab-df-container\">\n",
              "    <div>\n",
              "<style scoped>\n",
              "    .dataframe tbody tr th:only-of-type {\n",
              "        vertical-align: middle;\n",
              "    }\n",
              "\n",
              "    .dataframe tbody tr th {\n",
              "        vertical-align: top;\n",
              "    }\n",
              "\n",
              "    .dataframe thead th {\n",
              "        text-align: right;\n",
              "    }\n",
              "</style>\n",
              "<table border=\"1\" class=\"dataframe\">\n",
              "  <thead>\n",
              "    <tr style=\"text-align: right;\">\n",
              "      <th></th>\n",
              "      <th>filename</th>\n",
              "      <th>formtype</th>\n",
              "      <th>text_content</th>\n",
              "      <th>label</th>\n",
              "    </tr>\n",
              "  </thead>\n",
              "  <tbody>\n",
              "  </tbody>\n",
              "</table>\n",
              "</div>\n",
              "    <div class=\"colab-df-buttons\">\n",
              "\n",
              "  <div class=\"colab-df-container\">\n",
              "    <button class=\"colab-df-convert\" onclick=\"convertToInteractive('df-e67df4dd-f260-408c-9bc9-bd58972bfeb1')\"\n",
              "            title=\"Convert this dataframe to an interactive table.\"\n",
              "            style=\"display:none;\">\n",
              "\n",
              "  <svg xmlns=\"http://www.w3.org/2000/svg\" height=\"24px\" viewBox=\"0 -960 960 960\">\n",
              "    <path d=\"M120-120v-720h720v720H120Zm60-500h600v-160H180v160Zm220 220h160v-160H400v160Zm0 220h160v-160H400v160ZM180-400h160v-160H180v160Zm440 0h160v-160H620v160ZM180-180h160v-160H180v160Zm440 0h160v-160H620v160Z\"/>\n",
              "  </svg>\n",
              "    </button>\n",
              "\n",
              "  <style>\n",
              "    .colab-df-container {\n",
              "      display:flex;\n",
              "      gap: 12px;\n",
              "    }\n",
              "\n",
              "    .colab-df-convert {\n",
              "      background-color: #E8F0FE;\n",
              "      border: none;\n",
              "      border-radius: 50%;\n",
              "      cursor: pointer;\n",
              "      display: none;\n",
              "      fill: #1967D2;\n",
              "      height: 32px;\n",
              "      padding: 0 0 0 0;\n",
              "      width: 32px;\n",
              "    }\n",
              "\n",
              "    .colab-df-convert:hover {\n",
              "      background-color: #E2EBFA;\n",
              "      box-shadow: 0px 1px 2px rgba(60, 64, 67, 0.3), 0px 1px 3px 1px rgba(60, 64, 67, 0.15);\n",
              "      fill: #174EA6;\n",
              "    }\n",
              "\n",
              "    .colab-df-buttons div {\n",
              "      margin-bottom: 4px;\n",
              "    }\n",
              "\n",
              "    [theme=dark] .colab-df-convert {\n",
              "      background-color: #3B4455;\n",
              "      fill: #D2E3FC;\n",
              "    }\n",
              "\n",
              "    [theme=dark] .colab-df-convert:hover {\n",
              "      background-color: #434B5C;\n",
              "      box-shadow: 0px 1px 3px 1px rgba(0, 0, 0, 0.15);\n",
              "      filter: drop-shadow(0px 1px 2px rgba(0, 0, 0, 0.3));\n",
              "      fill: #FFFFFF;\n",
              "    }\n",
              "  </style>\n",
              "\n",
              "    <script>\n",
              "      const buttonEl =\n",
              "        document.querySelector('#df-e67df4dd-f260-408c-9bc9-bd58972bfeb1 button.colab-df-convert');\n",
              "      buttonEl.style.display =\n",
              "        google.colab.kernel.accessAllowed ? 'block' : 'none';\n",
              "\n",
              "      async function convertToInteractive(key) {\n",
              "        const element = document.querySelector('#df-e67df4dd-f260-408c-9bc9-bd58972bfeb1');\n",
              "        const dataTable =\n",
              "          await google.colab.kernel.invokeFunction('convertToInteractive',\n",
              "                                                    [key], {});\n",
              "        if (!dataTable) return;\n",
              "\n",
              "        const docLinkHtml = 'Like what you see? Visit the ' +\n",
              "          '<a target=\"_blank\" href=https://colab.research.google.com/notebooks/data_table.ipynb>data table notebook</a>'\n",
              "          + ' to learn more about interactive tables.';\n",
              "        element.innerHTML = '';\n",
              "        dataTable['output_type'] = 'display_data';\n",
              "        await google.colab.output.renderOutput(dataTable, element);\n",
              "        const docLink = document.createElement('div');\n",
              "        docLink.innerHTML = docLinkHtml;\n",
              "        element.appendChild(docLink);\n",
              "      }\n",
              "    </script>\n",
              "  </div>\n",
              "\n",
              "    </div>\n",
              "  </div>\n"
            ]
          },
          "metadata": {},
          "execution_count": 7
        }
      ]
    },
    {
      "cell_type": "markdown",
      "source": [
        "## **Function to fetch the first page of all the pdf files**"
      ],
      "metadata": {
        "id": "0RCNdlH4qmVk"
      }
    },
    {
      "cell_type": "code",
      "source": [
        "def get_first_page_only(pdf_path):\n",
        "    pages_to_keep = [0] # page numbering starts from 0\n",
        "    infile = PdfReader(pdf_path, 'rb')\n",
        "    output = PdfWriter()\n",
        "\n",
        "    for i in pages_to_keep:\n",
        "        p = infile.pages[i]\n",
        "        output.add_page(p)\n",
        "\n",
        "    with open('/content/drive/MyDrive/modified_sec_edgar/' + os.path.split(pdf_path)[-1], 'wb') as f:\n",
        "        output.write(f)"
      ],
      "metadata": {
        "id": "kGHGH44OldMW"
      },
      "execution_count": null,
      "outputs": []
    },
    {
      "cell_type": "markdown",
      "source": [
        "## **Function to extract Text from Images**"
      ],
      "metadata": {
        "id": "WwbibdjKteCd"
      }
    },
    {
      "cell_type": "code",
      "source": [
        "def extract_text_with_easyocr(list_dict_final_images):\n",
        "\n",
        "    image_list = [list(data.values())[0] for data in list_dict_final_images]\n",
        "    image_content = []\n",
        "\n",
        "    for index, image_bytes in enumerate(image_list):\n",
        "\n",
        "        image = Image.open(BytesIO(image_bytes))\n",
        "        raw_text = language_reader.readtext(image)\n",
        "        raw_text = \"\\n\".join([res[1] for res in raw_text])\n",
        "\n",
        "        image_content.append(raw_text)\n",
        "\n",
        "    return \"\\n\".join(image_content)"
      ],
      "metadata": {
        "id": "pzYp7TY2fp8-"
      },
      "execution_count": null,
      "outputs": []
    },
    {
      "cell_type": "markdown",
      "source": [
        "## **Function to convert PDF to Images**"
      ],
      "metadata": {
        "id": "IaBhvbU7raF2"
      }
    },
    {
      "cell_type": "code",
      "source": [
        "def convert_pdf_to_images(file_path, scale=300/72):\n",
        "\n",
        "    pdf_file = pdfium.PdfDocument(file_path)\n",
        "    page_indices = [i for i in range(len(pdf_file))]\n",
        "\n",
        "    renderer = pdf_file.render(\n",
        "        pdfium.PdfBitmap.to_pil,\n",
        "        page_indices = page_indices,\n",
        "        scale = scale,\n",
        "    )\n",
        "\n",
        "    list_final_images = []\n",
        "\n",
        "    for i, image in zip(page_indices, renderer):\n",
        "\n",
        "        image_byte_array = BytesIO()\n",
        "        image.save(image_byte_array, format='jpeg', optimize=True)\n",
        "        image_byte_array = image_byte_array.getvalue()\n",
        "        list_final_images.append(dict({i:image_byte_array}))\n",
        "\n",
        "    # text_with_easy_ocr = extract_text_with_easyocr(list_final_images)\n",
        "\n",
        "    return list_final_images"
      ],
      "metadata": {
        "id": "sUftNg5LfKEb"
      },
      "execution_count": null,
      "outputs": []
    },
    {
      "cell_type": "markdown",
      "source": [
        "## **Function to display the converted Images**"
      ],
      "metadata": {
        "id": "M8wdYPSsrldI"
      }
    },
    {
      "cell_type": "code",
      "source": [
        "# def display_images(list_dict_final_images):\n",
        "\n",
        "#     all_images = [list(data.values())[0] for data in list_dict_final_images]\n",
        "\n",
        "#     for index, image_bytes in enumerate(all_images):\n",
        "\n",
        "#         image = Image.open(BytesIO(image_bytes))\n",
        "#         figure = plt.figure(figsize = (image.width / 100, image.height / 100))\n",
        "\n",
        "#         plt.title(f\"----- Page Number {index+1} -----\")\n",
        "#         plt.imshow(image)\n",
        "#         plt.axis(\"off\")\n",
        "#         plt.show()"
      ],
      "metadata": {
        "id": "6y4Mf6HifO_h"
      },
      "execution_count": null,
      "outputs": []
    },
    {
      "cell_type": "code",
      "source": [
        "# Passing all the complete pdf files to fetch the first page and store in a seperate directory\n",
        "\n",
        "pdfs = glob.glob('/content/drive/MyDrive/sec_edgar/*.pdf')\n",
        "for i in pdfs:\n",
        "    get_first_page_only(i)"
      ],
      "metadata": {
        "id": "5dvVYp00nCZD"
      },
      "execution_count": null,
      "outputs": []
    },
    {
      "cell_type": "code",
      "source": [
        "# Populating the 'filename' column with the pdf names\n",
        "\n",
        "pdfs = glob.glob('/content/drive/MyDrive/sec_edgar/*.pdf')\n",
        "for n, file in zip(range(len(pdfs)), pdfs):\n",
        "    df.at[n, 'filename'] = os.path.split(file)[-1]"
      ],
      "metadata": {
        "id": "Gn7NJD4IzYwk"
      },
      "execution_count": null,
      "outputs": []
    },
    {
      "cell_type": "code",
      "source": [
        "# df.to_excel(\"SEC NLP Assignment.xlsx\")"
      ],
      "metadata": {
        "id": "oEdG1Ac52jVp"
      },
      "execution_count": null,
      "outputs": []
    },
    {
      "cell_type": "code",
      "source": [
        "df = pd.read_csv('/content/drive/MyDrive/SEC NLP Assignment.csv')\n",
        "df"
      ],
      "metadata": {
        "colab": {
          "base_uri": "https://localhost:8080/",
          "height": 423
        },
        "id": "NvLLGO9RH5LU",
        "outputId": "de5f8adf-129d-47dd-b337-eb5133d4c479"
      },
      "execution_count": null,
      "outputs": [
        {
          "output_type": "execute_result",
          "data": {
            "text/plain": [
              "     Unnamed: 0      filename    formtype  text_content  label\n",
              "0             0  00049397.pdf      Form D           NaN    NaN\n",
              "1             1  00068790.pdf      Form D           NaN    NaN\n",
              "2             2  00092635.pdf      Form D           NaN    NaN\n",
              "3             3  00092782.pdf    Form 13F           NaN    NaN\n",
              "4             4  00092785.pdf      Form D           NaN    NaN\n",
              "..          ...           ...         ...           ...    ...\n",
              "299         299  01082108.pdf  Form 19B-4           NaN    NaN\n",
              "300         300  01082109.pdf    Form 13F           NaN    NaN\n",
              "301         301  01082110.pdf    Form 13F           NaN    NaN\n",
              "302         302  01082111.pdf    Form 13F           NaN    NaN\n",
              "303         303  01082112.pdf    Form 13F           NaN    NaN\n",
              "\n",
              "[304 rows x 5 columns]"
            ],
            "text/html": [
              "\n",
              "  <div id=\"df-54992d77-29cf-4528-b724-1985b69766fb\" class=\"colab-df-container\">\n",
              "    <div>\n",
              "<style scoped>\n",
              "    .dataframe tbody tr th:only-of-type {\n",
              "        vertical-align: middle;\n",
              "    }\n",
              "\n",
              "    .dataframe tbody tr th {\n",
              "        vertical-align: top;\n",
              "    }\n",
              "\n",
              "    .dataframe thead th {\n",
              "        text-align: right;\n",
              "    }\n",
              "</style>\n",
              "<table border=\"1\" class=\"dataframe\">\n",
              "  <thead>\n",
              "    <tr style=\"text-align: right;\">\n",
              "      <th></th>\n",
              "      <th>Unnamed: 0</th>\n",
              "      <th>filename</th>\n",
              "      <th>formtype</th>\n",
              "      <th>text_content</th>\n",
              "      <th>label</th>\n",
              "    </tr>\n",
              "  </thead>\n",
              "  <tbody>\n",
              "    <tr>\n",
              "      <th>0</th>\n",
              "      <td>0</td>\n",
              "      <td>00049397.pdf</td>\n",
              "      <td>Form D</td>\n",
              "      <td>NaN</td>\n",
              "      <td>NaN</td>\n",
              "    </tr>\n",
              "    <tr>\n",
              "      <th>1</th>\n",
              "      <td>1</td>\n",
              "      <td>00068790.pdf</td>\n",
              "      <td>Form D</td>\n",
              "      <td>NaN</td>\n",
              "      <td>NaN</td>\n",
              "    </tr>\n",
              "    <tr>\n",
              "      <th>2</th>\n",
              "      <td>2</td>\n",
              "      <td>00092635.pdf</td>\n",
              "      <td>Form D</td>\n",
              "      <td>NaN</td>\n",
              "      <td>NaN</td>\n",
              "    </tr>\n",
              "    <tr>\n",
              "      <th>3</th>\n",
              "      <td>3</td>\n",
              "      <td>00092782.pdf</td>\n",
              "      <td>Form 13F</td>\n",
              "      <td>NaN</td>\n",
              "      <td>NaN</td>\n",
              "    </tr>\n",
              "    <tr>\n",
              "      <th>4</th>\n",
              "      <td>4</td>\n",
              "      <td>00092785.pdf</td>\n",
              "      <td>Form D</td>\n",
              "      <td>NaN</td>\n",
              "      <td>NaN</td>\n",
              "    </tr>\n",
              "    <tr>\n",
              "      <th>...</th>\n",
              "      <td>...</td>\n",
              "      <td>...</td>\n",
              "      <td>...</td>\n",
              "      <td>...</td>\n",
              "      <td>...</td>\n",
              "    </tr>\n",
              "    <tr>\n",
              "      <th>299</th>\n",
              "      <td>299</td>\n",
              "      <td>01082108.pdf</td>\n",
              "      <td>Form 19B-4</td>\n",
              "      <td>NaN</td>\n",
              "      <td>NaN</td>\n",
              "    </tr>\n",
              "    <tr>\n",
              "      <th>300</th>\n",
              "      <td>300</td>\n",
              "      <td>01082109.pdf</td>\n",
              "      <td>Form 13F</td>\n",
              "      <td>NaN</td>\n",
              "      <td>NaN</td>\n",
              "    </tr>\n",
              "    <tr>\n",
              "      <th>301</th>\n",
              "      <td>301</td>\n",
              "      <td>01082110.pdf</td>\n",
              "      <td>Form 13F</td>\n",
              "      <td>NaN</td>\n",
              "      <td>NaN</td>\n",
              "    </tr>\n",
              "    <tr>\n",
              "      <th>302</th>\n",
              "      <td>302</td>\n",
              "      <td>01082111.pdf</td>\n",
              "      <td>Form 13F</td>\n",
              "      <td>NaN</td>\n",
              "      <td>NaN</td>\n",
              "    </tr>\n",
              "    <tr>\n",
              "      <th>303</th>\n",
              "      <td>303</td>\n",
              "      <td>01082112.pdf</td>\n",
              "      <td>Form 13F</td>\n",
              "      <td>NaN</td>\n",
              "      <td>NaN</td>\n",
              "    </tr>\n",
              "  </tbody>\n",
              "</table>\n",
              "<p>304 rows × 5 columns</p>\n",
              "</div>\n",
              "    <div class=\"colab-df-buttons\">\n",
              "\n",
              "  <div class=\"colab-df-container\">\n",
              "    <button class=\"colab-df-convert\" onclick=\"convertToInteractive('df-54992d77-29cf-4528-b724-1985b69766fb')\"\n",
              "            title=\"Convert this dataframe to an interactive table.\"\n",
              "            style=\"display:none;\">\n",
              "\n",
              "  <svg xmlns=\"http://www.w3.org/2000/svg\" height=\"24px\" viewBox=\"0 -960 960 960\">\n",
              "    <path d=\"M120-120v-720h720v720H120Zm60-500h600v-160H180v160Zm220 220h160v-160H400v160Zm0 220h160v-160H400v160ZM180-400h160v-160H180v160Zm440 0h160v-160H620v160ZM180-180h160v-160H180v160Zm440 0h160v-160H620v160Z\"/>\n",
              "  </svg>\n",
              "    </button>\n",
              "\n",
              "  <style>\n",
              "    .colab-df-container {\n",
              "      display:flex;\n",
              "      gap: 12px;\n",
              "    }\n",
              "\n",
              "    .colab-df-convert {\n",
              "      background-color: #E8F0FE;\n",
              "      border: none;\n",
              "      border-radius: 50%;\n",
              "      cursor: pointer;\n",
              "      display: none;\n",
              "      fill: #1967D2;\n",
              "      height: 32px;\n",
              "      padding: 0 0 0 0;\n",
              "      width: 32px;\n",
              "    }\n",
              "\n",
              "    .colab-df-convert:hover {\n",
              "      background-color: #E2EBFA;\n",
              "      box-shadow: 0px 1px 2px rgba(60, 64, 67, 0.3), 0px 1px 3px 1px rgba(60, 64, 67, 0.15);\n",
              "      fill: #174EA6;\n",
              "    }\n",
              "\n",
              "    .colab-df-buttons div {\n",
              "      margin-bottom: 4px;\n",
              "    }\n",
              "\n",
              "    [theme=dark] .colab-df-convert {\n",
              "      background-color: #3B4455;\n",
              "      fill: #D2E3FC;\n",
              "    }\n",
              "\n",
              "    [theme=dark] .colab-df-convert:hover {\n",
              "      background-color: #434B5C;\n",
              "      box-shadow: 0px 1px 3px 1px rgba(0, 0, 0, 0.15);\n",
              "      filter: drop-shadow(0px 1px 2px rgba(0, 0, 0, 0.3));\n",
              "      fill: #FFFFFF;\n",
              "    }\n",
              "  </style>\n",
              "\n",
              "    <script>\n",
              "      const buttonEl =\n",
              "        document.querySelector('#df-54992d77-29cf-4528-b724-1985b69766fb button.colab-df-convert');\n",
              "      buttonEl.style.display =\n",
              "        google.colab.kernel.accessAllowed ? 'block' : 'none';\n",
              "\n",
              "      async function convertToInteractive(key) {\n",
              "        const element = document.querySelector('#df-54992d77-29cf-4528-b724-1985b69766fb');\n",
              "        const dataTable =\n",
              "          await google.colab.kernel.invokeFunction('convertToInteractive',\n",
              "                                                    [key], {});\n",
              "        if (!dataTable) return;\n",
              "\n",
              "        const docLinkHtml = 'Like what you see? Visit the ' +\n",
              "          '<a target=\"_blank\" href=https://colab.research.google.com/notebooks/data_table.ipynb>data table notebook</a>'\n",
              "          + ' to learn more about interactive tables.';\n",
              "        element.innerHTML = '';\n",
              "        dataTable['output_type'] = 'display_data';\n",
              "        await google.colab.output.renderOutput(dataTable, element);\n",
              "        const docLink = document.createElement('div');\n",
              "        docLink.innerHTML = docLinkHtml;\n",
              "        element.appendChild(docLink);\n",
              "      }\n",
              "    </script>\n",
              "  </div>\n",
              "\n",
              "\n",
              "<div id=\"df-57d0b369-bac4-415c-81e3-811a4d0a6f51\">\n",
              "  <button class=\"colab-df-quickchart\" onclick=\"quickchart('df-57d0b369-bac4-415c-81e3-811a4d0a6f51')\"\n",
              "            title=\"Suggest charts.\"\n",
              "            style=\"display:none;\">\n",
              "\n",
              "<svg xmlns=\"http://www.w3.org/2000/svg\" height=\"24px\"viewBox=\"0 0 24 24\"\n",
              "     width=\"24px\">\n",
              "    <g>\n",
              "        <path d=\"M19 3H5c-1.1 0-2 .9-2 2v14c0 1.1.9 2 2 2h14c1.1 0 2-.9 2-2V5c0-1.1-.9-2-2-2zM9 17H7v-7h2v7zm4 0h-2V7h2v10zm4 0h-2v-4h2v4z\"/>\n",
              "    </g>\n",
              "</svg>\n",
              "  </button>\n",
              "\n",
              "<style>\n",
              "  .colab-df-quickchart {\n",
              "      --bg-color: #E8F0FE;\n",
              "      --fill-color: #1967D2;\n",
              "      --hover-bg-color: #E2EBFA;\n",
              "      --hover-fill-color: #174EA6;\n",
              "      --disabled-fill-color: #AAA;\n",
              "      --disabled-bg-color: #DDD;\n",
              "  }\n",
              "\n",
              "  [theme=dark] .colab-df-quickchart {\n",
              "      --bg-color: #3B4455;\n",
              "      --fill-color: #D2E3FC;\n",
              "      --hover-bg-color: #434B5C;\n",
              "      --hover-fill-color: #FFFFFF;\n",
              "      --disabled-bg-color: #3B4455;\n",
              "      --disabled-fill-color: #666;\n",
              "  }\n",
              "\n",
              "  .colab-df-quickchart {\n",
              "    background-color: var(--bg-color);\n",
              "    border: none;\n",
              "    border-radius: 50%;\n",
              "    cursor: pointer;\n",
              "    display: none;\n",
              "    fill: var(--fill-color);\n",
              "    height: 32px;\n",
              "    padding: 0;\n",
              "    width: 32px;\n",
              "  }\n",
              "\n",
              "  .colab-df-quickchart:hover {\n",
              "    background-color: var(--hover-bg-color);\n",
              "    box-shadow: 0 1px 2px rgba(60, 64, 67, 0.3), 0 1px 3px 1px rgba(60, 64, 67, 0.15);\n",
              "    fill: var(--button-hover-fill-color);\n",
              "  }\n",
              "\n",
              "  .colab-df-quickchart-complete:disabled,\n",
              "  .colab-df-quickchart-complete:disabled:hover {\n",
              "    background-color: var(--disabled-bg-color);\n",
              "    fill: var(--disabled-fill-color);\n",
              "    box-shadow: none;\n",
              "  }\n",
              "\n",
              "  .colab-df-spinner {\n",
              "    border: 2px solid var(--fill-color);\n",
              "    border-color: transparent;\n",
              "    border-bottom-color: var(--fill-color);\n",
              "    animation:\n",
              "      spin 1s steps(1) infinite;\n",
              "  }\n",
              "\n",
              "  @keyframes spin {\n",
              "    0% {\n",
              "      border-color: transparent;\n",
              "      border-bottom-color: var(--fill-color);\n",
              "      border-left-color: var(--fill-color);\n",
              "    }\n",
              "    20% {\n",
              "      border-color: transparent;\n",
              "      border-left-color: var(--fill-color);\n",
              "      border-top-color: var(--fill-color);\n",
              "    }\n",
              "    30% {\n",
              "      border-color: transparent;\n",
              "      border-left-color: var(--fill-color);\n",
              "      border-top-color: var(--fill-color);\n",
              "      border-right-color: var(--fill-color);\n",
              "    }\n",
              "    40% {\n",
              "      border-color: transparent;\n",
              "      border-right-color: var(--fill-color);\n",
              "      border-top-color: var(--fill-color);\n",
              "    }\n",
              "    60% {\n",
              "      border-color: transparent;\n",
              "      border-right-color: var(--fill-color);\n",
              "    }\n",
              "    80% {\n",
              "      border-color: transparent;\n",
              "      border-right-color: var(--fill-color);\n",
              "      border-bottom-color: var(--fill-color);\n",
              "    }\n",
              "    90% {\n",
              "      border-color: transparent;\n",
              "      border-bottom-color: var(--fill-color);\n",
              "    }\n",
              "  }\n",
              "</style>\n",
              "\n",
              "  <script>\n",
              "    async function quickchart(key) {\n",
              "      const quickchartButtonEl =\n",
              "        document.querySelector('#' + key + ' button');\n",
              "      quickchartButtonEl.disabled = true;  // To prevent multiple clicks.\n",
              "      quickchartButtonEl.classList.add('colab-df-spinner');\n",
              "      try {\n",
              "        const charts = await google.colab.kernel.invokeFunction(\n",
              "            'suggestCharts', [key], {});\n",
              "      } catch (error) {\n",
              "        console.error('Error during call to suggestCharts:', error);\n",
              "      }\n",
              "      quickchartButtonEl.classList.remove('colab-df-spinner');\n",
              "      quickchartButtonEl.classList.add('colab-df-quickchart-complete');\n",
              "    }\n",
              "    (() => {\n",
              "      let quickchartButtonEl =\n",
              "        document.querySelector('#df-57d0b369-bac4-415c-81e3-811a4d0a6f51 button');\n",
              "      quickchartButtonEl.style.display =\n",
              "        google.colab.kernel.accessAllowed ? 'block' : 'none';\n",
              "    })();\n",
              "  </script>\n",
              "</div>\n",
              "    </div>\n",
              "  </div>\n"
            ]
          },
          "metadata": {},
          "execution_count": 11
        }
      ]
    },
    {
      "cell_type": "code",
      "source": [
        "# Labelling the different Form types with distinct labels\n",
        "\n",
        "for i in range(0, 304):\n",
        "    if df.at[i, 'formtype']=='Form D':\n",
        "      df.at[i, 'label'] = 0\n",
        "    elif df.at[i, 'formtype']=='Form 13F':\n",
        "      df.at[i, 'label'] = 1\n",
        "    elif df.at[i, 'formtype']=='Form X-17A-5':\n",
        "      df.at[i, 'label'] = 2\n",
        "    elif df.at[i, 'formtype']=='Form TA-2':\n",
        "      df.at[i, 'label'] = 3\n",
        "    elif df.at[i, 'formtype']=='Form 6-K':\n",
        "      df.at[i, 'label'] = 4\n",
        "    elif df.at[i, 'formtype']=='Form 11-K':\n",
        "      df.at[i, 'label'] = 5\n",
        "    elif df.at[i, 'formtype']=='Form 19B-4':\n",
        "      df.at[i, 'label'] = 6\n",
        "    elif df.at[i, 'formtype']=='Other':\n",
        "      df.at[i, 'label'] = 7"
      ],
      "metadata": {
        "id": "GSpOSYI2IN25"
      },
      "execution_count": null,
      "outputs": []
    },
    {
      "cell_type": "code",
      "source": [
        "df"
      ],
      "metadata": {
        "colab": {
          "base_uri": "https://localhost:8080/",
          "height": 423
        },
        "id": "MR97KFnRIN5N",
        "outputId": "e0fb4be3-d844-4b8c-f04e-abc7b7bc596c"
      },
      "execution_count": null,
      "outputs": [
        {
          "output_type": "execute_result",
          "data": {
            "text/plain": [
              "     Unnamed: 0      filename    formtype  text_content  label\n",
              "0             0  00049397.pdf      Form D           NaN    0.0\n",
              "1             1  00068790.pdf      Form D           NaN    0.0\n",
              "2             2  00092635.pdf      Form D           NaN    0.0\n",
              "3             3  00092782.pdf    Form 13F           NaN    1.0\n",
              "4             4  00092785.pdf      Form D           NaN    0.0\n",
              "..          ...           ...         ...           ...    ...\n",
              "299         299  01082108.pdf  Form 19B-4           NaN    6.0\n",
              "300         300  01082109.pdf    Form 13F           NaN    1.0\n",
              "301         301  01082110.pdf    Form 13F           NaN    1.0\n",
              "302         302  01082111.pdf    Form 13F           NaN    1.0\n",
              "303         303  01082112.pdf    Form 13F           NaN    1.0\n",
              "\n",
              "[304 rows x 5 columns]"
            ],
            "text/html": [
              "\n",
              "  <div id=\"df-ed282d6a-cafd-4dbb-a98b-56cba48f7510\" class=\"colab-df-container\">\n",
              "    <div>\n",
              "<style scoped>\n",
              "    .dataframe tbody tr th:only-of-type {\n",
              "        vertical-align: middle;\n",
              "    }\n",
              "\n",
              "    .dataframe tbody tr th {\n",
              "        vertical-align: top;\n",
              "    }\n",
              "\n",
              "    .dataframe thead th {\n",
              "        text-align: right;\n",
              "    }\n",
              "</style>\n",
              "<table border=\"1\" class=\"dataframe\">\n",
              "  <thead>\n",
              "    <tr style=\"text-align: right;\">\n",
              "      <th></th>\n",
              "      <th>Unnamed: 0</th>\n",
              "      <th>filename</th>\n",
              "      <th>formtype</th>\n",
              "      <th>text_content</th>\n",
              "      <th>label</th>\n",
              "    </tr>\n",
              "  </thead>\n",
              "  <tbody>\n",
              "    <tr>\n",
              "      <th>0</th>\n",
              "      <td>0</td>\n",
              "      <td>00049397.pdf</td>\n",
              "      <td>Form D</td>\n",
              "      <td>NaN</td>\n",
              "      <td>0.0</td>\n",
              "    </tr>\n",
              "    <tr>\n",
              "      <th>1</th>\n",
              "      <td>1</td>\n",
              "      <td>00068790.pdf</td>\n",
              "      <td>Form D</td>\n",
              "      <td>NaN</td>\n",
              "      <td>0.0</td>\n",
              "    </tr>\n",
              "    <tr>\n",
              "      <th>2</th>\n",
              "      <td>2</td>\n",
              "      <td>00092635.pdf</td>\n",
              "      <td>Form D</td>\n",
              "      <td>NaN</td>\n",
              "      <td>0.0</td>\n",
              "    </tr>\n",
              "    <tr>\n",
              "      <th>3</th>\n",
              "      <td>3</td>\n",
              "      <td>00092782.pdf</td>\n",
              "      <td>Form 13F</td>\n",
              "      <td>NaN</td>\n",
              "      <td>1.0</td>\n",
              "    </tr>\n",
              "    <tr>\n",
              "      <th>4</th>\n",
              "      <td>4</td>\n",
              "      <td>00092785.pdf</td>\n",
              "      <td>Form D</td>\n",
              "      <td>NaN</td>\n",
              "      <td>0.0</td>\n",
              "    </tr>\n",
              "    <tr>\n",
              "      <th>...</th>\n",
              "      <td>...</td>\n",
              "      <td>...</td>\n",
              "      <td>...</td>\n",
              "      <td>...</td>\n",
              "      <td>...</td>\n",
              "    </tr>\n",
              "    <tr>\n",
              "      <th>299</th>\n",
              "      <td>299</td>\n",
              "      <td>01082108.pdf</td>\n",
              "      <td>Form 19B-4</td>\n",
              "      <td>NaN</td>\n",
              "      <td>6.0</td>\n",
              "    </tr>\n",
              "    <tr>\n",
              "      <th>300</th>\n",
              "      <td>300</td>\n",
              "      <td>01082109.pdf</td>\n",
              "      <td>Form 13F</td>\n",
              "      <td>NaN</td>\n",
              "      <td>1.0</td>\n",
              "    </tr>\n",
              "    <tr>\n",
              "      <th>301</th>\n",
              "      <td>301</td>\n",
              "      <td>01082110.pdf</td>\n",
              "      <td>Form 13F</td>\n",
              "      <td>NaN</td>\n",
              "      <td>1.0</td>\n",
              "    </tr>\n",
              "    <tr>\n",
              "      <th>302</th>\n",
              "      <td>302</td>\n",
              "      <td>01082111.pdf</td>\n",
              "      <td>Form 13F</td>\n",
              "      <td>NaN</td>\n",
              "      <td>1.0</td>\n",
              "    </tr>\n",
              "    <tr>\n",
              "      <th>303</th>\n",
              "      <td>303</td>\n",
              "      <td>01082112.pdf</td>\n",
              "      <td>Form 13F</td>\n",
              "      <td>NaN</td>\n",
              "      <td>1.0</td>\n",
              "    </tr>\n",
              "  </tbody>\n",
              "</table>\n",
              "<p>304 rows × 5 columns</p>\n",
              "</div>\n",
              "    <div class=\"colab-df-buttons\">\n",
              "\n",
              "  <div class=\"colab-df-container\">\n",
              "    <button class=\"colab-df-convert\" onclick=\"convertToInteractive('df-ed282d6a-cafd-4dbb-a98b-56cba48f7510')\"\n",
              "            title=\"Convert this dataframe to an interactive table.\"\n",
              "            style=\"display:none;\">\n",
              "\n",
              "  <svg xmlns=\"http://www.w3.org/2000/svg\" height=\"24px\" viewBox=\"0 -960 960 960\">\n",
              "    <path d=\"M120-120v-720h720v720H120Zm60-500h600v-160H180v160Zm220 220h160v-160H400v160Zm0 220h160v-160H400v160ZM180-400h160v-160H180v160Zm440 0h160v-160H620v160ZM180-180h160v-160H180v160Zm440 0h160v-160H620v160Z\"/>\n",
              "  </svg>\n",
              "    </button>\n",
              "\n",
              "  <style>\n",
              "    .colab-df-container {\n",
              "      display:flex;\n",
              "      gap: 12px;\n",
              "    }\n",
              "\n",
              "    .colab-df-convert {\n",
              "      background-color: #E8F0FE;\n",
              "      border: none;\n",
              "      border-radius: 50%;\n",
              "      cursor: pointer;\n",
              "      display: none;\n",
              "      fill: #1967D2;\n",
              "      height: 32px;\n",
              "      padding: 0 0 0 0;\n",
              "      width: 32px;\n",
              "    }\n",
              "\n",
              "    .colab-df-convert:hover {\n",
              "      background-color: #E2EBFA;\n",
              "      box-shadow: 0px 1px 2px rgba(60, 64, 67, 0.3), 0px 1px 3px 1px rgba(60, 64, 67, 0.15);\n",
              "      fill: #174EA6;\n",
              "    }\n",
              "\n",
              "    .colab-df-buttons div {\n",
              "      margin-bottom: 4px;\n",
              "    }\n",
              "\n",
              "    [theme=dark] .colab-df-convert {\n",
              "      background-color: #3B4455;\n",
              "      fill: #D2E3FC;\n",
              "    }\n",
              "\n",
              "    [theme=dark] .colab-df-convert:hover {\n",
              "      background-color: #434B5C;\n",
              "      box-shadow: 0px 1px 3px 1px rgba(0, 0, 0, 0.15);\n",
              "      filter: drop-shadow(0px 1px 2px rgba(0, 0, 0, 0.3));\n",
              "      fill: #FFFFFF;\n",
              "    }\n",
              "  </style>\n",
              "\n",
              "    <script>\n",
              "      const buttonEl =\n",
              "        document.querySelector('#df-ed282d6a-cafd-4dbb-a98b-56cba48f7510 button.colab-df-convert');\n",
              "      buttonEl.style.display =\n",
              "        google.colab.kernel.accessAllowed ? 'block' : 'none';\n",
              "\n",
              "      async function convertToInteractive(key) {\n",
              "        const element = document.querySelector('#df-ed282d6a-cafd-4dbb-a98b-56cba48f7510');\n",
              "        const dataTable =\n",
              "          await google.colab.kernel.invokeFunction('convertToInteractive',\n",
              "                                                    [key], {});\n",
              "        if (!dataTable) return;\n",
              "\n",
              "        const docLinkHtml = 'Like what you see? Visit the ' +\n",
              "          '<a target=\"_blank\" href=https://colab.research.google.com/notebooks/data_table.ipynb>data table notebook</a>'\n",
              "          + ' to learn more about interactive tables.';\n",
              "        element.innerHTML = '';\n",
              "        dataTable['output_type'] = 'display_data';\n",
              "        await google.colab.output.renderOutput(dataTable, element);\n",
              "        const docLink = document.createElement('div');\n",
              "        docLink.innerHTML = docLinkHtml;\n",
              "        element.appendChild(docLink);\n",
              "      }\n",
              "    </script>\n",
              "  </div>\n",
              "\n",
              "\n",
              "<div id=\"df-8286dfd1-4f0e-4e02-8862-aa4f76fd25a9\">\n",
              "  <button class=\"colab-df-quickchart\" onclick=\"quickchart('df-8286dfd1-4f0e-4e02-8862-aa4f76fd25a9')\"\n",
              "            title=\"Suggest charts.\"\n",
              "            style=\"display:none;\">\n",
              "\n",
              "<svg xmlns=\"http://www.w3.org/2000/svg\" height=\"24px\"viewBox=\"0 0 24 24\"\n",
              "     width=\"24px\">\n",
              "    <g>\n",
              "        <path d=\"M19 3H5c-1.1 0-2 .9-2 2v14c0 1.1.9 2 2 2h14c1.1 0 2-.9 2-2V5c0-1.1-.9-2-2-2zM9 17H7v-7h2v7zm4 0h-2V7h2v10zm4 0h-2v-4h2v4z\"/>\n",
              "    </g>\n",
              "</svg>\n",
              "  </button>\n",
              "\n",
              "<style>\n",
              "  .colab-df-quickchart {\n",
              "      --bg-color: #E8F0FE;\n",
              "      --fill-color: #1967D2;\n",
              "      --hover-bg-color: #E2EBFA;\n",
              "      --hover-fill-color: #174EA6;\n",
              "      --disabled-fill-color: #AAA;\n",
              "      --disabled-bg-color: #DDD;\n",
              "  }\n",
              "\n",
              "  [theme=dark] .colab-df-quickchart {\n",
              "      --bg-color: #3B4455;\n",
              "      --fill-color: #D2E3FC;\n",
              "      --hover-bg-color: #434B5C;\n",
              "      --hover-fill-color: #FFFFFF;\n",
              "      --disabled-bg-color: #3B4455;\n",
              "      --disabled-fill-color: #666;\n",
              "  }\n",
              "\n",
              "  .colab-df-quickchart {\n",
              "    background-color: var(--bg-color);\n",
              "    border: none;\n",
              "    border-radius: 50%;\n",
              "    cursor: pointer;\n",
              "    display: none;\n",
              "    fill: var(--fill-color);\n",
              "    height: 32px;\n",
              "    padding: 0;\n",
              "    width: 32px;\n",
              "  }\n",
              "\n",
              "  .colab-df-quickchart:hover {\n",
              "    background-color: var(--hover-bg-color);\n",
              "    box-shadow: 0 1px 2px rgba(60, 64, 67, 0.3), 0 1px 3px 1px rgba(60, 64, 67, 0.15);\n",
              "    fill: var(--button-hover-fill-color);\n",
              "  }\n",
              "\n",
              "  .colab-df-quickchart-complete:disabled,\n",
              "  .colab-df-quickchart-complete:disabled:hover {\n",
              "    background-color: var(--disabled-bg-color);\n",
              "    fill: var(--disabled-fill-color);\n",
              "    box-shadow: none;\n",
              "  }\n",
              "\n",
              "  .colab-df-spinner {\n",
              "    border: 2px solid var(--fill-color);\n",
              "    border-color: transparent;\n",
              "    border-bottom-color: var(--fill-color);\n",
              "    animation:\n",
              "      spin 1s steps(1) infinite;\n",
              "  }\n",
              "\n",
              "  @keyframes spin {\n",
              "    0% {\n",
              "      border-color: transparent;\n",
              "      border-bottom-color: var(--fill-color);\n",
              "      border-left-color: var(--fill-color);\n",
              "    }\n",
              "    20% {\n",
              "      border-color: transparent;\n",
              "      border-left-color: var(--fill-color);\n",
              "      border-top-color: var(--fill-color);\n",
              "    }\n",
              "    30% {\n",
              "      border-color: transparent;\n",
              "      border-left-color: var(--fill-color);\n",
              "      border-top-color: var(--fill-color);\n",
              "      border-right-color: var(--fill-color);\n",
              "    }\n",
              "    40% {\n",
              "      border-color: transparent;\n",
              "      border-right-color: var(--fill-color);\n",
              "      border-top-color: var(--fill-color);\n",
              "    }\n",
              "    60% {\n",
              "      border-color: transparent;\n",
              "      border-right-color: var(--fill-color);\n",
              "    }\n",
              "    80% {\n",
              "      border-color: transparent;\n",
              "      border-right-color: var(--fill-color);\n",
              "      border-bottom-color: var(--fill-color);\n",
              "    }\n",
              "    90% {\n",
              "      border-color: transparent;\n",
              "      border-bottom-color: var(--fill-color);\n",
              "    }\n",
              "  }\n",
              "</style>\n",
              "\n",
              "  <script>\n",
              "    async function quickchart(key) {\n",
              "      const quickchartButtonEl =\n",
              "        document.querySelector('#' + key + ' button');\n",
              "      quickchartButtonEl.disabled = true;  // To prevent multiple clicks.\n",
              "      quickchartButtonEl.classList.add('colab-df-spinner');\n",
              "      try {\n",
              "        const charts = await google.colab.kernel.invokeFunction(\n",
              "            'suggestCharts', [key], {});\n",
              "      } catch (error) {\n",
              "        console.error('Error during call to suggestCharts:', error);\n",
              "      }\n",
              "      quickchartButtonEl.classList.remove('colab-df-spinner');\n",
              "      quickchartButtonEl.classList.add('colab-df-quickchart-complete');\n",
              "    }\n",
              "    (() => {\n",
              "      let quickchartButtonEl =\n",
              "        document.querySelector('#df-8286dfd1-4f0e-4e02-8862-aa4f76fd25a9 button');\n",
              "      quickchartButtonEl.style.display =\n",
              "        google.colab.kernel.accessAllowed ? 'block' : 'none';\n",
              "    })();\n",
              "  </script>\n",
              "</div>\n",
              "    </div>\n",
              "  </div>\n"
            ]
          },
          "metadata": {},
          "execution_count": 13
        }
      ]
    },
    {
      "cell_type": "markdown",
      "source": [
        "## **Function call to extract text from all the pdf files**"
      ],
      "metadata": {
        "id": "RMePcTXv596i"
      }
    },
    {
      "cell_type": "code",
      "source": [
        "mod_pdfs = glob.glob('/content/drive/MyDrive/modified_sec_edgar/*.pdf')\n",
        "all_pdf_content = []      # list to get the pdf text content\n",
        "for i in mod_pdfs:\n",
        "  print(i)\n",
        "  converted_image = convert_pdf_to_images(i)\n",
        "  text_with_easy_ocr = extract_text_with_easyocr(converted_image)\n",
        "  all_pdf_content.append(text_with_easy_ocr)"
      ],
      "metadata": {
        "colab": {
          "base_uri": "https://localhost:8080/"
        },
        "id": "sEYXGk0piClV",
        "outputId": "e3ccd384-92a5-4546-81ec-f4cfbbc8e356"
      },
      "execution_count": null,
      "outputs": [
        {
          "output_type": "stream",
          "name": "stdout",
          "text": [
            "/content/drive/MyDrive/modified_sec_edgar/00049397.pdf\n",
            "/content/drive/MyDrive/modified_sec_edgar/00068790.pdf\n",
            "/content/drive/MyDrive/modified_sec_edgar/00092635.pdf\n",
            "/content/drive/MyDrive/modified_sec_edgar/00092782.pdf\n",
            "/content/drive/MyDrive/modified_sec_edgar/00092785.pdf\n",
            "/content/drive/MyDrive/modified_sec_edgar/00092786.pdf\n",
            "/content/drive/MyDrive/modified_sec_edgar/00092787.pdf\n",
            "/content/drive/MyDrive/modified_sec_edgar/00092788.pdf\n",
            "/content/drive/MyDrive/modified_sec_edgar/00092789.pdf\n",
            "/content/drive/MyDrive/modified_sec_edgar/00092791.pdf\n",
            "/content/drive/MyDrive/modified_sec_edgar/00092793.pdf\n",
            "/content/drive/MyDrive/modified_sec_edgar/00092794.pdf\n",
            "/content/drive/MyDrive/modified_sec_edgar/00092795.pdf\n",
            "/content/drive/MyDrive/modified_sec_edgar/00092796.pdf\n",
            "/content/drive/MyDrive/modified_sec_edgar/00092797.pdf\n",
            "/content/drive/MyDrive/modified_sec_edgar/00092798.pdf\n",
            "/content/drive/MyDrive/modified_sec_edgar/00092799.pdf\n",
            "/content/drive/MyDrive/modified_sec_edgar/00092800.pdf\n",
            "/content/drive/MyDrive/modified_sec_edgar/00098683.pdf\n",
            "/content/drive/MyDrive/modified_sec_edgar/00099153.pdf\n",
            "/content/drive/MyDrive/modified_sec_edgar/00099155.pdf\n",
            "/content/drive/MyDrive/modified_sec_edgar/00104242.pdf\n",
            "/content/drive/MyDrive/modified_sec_edgar/00104243.pdf\n",
            "/content/drive/MyDrive/modified_sec_edgar/00104244.pdf\n",
            "/content/drive/MyDrive/modified_sec_edgar/00104245.pdf\n",
            "/content/drive/MyDrive/modified_sec_edgar/00104246.pdf\n",
            "/content/drive/MyDrive/modified_sec_edgar/00104247.pdf\n",
            "/content/drive/MyDrive/modified_sec_edgar/00104249.pdf\n",
            "/content/drive/MyDrive/modified_sec_edgar/00104250.pdf\n",
            "/content/drive/MyDrive/modified_sec_edgar/00104252.pdf\n",
            "/content/drive/MyDrive/modified_sec_edgar/00104253.pdf\n",
            "/content/drive/MyDrive/modified_sec_edgar/00104254.pdf\n",
            "/content/drive/MyDrive/modified_sec_edgar/00104255.pdf\n",
            "/content/drive/MyDrive/modified_sec_edgar/00104256.pdf\n",
            "/content/drive/MyDrive/modified_sec_edgar/00104257.pdf\n",
            "/content/drive/MyDrive/modified_sec_edgar/00104258.pdf\n",
            "/content/drive/MyDrive/modified_sec_edgar/00104259.pdf\n",
            "/content/drive/MyDrive/modified_sec_edgar/00104260.pdf\n",
            "/content/drive/MyDrive/modified_sec_edgar/00104261.pdf\n",
            "/content/drive/MyDrive/modified_sec_edgar/00104262.pdf\n",
            "/content/drive/MyDrive/modified_sec_edgar/00104263.pdf\n",
            "/content/drive/MyDrive/modified_sec_edgar/00104264.pdf\n",
            "/content/drive/MyDrive/modified_sec_edgar/00104265.pdf\n",
            "/content/drive/MyDrive/modified_sec_edgar/00104266.pdf\n",
            "/content/drive/MyDrive/modified_sec_edgar/00104267.pdf\n",
            "/content/drive/MyDrive/modified_sec_edgar/00104268.pdf\n",
            "/content/drive/MyDrive/modified_sec_edgar/00104269.pdf\n",
            "/content/drive/MyDrive/modified_sec_edgar/00104270.pdf\n",
            "/content/drive/MyDrive/modified_sec_edgar/00104271.pdf\n",
            "/content/drive/MyDrive/modified_sec_edgar/00104274.pdf\n",
            "/content/drive/MyDrive/modified_sec_edgar/00104275.pdf\n",
            "/content/drive/MyDrive/modified_sec_edgar/00104276.pdf\n",
            "/content/drive/MyDrive/modified_sec_edgar/00104277.pdf\n",
            "/content/drive/MyDrive/modified_sec_edgar/00104280.pdf\n",
            "/content/drive/MyDrive/modified_sec_edgar/00104283.pdf\n",
            "/content/drive/MyDrive/modified_sec_edgar/00104284.pdf\n",
            "/content/drive/MyDrive/modified_sec_edgar/00104288.pdf\n",
            "/content/drive/MyDrive/modified_sec_edgar/00104289.pdf\n",
            "/content/drive/MyDrive/modified_sec_edgar/00104290.pdf\n",
            "/content/drive/MyDrive/modified_sec_edgar/00104291.pdf\n",
            "/content/drive/MyDrive/modified_sec_edgar/00104292.pdf\n",
            "/content/drive/MyDrive/modified_sec_edgar/00104561.pdf\n",
            "/content/drive/MyDrive/modified_sec_edgar/00104562.pdf\n",
            "/content/drive/MyDrive/modified_sec_edgar/00104563.pdf\n",
            "/content/drive/MyDrive/modified_sec_edgar/00104564.pdf\n",
            "/content/drive/MyDrive/modified_sec_edgar/00104565.pdf\n",
            "/content/drive/MyDrive/modified_sec_edgar/00104566.pdf\n",
            "/content/drive/MyDrive/modified_sec_edgar/00104567.pdf\n",
            "/content/drive/MyDrive/modified_sec_edgar/00104568.pdf\n",
            "/content/drive/MyDrive/modified_sec_edgar/00104569.pdf\n",
            "/content/drive/MyDrive/modified_sec_edgar/00104570.pdf\n",
            "/content/drive/MyDrive/modified_sec_edgar/00104571.pdf\n",
            "/content/drive/MyDrive/modified_sec_edgar/00104572.pdf\n",
            "/content/drive/MyDrive/modified_sec_edgar/00104573.pdf\n",
            "/content/drive/MyDrive/modified_sec_edgar/00104574.pdf\n",
            "/content/drive/MyDrive/modified_sec_edgar/00104575.pdf\n",
            "/content/drive/MyDrive/modified_sec_edgar/00104576.pdf\n",
            "/content/drive/MyDrive/modified_sec_edgar/00104577.pdf\n",
            "/content/drive/MyDrive/modified_sec_edgar/00104578.pdf\n",
            "/content/drive/MyDrive/modified_sec_edgar/00104580.pdf\n",
            "/content/drive/MyDrive/modified_sec_edgar/00104581.pdf\n",
            "/content/drive/MyDrive/modified_sec_edgar/00104585.pdf\n",
            "/content/drive/MyDrive/modified_sec_edgar/00104586.pdf\n",
            "/content/drive/MyDrive/modified_sec_edgar/00104587.pdf\n",
            "/content/drive/MyDrive/modified_sec_edgar/00104588.pdf\n",
            "/content/drive/MyDrive/modified_sec_edgar/00104589.pdf\n",
            "/content/drive/MyDrive/modified_sec_edgar/00104590.pdf\n",
            "/content/drive/MyDrive/modified_sec_edgar/00104591.pdf\n",
            "/content/drive/MyDrive/modified_sec_edgar/00104592.pdf\n",
            "/content/drive/MyDrive/modified_sec_edgar/00104596.pdf\n",
            "/content/drive/MyDrive/modified_sec_edgar/00104597.pdf\n",
            "/content/drive/MyDrive/modified_sec_edgar/00104598.pdf\n",
            "/content/drive/MyDrive/modified_sec_edgar/00104599.pdf\n",
            "/content/drive/MyDrive/modified_sec_edgar/00104600.pdf\n",
            "/content/drive/MyDrive/modified_sec_edgar/00110001.pdf\n",
            "/content/drive/MyDrive/modified_sec_edgar/00110002.pdf\n",
            "/content/drive/MyDrive/modified_sec_edgar/00110003.pdf\n",
            "/content/drive/MyDrive/modified_sec_edgar/00110004.pdf\n",
            "/content/drive/MyDrive/modified_sec_edgar/00110005.pdf\n",
            "/content/drive/MyDrive/modified_sec_edgar/00110007.pdf\n",
            "/content/drive/MyDrive/modified_sec_edgar/00110008.pdf\n",
            "/content/drive/MyDrive/modified_sec_edgar/00110010.pdf\n",
            "/content/drive/MyDrive/modified_sec_edgar/00110011.pdf\n",
            "/content/drive/MyDrive/modified_sec_edgar/00110013.pdf\n",
            "/content/drive/MyDrive/modified_sec_edgar/00110015.pdf\n",
            "/content/drive/MyDrive/modified_sec_edgar/00110016.pdf\n",
            "/content/drive/MyDrive/modified_sec_edgar/00110017.pdf\n",
            "/content/drive/MyDrive/modified_sec_edgar/00110018.pdf\n",
            "/content/drive/MyDrive/modified_sec_edgar/00112001.pdf\n",
            "/content/drive/MyDrive/modified_sec_edgar/00112002.pdf\n",
            "/content/drive/MyDrive/modified_sec_edgar/00112003.pdf\n",
            "/content/drive/MyDrive/modified_sec_edgar/01005459.pdf\n",
            "/content/drive/MyDrive/modified_sec_edgar/01011018.pdf\n",
            "/content/drive/MyDrive/modified_sec_edgar/01011019.pdf\n",
            "/content/drive/MyDrive/modified_sec_edgar/01020160.pdf\n",
            "/content/drive/MyDrive/modified_sec_edgar/01024008.pdf\n",
            "/content/drive/MyDrive/modified_sec_edgar/01026141.pdf\n",
            "/content/drive/MyDrive/modified_sec_edgar/01029501.pdf\n",
            "/content/drive/MyDrive/modified_sec_edgar/01029503.pdf\n",
            "/content/drive/MyDrive/modified_sec_edgar/01029504.pdf\n",
            "/content/drive/MyDrive/modified_sec_edgar/01029508.pdf\n",
            "/content/drive/MyDrive/modified_sec_edgar/01029665.pdf\n",
            "/content/drive/MyDrive/modified_sec_edgar/01029670.pdf\n",
            "/content/drive/MyDrive/modified_sec_edgar/01029688.pdf\n",
            "/content/drive/MyDrive/modified_sec_edgar/01029689.pdf\n",
            "/content/drive/MyDrive/modified_sec_edgar/01029707.pdf\n",
            "/content/drive/MyDrive/modified_sec_edgar/01029837.pdf\n",
            "/content/drive/MyDrive/modified_sec_edgar/01031026.pdf\n",
            "/content/drive/MyDrive/modified_sec_edgar/01031027.pdf\n",
            "/content/drive/MyDrive/modified_sec_edgar/01031028.pdf\n",
            "/content/drive/MyDrive/modified_sec_edgar/01031029.pdf\n",
            "/content/drive/MyDrive/modified_sec_edgar/01036821.pdf\n",
            "/content/drive/MyDrive/modified_sec_edgar/01039578.pdf\n",
            "/content/drive/MyDrive/modified_sec_edgar/01039579.pdf\n",
            "/content/drive/MyDrive/modified_sec_edgar/01039580.pdf\n",
            "/content/drive/MyDrive/modified_sec_edgar/01039581.pdf\n",
            "/content/drive/MyDrive/modified_sec_edgar/01039582.pdf\n",
            "/content/drive/MyDrive/modified_sec_edgar/01039583.pdf\n",
            "/content/drive/MyDrive/modified_sec_edgar/01039584.pdf\n",
            "/content/drive/MyDrive/modified_sec_edgar/01039585.pdf\n",
            "/content/drive/MyDrive/modified_sec_edgar/01039586.pdf\n",
            "/content/drive/MyDrive/modified_sec_edgar/01039587.pdf\n",
            "/content/drive/MyDrive/modified_sec_edgar/01039588.pdf\n",
            "/content/drive/MyDrive/modified_sec_edgar/01039589.pdf\n",
            "/content/drive/MyDrive/modified_sec_edgar/01039590.pdf\n",
            "/content/drive/MyDrive/modified_sec_edgar/01039591.pdf\n",
            "/content/drive/MyDrive/modified_sec_edgar/01039592.pdf\n",
            "/content/drive/MyDrive/modified_sec_edgar/01039593.pdf\n",
            "/content/drive/MyDrive/modified_sec_edgar/01039594.pdf\n",
            "/content/drive/MyDrive/modified_sec_edgar/01039595.pdf\n",
            "/content/drive/MyDrive/modified_sec_edgar/01039596.pdf\n",
            "/content/drive/MyDrive/modified_sec_edgar/01039597.pdf\n",
            "/content/drive/MyDrive/modified_sec_edgar/01039598.pdf\n",
            "/content/drive/MyDrive/modified_sec_edgar/01039599.pdf\n",
            "/content/drive/MyDrive/modified_sec_edgar/01039600.pdf\n",
            "/content/drive/MyDrive/modified_sec_edgar/01046096.pdf\n",
            "/content/drive/MyDrive/modified_sec_edgar/01051158.pdf\n",
            "/content/drive/MyDrive/modified_sec_edgar/01051168.pdf\n",
            "/content/drive/MyDrive/modified_sec_edgar/01051170.pdf\n",
            "/content/drive/MyDrive/modified_sec_edgar/01051171.pdf\n",
            "/content/drive/MyDrive/modified_sec_edgar/01051172.pdf\n",
            "/content/drive/MyDrive/modified_sec_edgar/01051173.pdf\n",
            "/content/drive/MyDrive/modified_sec_edgar/01051174.pdf\n",
            "/content/drive/MyDrive/modified_sec_edgar/01051175.pdf\n",
            "/content/drive/MyDrive/modified_sec_edgar/01051176.pdf\n",
            "/content/drive/MyDrive/modified_sec_edgar/01051177.pdf\n",
            "/content/drive/MyDrive/modified_sec_edgar/01051178.pdf\n",
            "/content/drive/MyDrive/modified_sec_edgar/01051180.pdf\n",
            "/content/drive/MyDrive/modified_sec_edgar/01051181.pdf\n",
            "/content/drive/MyDrive/modified_sec_edgar/01051182.pdf\n",
            "/content/drive/MyDrive/modified_sec_edgar/01051183.pdf\n",
            "/content/drive/MyDrive/modified_sec_edgar/01051184.pdf\n",
            "/content/drive/MyDrive/modified_sec_edgar/01051186.pdf\n",
            "/content/drive/MyDrive/modified_sec_edgar/01051187.pdf\n",
            "/content/drive/MyDrive/modified_sec_edgar/01053783.pdf\n",
            "/content/drive/MyDrive/modified_sec_edgar/01053784.pdf\n",
            "/content/drive/MyDrive/modified_sec_edgar/01057240.pdf\n",
            "/content/drive/MyDrive/modified_sec_edgar/01057806.pdf\n",
            "/content/drive/MyDrive/modified_sec_edgar/01057865.pdf\n",
            "/content/drive/MyDrive/modified_sec_edgar/01057890.pdf\n",
            "/content/drive/MyDrive/modified_sec_edgar/01066271.pdf\n",
            "/content/drive/MyDrive/modified_sec_edgar/01066273.pdf\n",
            "/content/drive/MyDrive/modified_sec_edgar/01066274.pdf\n",
            "/content/drive/MyDrive/modified_sec_edgar/01066872.pdf\n",
            "/content/drive/MyDrive/modified_sec_edgar/01067088.pdf\n",
            "/content/drive/MyDrive/modified_sec_edgar/01068122.pdf\n",
            "/content/drive/MyDrive/modified_sec_edgar/01070419.pdf\n",
            "/content/drive/MyDrive/modified_sec_edgar/01071401.pdf\n",
            "/content/drive/MyDrive/modified_sec_edgar/01071676.pdf\n",
            "/content/drive/MyDrive/modified_sec_edgar/01071678.pdf\n",
            "/content/drive/MyDrive/modified_sec_edgar/01071680.pdf\n",
            "/content/drive/MyDrive/modified_sec_edgar/01071683.pdf\n",
            "/content/drive/MyDrive/modified_sec_edgar/01071684.pdf\n",
            "/content/drive/MyDrive/modified_sec_edgar/01071686.pdf\n",
            "/content/drive/MyDrive/modified_sec_edgar/01071688.pdf\n",
            "/content/drive/MyDrive/modified_sec_edgar/01071689.pdf\n",
            "/content/drive/MyDrive/modified_sec_edgar/01071693.pdf\n",
            "/content/drive/MyDrive/modified_sec_edgar/01071695.pdf\n",
            "/content/drive/MyDrive/modified_sec_edgar/01071697.pdf\n",
            "/content/drive/MyDrive/modified_sec_edgar/01073663.pdf\n",
            "/content/drive/MyDrive/modified_sec_edgar/01073664.pdf\n",
            "/content/drive/MyDrive/modified_sec_edgar/01074664.pdf\n",
            "/content/drive/MyDrive/modified_sec_edgar/01074667.pdf\n",
            "/content/drive/MyDrive/modified_sec_edgar/01074669.pdf\n",
            "/content/drive/MyDrive/modified_sec_edgar/01074671.pdf\n",
            "/content/drive/MyDrive/modified_sec_edgar/01074672.pdf\n",
            "/content/drive/MyDrive/modified_sec_edgar/01074674.pdf\n",
            "/content/drive/MyDrive/modified_sec_edgar/01074844.pdf\n",
            "/content/drive/MyDrive/modified_sec_edgar/01074845.pdf\n",
            "/content/drive/MyDrive/modified_sec_edgar/01074846.pdf\n",
            "/content/drive/MyDrive/modified_sec_edgar/01074847.pdf\n",
            "/content/drive/MyDrive/modified_sec_edgar/01074848.pdf\n",
            "/content/drive/MyDrive/modified_sec_edgar/01074849.pdf\n",
            "/content/drive/MyDrive/modified_sec_edgar/01074850.pdf\n",
            "/content/drive/MyDrive/modified_sec_edgar/01074854.pdf\n",
            "/content/drive/MyDrive/modified_sec_edgar/01074856.pdf\n",
            "/content/drive/MyDrive/modified_sec_edgar/01074860.pdf\n",
            "/content/drive/MyDrive/modified_sec_edgar/01074865.pdf\n",
            "/content/drive/MyDrive/modified_sec_edgar/01074867.pdf\n",
            "/content/drive/MyDrive/modified_sec_edgar/01074868.pdf\n",
            "/content/drive/MyDrive/modified_sec_edgar/01074870.pdf\n",
            "/content/drive/MyDrive/modified_sec_edgar/01074872.pdf\n",
            "/content/drive/MyDrive/modified_sec_edgar/01074875.pdf\n",
            "/content/drive/MyDrive/modified_sec_edgar/01074879.pdf\n",
            "/content/drive/MyDrive/modified_sec_edgar/01074941.pdf\n",
            "/content/drive/MyDrive/modified_sec_edgar/01074942.pdf\n",
            "/content/drive/MyDrive/modified_sec_edgar/01074943.pdf\n",
            "/content/drive/MyDrive/modified_sec_edgar/01074949.pdf\n",
            "/content/drive/MyDrive/modified_sec_edgar/01074950.pdf\n",
            "/content/drive/MyDrive/modified_sec_edgar/01074953.pdf\n",
            "/content/drive/MyDrive/modified_sec_edgar/01074955.pdf\n",
            "/content/drive/MyDrive/modified_sec_edgar/01074957.pdf\n",
            "/content/drive/MyDrive/modified_sec_edgar/01074959.pdf\n",
            "/content/drive/MyDrive/modified_sec_edgar/01074966.pdf\n",
            "/content/drive/MyDrive/modified_sec_edgar/01074967.pdf\n",
            "/content/drive/MyDrive/modified_sec_edgar/01074968.pdf\n",
            "/content/drive/MyDrive/modified_sec_edgar/01074971.pdf\n",
            "/content/drive/MyDrive/modified_sec_edgar/01074973.pdf\n",
            "/content/drive/MyDrive/modified_sec_edgar/01074974.pdf\n",
            "/content/drive/MyDrive/modified_sec_edgar/01074975.pdf\n",
            "/content/drive/MyDrive/modified_sec_edgar/01074976.pdf\n",
            "/content/drive/MyDrive/modified_sec_edgar/01074977.pdf\n",
            "/content/drive/MyDrive/modified_sec_edgar/01074978.pdf\n",
            "/content/drive/MyDrive/modified_sec_edgar/01074979.pdf\n",
            "/content/drive/MyDrive/modified_sec_edgar/01074980.pdf\n",
            "/content/drive/MyDrive/modified_sec_edgar/01074981.pdf\n",
            "/content/drive/MyDrive/modified_sec_edgar/01074983.pdf\n",
            "/content/drive/MyDrive/modified_sec_edgar/01074984.pdf\n",
            "/content/drive/MyDrive/modified_sec_edgar/01074987.pdf\n",
            "/content/drive/MyDrive/modified_sec_edgar/01074988.pdf\n",
            "/content/drive/MyDrive/modified_sec_edgar/01074990.pdf\n",
            "/content/drive/MyDrive/modified_sec_edgar/01074994.pdf\n",
            "/content/drive/MyDrive/modified_sec_edgar/01074995.pdf\n",
            "/content/drive/MyDrive/modified_sec_edgar/01074999.pdf\n",
            "/content/drive/MyDrive/modified_sec_edgar/01082000.pdf\n",
            "/content/drive/MyDrive/modified_sec_edgar/01082001.pdf\n",
            "/content/drive/MyDrive/modified_sec_edgar/01082002.pdf\n",
            "/content/drive/MyDrive/modified_sec_edgar/01082003.pdf\n",
            "/content/drive/MyDrive/modified_sec_edgar/01082004.pdf\n",
            "/content/drive/MyDrive/modified_sec_edgar/01082005.pdf\n",
            "/content/drive/MyDrive/modified_sec_edgar/01082006.pdf\n",
            "/content/drive/MyDrive/modified_sec_edgar/01082007.pdf\n",
            "/content/drive/MyDrive/modified_sec_edgar/01082014.pdf\n",
            "/content/drive/MyDrive/modified_sec_edgar/01082016.pdf\n",
            "/content/drive/MyDrive/modified_sec_edgar/01082018.pdf\n",
            "/content/drive/MyDrive/modified_sec_edgar/01082019.pdf\n",
            "/content/drive/MyDrive/modified_sec_edgar/01082020.pdf\n",
            "/content/drive/MyDrive/modified_sec_edgar/01082021.pdf\n",
            "/content/drive/MyDrive/modified_sec_edgar/01082022.pdf\n",
            "/content/drive/MyDrive/modified_sec_edgar/01082023.pdf\n",
            "/content/drive/MyDrive/modified_sec_edgar/01082024.pdf\n",
            "/content/drive/MyDrive/modified_sec_edgar/01082025.pdf\n",
            "/content/drive/MyDrive/modified_sec_edgar/01082026.pdf\n",
            "/content/drive/MyDrive/modified_sec_edgar/01082027.pdf\n",
            "/content/drive/MyDrive/modified_sec_edgar/01082028.pdf\n",
            "/content/drive/MyDrive/modified_sec_edgar/01082030.pdf\n",
            "/content/drive/MyDrive/modified_sec_edgar/01082031.pdf\n",
            "/content/drive/MyDrive/modified_sec_edgar/01082033.pdf\n",
            "/content/drive/MyDrive/modified_sec_edgar/01082035.pdf\n",
            "/content/drive/MyDrive/modified_sec_edgar/01082036.pdf\n",
            "/content/drive/MyDrive/modified_sec_edgar/01082037.pdf\n",
            "/content/drive/MyDrive/modified_sec_edgar/01082038.pdf\n",
            "/content/drive/MyDrive/modified_sec_edgar/01082040.pdf\n",
            "/content/drive/MyDrive/modified_sec_edgar/01082041.pdf\n",
            "/content/drive/MyDrive/modified_sec_edgar/01082047.pdf\n",
            "/content/drive/MyDrive/modified_sec_edgar/01082048.pdf\n",
            "/content/drive/MyDrive/modified_sec_edgar/01082050.pdf\n",
            "/content/drive/MyDrive/modified_sec_edgar/01082051.pdf\n",
            "/content/drive/MyDrive/modified_sec_edgar/01082053.pdf\n",
            "/content/drive/MyDrive/modified_sec_edgar/01082054.pdf\n",
            "/content/drive/MyDrive/modified_sec_edgar/01082055.pdf\n",
            "/content/drive/MyDrive/modified_sec_edgar/01082098.pdf\n",
            "/content/drive/MyDrive/modified_sec_edgar/01082101.pdf\n",
            "/content/drive/MyDrive/modified_sec_edgar/01082102.pdf\n",
            "/content/drive/MyDrive/modified_sec_edgar/01082103.pdf\n",
            "/content/drive/MyDrive/modified_sec_edgar/01082104.pdf\n",
            "/content/drive/MyDrive/modified_sec_edgar/01082105.pdf\n",
            "/content/drive/MyDrive/modified_sec_edgar/01082106.pdf\n",
            "/content/drive/MyDrive/modified_sec_edgar/01082107.pdf\n",
            "/content/drive/MyDrive/modified_sec_edgar/01082108.pdf\n",
            "/content/drive/MyDrive/modified_sec_edgar/01082109.pdf\n",
            "/content/drive/MyDrive/modified_sec_edgar/01082110.pdf\n",
            "/content/drive/MyDrive/modified_sec_edgar/01082111.pdf\n",
            "/content/drive/MyDrive/modified_sec_edgar/01082112.pdf\n"
          ]
        }
      ]
    },
    {
      "cell_type": "code",
      "source": [
        "df['text_content'] = all_pdf_content       # Dataframe with all the values populated\n",
        "df"
      ],
      "metadata": {
        "colab": {
          "base_uri": "https://localhost:8080/",
          "height": 423
        },
        "id": "jlXp0jospe1o",
        "outputId": "00a4e7b3-1a4b-40f2-9c3b-67eb2646d545"
      },
      "execution_count": null,
      "outputs": [
        {
          "output_type": "execute_result",
          "data": {
            "text/plain": [
              "     Unnamed: 0      filename    formtype  \\\n",
              "0             0  00049397.pdf      Form D   \n",
              "1             1  00068790.pdf      Form D   \n",
              "2             2  00092635.pdf      Form D   \n",
              "3             3  00092782.pdf    Form 13F   \n",
              "4             4  00092785.pdf      Form D   \n",
              "..          ...           ...         ...   \n",
              "299         299  01082108.pdf  Form 19B-4   \n",
              "300         300  01082109.pdf    Form 13F   \n",
              "301         301  01082110.pdf    Form 13F   \n",
              "302         302  01082111.pdf    Form 13F   \n",
              "303         303  01082112.pdf    Form 13F   \n",
              "\n",
              "                                          text_content  label  \n",
              "0    R1F-[0925-70\\nFORM D\\nUNITED STATES\\nOMB Appro...    0.0  \n",
              "1    FORM D\\nOMB APPROVAL\\nUNITED STATES\\nOMB Numbe...    0.0  \n",
              "2    FORM D\\nUNITED STATES\\nOMB APPROVAL\\nSECURITIE...    0.0  \n",
              "3    Rer\\nJ4C\\nUNITED  STATES\\n00 09 2782\\nSECURITI...    1.0  \n",
              "4    3\\nTC71278 3\\nFORM D\\nOMB APPROVAL\\nOMB Numbar...    0.0  \n",
              "..                                                 ...    ...  \n",
              "299  7(-uo\\n[oc Fis383g1z8.\\nSubioit [\\nPniginal\\nO...    6.0  \n",
              "300  b0MH\\n23;\\np\\nbMENovE-APPROVAIS\\n30\\n5\\n4\\nExp...    1.0  \n",
              "301  44 6oX\\n117\\n1vi LUUI\\n1V;uJ\\nrAA\\nP4\\nAltn Gu...    1.0  \n",
              "302  Tts doament % submitted 48 CONHDENTLAL Excmpti...    1.0  \n",
              "303  Ts doamcat % abmittcd as CQNHDENTLAL Excmption...    1.0  \n",
              "\n",
              "[304 rows x 5 columns]"
            ],
            "text/html": [
              "\n",
              "  <div id=\"df-01d247e5-164c-4d14-87b1-cc07dda357a3\" class=\"colab-df-container\">\n",
              "    <div>\n",
              "<style scoped>\n",
              "    .dataframe tbody tr th:only-of-type {\n",
              "        vertical-align: middle;\n",
              "    }\n",
              "\n",
              "    .dataframe tbody tr th {\n",
              "        vertical-align: top;\n",
              "    }\n",
              "\n",
              "    .dataframe thead th {\n",
              "        text-align: right;\n",
              "    }\n",
              "</style>\n",
              "<table border=\"1\" class=\"dataframe\">\n",
              "  <thead>\n",
              "    <tr style=\"text-align: right;\">\n",
              "      <th></th>\n",
              "      <th>Unnamed: 0</th>\n",
              "      <th>filename</th>\n",
              "      <th>formtype</th>\n",
              "      <th>text_content</th>\n",
              "      <th>label</th>\n",
              "    </tr>\n",
              "  </thead>\n",
              "  <tbody>\n",
              "    <tr>\n",
              "      <th>0</th>\n",
              "      <td>0</td>\n",
              "      <td>00049397.pdf</td>\n",
              "      <td>Form D</td>\n",
              "      <td>R1F-[0925-70\\nFORM D\\nUNITED STATES\\nOMB Appro...</td>\n",
              "      <td>0.0</td>\n",
              "    </tr>\n",
              "    <tr>\n",
              "      <th>1</th>\n",
              "      <td>1</td>\n",
              "      <td>00068790.pdf</td>\n",
              "      <td>Form D</td>\n",
              "      <td>FORM D\\nOMB APPROVAL\\nUNITED STATES\\nOMB Numbe...</td>\n",
              "      <td>0.0</td>\n",
              "    </tr>\n",
              "    <tr>\n",
              "      <th>2</th>\n",
              "      <td>2</td>\n",
              "      <td>00092635.pdf</td>\n",
              "      <td>Form D</td>\n",
              "      <td>FORM D\\nUNITED STATES\\nOMB APPROVAL\\nSECURITIE...</td>\n",
              "      <td>0.0</td>\n",
              "    </tr>\n",
              "    <tr>\n",
              "      <th>3</th>\n",
              "      <td>3</td>\n",
              "      <td>00092782.pdf</td>\n",
              "      <td>Form 13F</td>\n",
              "      <td>Rer\\nJ4C\\nUNITED  STATES\\n00 09 2782\\nSECURITI...</td>\n",
              "      <td>1.0</td>\n",
              "    </tr>\n",
              "    <tr>\n",
              "      <th>4</th>\n",
              "      <td>4</td>\n",
              "      <td>00092785.pdf</td>\n",
              "      <td>Form D</td>\n",
              "      <td>3\\nTC71278 3\\nFORM D\\nOMB APPROVAL\\nOMB Numbar...</td>\n",
              "      <td>0.0</td>\n",
              "    </tr>\n",
              "    <tr>\n",
              "      <th>...</th>\n",
              "      <td>...</td>\n",
              "      <td>...</td>\n",
              "      <td>...</td>\n",
              "      <td>...</td>\n",
              "      <td>...</td>\n",
              "    </tr>\n",
              "    <tr>\n",
              "      <th>299</th>\n",
              "      <td>299</td>\n",
              "      <td>01082108.pdf</td>\n",
              "      <td>Form 19B-4</td>\n",
              "      <td>7(-uo\\n[oc Fis383g1z8.\\nSubioit [\\nPniginal\\nO...</td>\n",
              "      <td>6.0</td>\n",
              "    </tr>\n",
              "    <tr>\n",
              "      <th>300</th>\n",
              "      <td>300</td>\n",
              "      <td>01082109.pdf</td>\n",
              "      <td>Form 13F</td>\n",
              "      <td>b0MH\\n23;\\np\\nbMENovE-APPROVAIS\\n30\\n5\\n4\\nExp...</td>\n",
              "      <td>1.0</td>\n",
              "    </tr>\n",
              "    <tr>\n",
              "      <th>301</th>\n",
              "      <td>301</td>\n",
              "      <td>01082110.pdf</td>\n",
              "      <td>Form 13F</td>\n",
              "      <td>44 6oX\\n117\\n1vi LUUI\\n1V;uJ\\nrAA\\nP4\\nAltn Gu...</td>\n",
              "      <td>1.0</td>\n",
              "    </tr>\n",
              "    <tr>\n",
              "      <th>302</th>\n",
              "      <td>302</td>\n",
              "      <td>01082111.pdf</td>\n",
              "      <td>Form 13F</td>\n",
              "      <td>Tts doament % submitted 48 CONHDENTLAL Excmpti...</td>\n",
              "      <td>1.0</td>\n",
              "    </tr>\n",
              "    <tr>\n",
              "      <th>303</th>\n",
              "      <td>303</td>\n",
              "      <td>01082112.pdf</td>\n",
              "      <td>Form 13F</td>\n",
              "      <td>Ts doamcat % abmittcd as CQNHDENTLAL Excmption...</td>\n",
              "      <td>1.0</td>\n",
              "    </tr>\n",
              "  </tbody>\n",
              "</table>\n",
              "<p>304 rows × 5 columns</p>\n",
              "</div>\n",
              "    <div class=\"colab-df-buttons\">\n",
              "\n",
              "  <div class=\"colab-df-container\">\n",
              "    <button class=\"colab-df-convert\" onclick=\"convertToInteractive('df-01d247e5-164c-4d14-87b1-cc07dda357a3')\"\n",
              "            title=\"Convert this dataframe to an interactive table.\"\n",
              "            style=\"display:none;\">\n",
              "\n",
              "  <svg xmlns=\"http://www.w3.org/2000/svg\" height=\"24px\" viewBox=\"0 -960 960 960\">\n",
              "    <path d=\"M120-120v-720h720v720H120Zm60-500h600v-160H180v160Zm220 220h160v-160H400v160Zm0 220h160v-160H400v160ZM180-400h160v-160H180v160Zm440 0h160v-160H620v160ZM180-180h160v-160H180v160Zm440 0h160v-160H620v160Z\"/>\n",
              "  </svg>\n",
              "    </button>\n",
              "\n",
              "  <style>\n",
              "    .colab-df-container {\n",
              "      display:flex;\n",
              "      gap: 12px;\n",
              "    }\n",
              "\n",
              "    .colab-df-convert {\n",
              "      background-color: #E8F0FE;\n",
              "      border: none;\n",
              "      border-radius: 50%;\n",
              "      cursor: pointer;\n",
              "      display: none;\n",
              "      fill: #1967D2;\n",
              "      height: 32px;\n",
              "      padding: 0 0 0 0;\n",
              "      width: 32px;\n",
              "    }\n",
              "\n",
              "    .colab-df-convert:hover {\n",
              "      background-color: #E2EBFA;\n",
              "      box-shadow: 0px 1px 2px rgba(60, 64, 67, 0.3), 0px 1px 3px 1px rgba(60, 64, 67, 0.15);\n",
              "      fill: #174EA6;\n",
              "    }\n",
              "\n",
              "    .colab-df-buttons div {\n",
              "      margin-bottom: 4px;\n",
              "    }\n",
              "\n",
              "    [theme=dark] .colab-df-convert {\n",
              "      background-color: #3B4455;\n",
              "      fill: #D2E3FC;\n",
              "    }\n",
              "\n",
              "    [theme=dark] .colab-df-convert:hover {\n",
              "      background-color: #434B5C;\n",
              "      box-shadow: 0px 1px 3px 1px rgba(0, 0, 0, 0.15);\n",
              "      filter: drop-shadow(0px 1px 2px rgba(0, 0, 0, 0.3));\n",
              "      fill: #FFFFFF;\n",
              "    }\n",
              "  </style>\n",
              "\n",
              "    <script>\n",
              "      const buttonEl =\n",
              "        document.querySelector('#df-01d247e5-164c-4d14-87b1-cc07dda357a3 button.colab-df-convert');\n",
              "      buttonEl.style.display =\n",
              "        google.colab.kernel.accessAllowed ? 'block' : 'none';\n",
              "\n",
              "      async function convertToInteractive(key) {\n",
              "        const element = document.querySelector('#df-01d247e5-164c-4d14-87b1-cc07dda357a3');\n",
              "        const dataTable =\n",
              "          await google.colab.kernel.invokeFunction('convertToInteractive',\n",
              "                                                    [key], {});\n",
              "        if (!dataTable) return;\n",
              "\n",
              "        const docLinkHtml = 'Like what you see? Visit the ' +\n",
              "          '<a target=\"_blank\" href=https://colab.research.google.com/notebooks/data_table.ipynb>data table notebook</a>'\n",
              "          + ' to learn more about interactive tables.';\n",
              "        element.innerHTML = '';\n",
              "        dataTable['output_type'] = 'display_data';\n",
              "        await google.colab.output.renderOutput(dataTable, element);\n",
              "        const docLink = document.createElement('div');\n",
              "        docLink.innerHTML = docLinkHtml;\n",
              "        element.appendChild(docLink);\n",
              "      }\n",
              "    </script>\n",
              "  </div>\n",
              "\n",
              "\n",
              "<div id=\"df-4a599be0-2abb-4a72-b3ac-5d2227d5414e\">\n",
              "  <button class=\"colab-df-quickchart\" onclick=\"quickchart('df-4a599be0-2abb-4a72-b3ac-5d2227d5414e')\"\n",
              "            title=\"Suggest charts.\"\n",
              "            style=\"display:none;\">\n",
              "\n",
              "<svg xmlns=\"http://www.w3.org/2000/svg\" height=\"24px\"viewBox=\"0 0 24 24\"\n",
              "     width=\"24px\">\n",
              "    <g>\n",
              "        <path d=\"M19 3H5c-1.1 0-2 .9-2 2v14c0 1.1.9 2 2 2h14c1.1 0 2-.9 2-2V5c0-1.1-.9-2-2-2zM9 17H7v-7h2v7zm4 0h-2V7h2v10zm4 0h-2v-4h2v4z\"/>\n",
              "    </g>\n",
              "</svg>\n",
              "  </button>\n",
              "\n",
              "<style>\n",
              "  .colab-df-quickchart {\n",
              "      --bg-color: #E8F0FE;\n",
              "      --fill-color: #1967D2;\n",
              "      --hover-bg-color: #E2EBFA;\n",
              "      --hover-fill-color: #174EA6;\n",
              "      --disabled-fill-color: #AAA;\n",
              "      --disabled-bg-color: #DDD;\n",
              "  }\n",
              "\n",
              "  [theme=dark] .colab-df-quickchart {\n",
              "      --bg-color: #3B4455;\n",
              "      --fill-color: #D2E3FC;\n",
              "      --hover-bg-color: #434B5C;\n",
              "      --hover-fill-color: #FFFFFF;\n",
              "      --disabled-bg-color: #3B4455;\n",
              "      --disabled-fill-color: #666;\n",
              "  }\n",
              "\n",
              "  .colab-df-quickchart {\n",
              "    background-color: var(--bg-color);\n",
              "    border: none;\n",
              "    border-radius: 50%;\n",
              "    cursor: pointer;\n",
              "    display: none;\n",
              "    fill: var(--fill-color);\n",
              "    height: 32px;\n",
              "    padding: 0;\n",
              "    width: 32px;\n",
              "  }\n",
              "\n",
              "  .colab-df-quickchart:hover {\n",
              "    background-color: var(--hover-bg-color);\n",
              "    box-shadow: 0 1px 2px rgba(60, 64, 67, 0.3), 0 1px 3px 1px rgba(60, 64, 67, 0.15);\n",
              "    fill: var(--button-hover-fill-color);\n",
              "  }\n",
              "\n",
              "  .colab-df-quickchart-complete:disabled,\n",
              "  .colab-df-quickchart-complete:disabled:hover {\n",
              "    background-color: var(--disabled-bg-color);\n",
              "    fill: var(--disabled-fill-color);\n",
              "    box-shadow: none;\n",
              "  }\n",
              "\n",
              "  .colab-df-spinner {\n",
              "    border: 2px solid var(--fill-color);\n",
              "    border-color: transparent;\n",
              "    border-bottom-color: var(--fill-color);\n",
              "    animation:\n",
              "      spin 1s steps(1) infinite;\n",
              "  }\n",
              "\n",
              "  @keyframes spin {\n",
              "    0% {\n",
              "      border-color: transparent;\n",
              "      border-bottom-color: var(--fill-color);\n",
              "      border-left-color: var(--fill-color);\n",
              "    }\n",
              "    20% {\n",
              "      border-color: transparent;\n",
              "      border-left-color: var(--fill-color);\n",
              "      border-top-color: var(--fill-color);\n",
              "    }\n",
              "    30% {\n",
              "      border-color: transparent;\n",
              "      border-left-color: var(--fill-color);\n",
              "      border-top-color: var(--fill-color);\n",
              "      border-right-color: var(--fill-color);\n",
              "    }\n",
              "    40% {\n",
              "      border-color: transparent;\n",
              "      border-right-color: var(--fill-color);\n",
              "      border-top-color: var(--fill-color);\n",
              "    }\n",
              "    60% {\n",
              "      border-color: transparent;\n",
              "      border-right-color: var(--fill-color);\n",
              "    }\n",
              "    80% {\n",
              "      border-color: transparent;\n",
              "      border-right-color: var(--fill-color);\n",
              "      border-bottom-color: var(--fill-color);\n",
              "    }\n",
              "    90% {\n",
              "      border-color: transparent;\n",
              "      border-bottom-color: var(--fill-color);\n",
              "    }\n",
              "  }\n",
              "</style>\n",
              "\n",
              "  <script>\n",
              "    async function quickchart(key) {\n",
              "      const quickchartButtonEl =\n",
              "        document.querySelector('#' + key + ' button');\n",
              "      quickchartButtonEl.disabled = true;  // To prevent multiple clicks.\n",
              "      quickchartButtonEl.classList.add('colab-df-spinner');\n",
              "      try {\n",
              "        const charts = await google.colab.kernel.invokeFunction(\n",
              "            'suggestCharts', [key], {});\n",
              "      } catch (error) {\n",
              "        console.error('Error during call to suggestCharts:', error);\n",
              "      }\n",
              "      quickchartButtonEl.classList.remove('colab-df-spinner');\n",
              "      quickchartButtonEl.classList.add('colab-df-quickchart-complete');\n",
              "    }\n",
              "    (() => {\n",
              "      let quickchartButtonEl =\n",
              "        document.querySelector('#df-4a599be0-2abb-4a72-b3ac-5d2227d5414e button');\n",
              "      quickchartButtonEl.style.display =\n",
              "        google.colab.kernel.accessAllowed ? 'block' : 'none';\n",
              "    })();\n",
              "  </script>\n",
              "</div>\n",
              "    </div>\n",
              "  </div>\n"
            ]
          },
          "metadata": {},
          "execution_count": 21
        }
      ]
    },
    {
      "cell_type": "code",
      "source": [
        "df.to_csv('Final NLP dataset.csv')"
      ],
      "metadata": {
        "id": "B8odm1vJpxdL"
      },
      "execution_count": null,
      "outputs": []
    },
    {
      "cell_type": "code",
      "source": [
        "df = pd.read_csv('/content/drive/MyDrive/SEC NLP Assignment.csv')"
      ],
      "metadata": {
        "id": "dgM_sd9BqH_T"
      },
      "execution_count": 5,
      "outputs": []
    },
    {
      "cell_type": "markdown",
      "source": [
        "## **Exploratory Data Analysis (EDA)**"
      ],
      "metadata": {
        "id": "iNB0cDtpGgrv"
      }
    },
    {
      "cell_type": "code",
      "source": [
        "df['formtype'].value_counts()"
      ],
      "metadata": {
        "colab": {
          "base_uri": "https://localhost:8080/"
        },
        "id": "VSgSm0q9qIBt",
        "outputId": "f9bd2c6d-a7e7-4a1c-949f-8f518ddf1b87"
      },
      "execution_count": 6,
      "outputs": [
        {
          "output_type": "execute_result",
          "data": {
            "text/plain": [
              "Form 13F        197\n",
              "Form D           41\n",
              "Other            40\n",
              "Form X-17A-5     11\n",
              "Form TA-2         6\n",
              "Form 19B-4        6\n",
              "Form 6-K          2\n",
              "Form 11-K         1\n",
              "Name: formtype, dtype: int64"
            ]
          },
          "metadata": {},
          "execution_count": 6
        }
      ]
    },
    {
      "cell_type": "code",
      "source": [
        "df.shape"
      ],
      "metadata": {
        "colab": {
          "base_uri": "https://localhost:8080/"
        },
        "id": "5bM6aj3DM6Vs",
        "outputId": "3d8134b5-d8dd-4545-9f35-1a38afc76395"
      },
      "execution_count": 7,
      "outputs": [
        {
          "output_type": "execute_result",
          "data": {
            "text/plain": [
              "(304, 5)"
            ]
          },
          "metadata": {},
          "execution_count": 7
        }
      ]
    },
    {
      "cell_type": "code",
      "source": [
        "ax = df['formtype'].value_counts().plot(kind = 'barh', title = 'Formtype count')\n",
        "ax.set_xlabel('Count')\n",
        "ax.set_ylabel('Formtype')"
      ],
      "metadata": {
        "colab": {
          "base_uri": "https://localhost:8080/",
          "height": 489
        },
        "id": "CSb_eNHnM6ZE",
        "outputId": "5c57b445-ffc9-4956-c1d4-9725bbd21bf5"
      },
      "execution_count": 8,
      "outputs": [
        {
          "output_type": "execute_result",
          "data": {
            "text/plain": [
              "Text(0, 0.5, 'Formtype')"
            ]
          },
          "metadata": {},
          "execution_count": 8
        },
        {
          "output_type": "display_data",
          "data": {
            "text/plain": [
              "<Figure size 640x480 with 1 Axes>"
            ],
            "image/png": "[encoded data removed]"
          },
          "metadata": {}
        }
      ]
    },
    {
      "cell_type": "code",
      "source": [
        "df.groupby('formtype').describe()"
      ],
      "metadata": {
        "colab": {
          "base_uri": "https://localhost:8080/",
          "height": 469
        },
        "id": "vO08LEbJOp7a",
        "outputId": "71cae724-0f9c-4d19-bd58-829dad20d450"
      },
      "execution_count": 9,
      "outputs": [
        {
          "output_type": "execute_result",
          "data": {
            "text/plain": [
              "             Unnamed: 0                                                       \\\n",
              "                  count        mean        std    min     25%    50%     75%   \n",
              "formtype                                                                       \n",
              "Form 11-K           1.0  183.000000        NaN  183.0  183.00  183.0  183.00   \n",
              "Form 13F          197.0  146.984772  93.381076    3.0   64.00  139.0  241.00   \n",
              "Form 19B-4          6.0  296.500000   1.870829  294.0  295.25  296.5  297.75   \n",
              "Form 6-K            2.0  115.500000   0.707107  115.0  115.25  115.5  115.75   \n",
              "Form D             41.0  139.390244  99.240586    0.0   52.00  176.0  202.00   \n",
              "Form TA-2           6.0  120.500000   3.391165  117.0  118.25  119.5  122.25   \n",
              "Form X-17A-5       11.0  122.272727   6.574054  112.0  117.50  124.0  127.50   \n",
              "Other              40.0  178.100000  37.338232   20.0  162.75  172.5  187.75   \n",
              "\n",
              "                     label                                     \n",
              "                max  count mean  std  min  25%  50%  75%  max  \n",
              "formtype                                                       \n",
              "Form 11-K     183.0    1.0  5.0  NaN  5.0  5.0  5.0  5.0  5.0  \n",
              "Form 13F      303.0  197.0  1.0  0.0  1.0  1.0  1.0  1.0  1.0  \n",
              "Form 19B-4    299.0    6.0  6.0  0.0  6.0  6.0  6.0  6.0  6.0  \n",
              "Form 6-K      116.0    2.0  4.0  0.0  4.0  4.0  4.0  4.0  4.0  \n",
              "Form D        293.0   41.0  0.0  0.0  0.0  0.0  0.0  0.0  0.0  \n",
              "Form TA-2     126.0    6.0  3.0  0.0  3.0  3.0  3.0  3.0  3.0  \n",
              "Form X-17A-5  130.0   11.0  2.0  0.0  2.0  2.0  2.0  2.0  2.0  \n",
              "Other         232.0   40.0  7.0  0.0  7.0  7.0  7.0  7.0  7.0  "
            ],
            "text/html": [
              "\n",
              "  <div id=\"df-df464eb1-d2dd-413c-bccc-0854507f797f\" class=\"colab-df-container\">\n",
              "    <div>\n",
              "<style scoped>\n",
              "    .dataframe tbody tr th:only-of-type {\n",
              "        vertical-align: middle;\n",
              "    }\n",
              "\n",
              "    .dataframe tbody tr th {\n",
              "        vertical-align: top;\n",
              "    }\n",
              "\n",
              "    .dataframe thead tr th {\n",
              "        text-align: left;\n",
              "    }\n",
              "\n",
              "    .dataframe thead tr:last-of-type th {\n",
              "        text-align: right;\n",
              "    }\n",
              "</style>\n",
              "<table border=\"1\" class=\"dataframe\">\n",
              "  <thead>\n",
              "    <tr>\n",
              "      <th></th>\n",
              "      <th colspan=\"8\" halign=\"left\">Unnamed: 0</th>\n",
              "      <th colspan=\"8\" halign=\"left\">label</th>\n",
              "    </tr>\n",
              "    <tr>\n",
              "      <th></th>\n",
              "      <th>count</th>\n",
              "      <th>mean</th>\n",
              "      <th>std</th>\n",
              "      <th>min</th>\n",
              "      <th>25%</th>\n",
              "      <th>50%</th>\n",
              "      <th>75%</th>\n",
              "      <th>max</th>\n",
              "      <th>count</th>\n",
              "      <th>mean</th>\n",
              "      <th>std</th>\n",
              "      <th>min</th>\n",
              "      <th>25%</th>\n",
              "      <th>50%</th>\n",
              "      <th>75%</th>\n",
              "      <th>max</th>\n",
              "    </tr>\n",
              "    <tr>\n",
              "      <th>formtype</th>\n",
              "      <th></th>\n",
              "      <th></th>\n",
              "      <th></th>\n",
              "      <th></th>\n",
              "      <th></th>\n",
              "      <th></th>\n",
              "      <th></th>\n",
              "      <th></th>\n",
              "      <th></th>\n",
              "      <th></th>\n",
              "      <th></th>\n",
              "      <th></th>\n",
              "      <th></th>\n",
              "      <th></th>\n",
              "      <th></th>\n",
              "      <th></th>\n",
              "    </tr>\n",
              "  </thead>\n",
              "  <tbody>\n",
              "    <tr>\n",
              "      <th>Form 11-K</th>\n",
              "      <td>1.0</td>\n",
              "      <td>183.000000</td>\n",
              "      <td>NaN</td>\n",
              "      <td>183.0</td>\n",
              "      <td>183.00</td>\n",
              "      <td>183.0</td>\n",
              "      <td>183.00</td>\n",
              "      <td>183.0</td>\n",
              "      <td>1.0</td>\n",
              "      <td>5.0</td>\n",
              "      <td>NaN</td>\n",
              "      <td>5.0</td>\n",
              "      <td>5.0</td>\n",
              "      <td>5.0</td>\n",
              "      <td>5.0</td>\n",
              "      <td>5.0</td>\n",
              "    </tr>\n",
              "    <tr>\n",
              "      <th>Form 13F</th>\n",
              "      <td>197.0</td>\n",
              "      <td>146.984772</td>\n",
              "      <td>93.381076</td>\n",
              "      <td>3.0</td>\n",
              "      <td>64.00</td>\n",
              "      <td>139.0</td>\n",
              "      <td>241.00</td>\n",
              "      <td>303.0</td>\n",
              "      <td>197.0</td>\n",
              "      <td>1.0</td>\n",
              "      <td>0.0</td>\n",
              "      <td>1.0</td>\n",
              "      <td>1.0</td>\n",
              "      <td>1.0</td>\n",
              "      <td>1.0</td>\n",
              "      <td>1.0</td>\n",
              "    </tr>\n",
              "    <tr>\n",
              "      <th>Form 19B-4</th>\n",
              "      <td>6.0</td>\n",
              "      <td>296.500000</td>\n",
              "      <td>1.870829</td>\n",
              "      <td>294.0</td>\n",
              "      <td>295.25</td>\n",
              "      <td>296.5</td>\n",
              "      <td>297.75</td>\n",
              "      <td>299.0</td>\n",
              "      <td>6.0</td>\n",
              "      <td>6.0</td>\n",
              "      <td>0.0</td>\n",
              "      <td>6.0</td>\n",
              "      <td>6.0</td>\n",
              "      <td>6.0</td>\n",
              "      <td>6.0</td>\n",
              "      <td>6.0</td>\n",
              "    </tr>\n",
              "    <tr>\n",
              "      <th>Form 6-K</th>\n",
              "      <td>2.0</td>\n",
              "      <td>115.500000</td>\n",
              "      <td>0.707107</td>\n",
              "      <td>115.0</td>\n",
              "      <td>115.25</td>\n",
              "      <td>115.5</td>\n",
              "      <td>115.75</td>\n",
              "      <td>116.0</td>\n",
              "      <td>2.0</td>\n",
              "      <td>4.0</td>\n",
              "      <td>0.0</td>\n",
              "      <td>4.0</td>\n",
              "      <td>4.0</td>\n",
              "      <td>4.0</td>\n",
              "      <td>4.0</td>\n",
              "      <td>4.0</td>\n",
              "    </tr>\n",
              "    <tr>\n",
              "      <th>Form D</th>\n",
              "      <td>41.0</td>\n",
              "      <td>139.390244</td>\n",
              "      <td>99.240586</td>\n",
              "      <td>0.0</td>\n",
              "      <td>52.00</td>\n",
              "      <td>176.0</td>\n",
              "      <td>202.00</td>\n",
              "      <td>293.0</td>\n",
              "      <td>41.0</td>\n",
              "      <td>0.0</td>\n",
              "      <td>0.0</td>\n",
              "      <td>0.0</td>\n",
              "      <td>0.0</td>\n",
              "      <td>0.0</td>\n",
              "      <td>0.0</td>\n",
              "      <td>0.0</td>\n",
              "    </tr>\n",
              "    <tr>\n",
              "      <th>Form TA-2</th>\n",
              "      <td>6.0</td>\n",
              "      <td>120.500000</td>\n",
              "      <td>3.391165</td>\n",
              "      <td>117.0</td>\n",
              "      <td>118.25</td>\n",
              "      <td>119.5</td>\n",
              "      <td>122.25</td>\n",
              "      <td>126.0</td>\n",
              "      <td>6.0</td>\n",
              "      <td>3.0</td>\n",
              "      <td>0.0</td>\n",
              "      <td>3.0</td>\n",
              "      <td>3.0</td>\n",
              "      <td>3.0</td>\n",
              "      <td>3.0</td>\n",
              "      <td>3.0</td>\n",
              "    </tr>\n",
              "    <tr>\n",
              "      <th>Form X-17A-5</th>\n",
              "      <td>11.0</td>\n",
              "      <td>122.272727</td>\n",
              "      <td>6.574054</td>\n",
              "      <td>112.0</td>\n",
              "      <td>117.50</td>\n",
              "      <td>124.0</td>\n",
              "      <td>127.50</td>\n",
              "      <td>130.0</td>\n",
              "      <td>11.0</td>\n",
              "      <td>2.0</td>\n",
              "      <td>0.0</td>\n",
              "      <td>2.0</td>\n",
              "      <td>2.0</td>\n",
              "      <td>2.0</td>\n",
              "      <td>2.0</td>\n",
              "      <td>2.0</td>\n",
              "    </tr>\n",
              "    <tr>\n",
              "      <th>Other</th>\n",
              "      <td>40.0</td>\n",
              "      <td>178.100000</td>\n",
              "      <td>37.338232</td>\n",
              "      <td>20.0</td>\n",
              "      <td>162.75</td>\n",
              "      <td>172.5</td>\n",
              "      <td>187.75</td>\n",
              "      <td>232.0</td>\n",
              "      <td>40.0</td>\n",
              "      <td>7.0</td>\n",
              "      <td>0.0</td>\n",
              "      <td>7.0</td>\n",
              "      <td>7.0</td>\n",
              "      <td>7.0</td>\n",
              "      <td>7.0</td>\n",
              "      <td>7.0</td>\n",
              "    </tr>\n",
              "  </tbody>\n",
              "</table>\n",
              "</div>\n",
              "    <div class=\"colab-df-buttons\">\n",
              "\n",
              "  <div class=\"colab-df-container\">\n",
              "    <button class=\"colab-df-convert\" onclick=\"convertToInteractive('df-df464eb1-d2dd-413c-bccc-0854507f797f')\"\n",
              "            title=\"Convert this dataframe to an interactive table.\"\n",
              "            style=\"display:none;\">\n",
              "\n",
              "  <svg xmlns=\"http://www.w3.org/2000/svg\" height=\"24px\" viewBox=\"0 -960 960 960\">\n",
              "    <path d=\"M120-120v-720h720v720H120Zm60-500h600v-160H180v160Zm220 220h160v-160H400v160Zm0 220h160v-160H400v160ZM180-400h160v-160H180v160Zm440 0h160v-160H620v160ZM180-180h160v-160H180v160Zm440 0h160v-160H620v160Z\"/>\n",
              "  </svg>\n",
              "    </button>\n",
              "\n",
              "  <style>\n",
              "    .colab-df-container {\n",
              "      display:flex;\n",
              "      gap: 12px;\n",
              "    }\n",
              "\n",
              "    .colab-df-convert {\n",
              "      background-color: #E8F0FE;\n",
              "      border: none;\n",
              "      border-radius: 50%;\n",
              "      cursor: pointer;\n",
              "      display: none;\n",
              "      fill: #1967D2;\n",
              "      height: 32px;\n",
              "      padding: 0 0 0 0;\n",
              "      width: 32px;\n",
              "    }\n",
              "\n",
              "    .colab-df-convert:hover {\n",
              "      background-color: #E2EBFA;\n",
              "      box-shadow: 0px 1px 2px rgba(60, 64, 67, 0.3), 0px 1px 3px 1px rgba(60, 64, 67, 0.15);\n",
              "      fill: #174EA6;\n",
              "    }\n",
              "\n",
              "    .colab-df-buttons div {\n",
              "      margin-bottom: 4px;\n",
              "    }\n",
              "\n",
              "    [theme=dark] .colab-df-convert {\n",
              "      background-color: #3B4455;\n",
              "      fill: #D2E3FC;\n",
              "    }\n",
              "\n",
              "    [theme=dark] .colab-df-convert:hover {\n",
              "      background-color: #434B5C;\n",
              "      box-shadow: 0px 1px 3px 1px rgba(0, 0, 0, 0.15);\n",
              "      filter: drop-shadow(0px 1px 2px rgba(0, 0, 0, 0.3));\n",
              "      fill: #FFFFFF;\n",
              "    }\n",
              "  </style>\n",
              "\n",
              "    <script>\n",
              "      const buttonEl =\n",
              "        document.querySelector('#df-df464eb1-d2dd-413c-bccc-0854507f797f button.colab-df-convert');\n",
              "      buttonEl.style.display =\n",
              "        google.colab.kernel.accessAllowed ? 'block' : 'none';\n",
              "\n",
              "      async function convertToInteractive(key) {\n",
              "        const element = document.querySelector('#df-df464eb1-d2dd-413c-bccc-0854507f797f');\n",
              "        const dataTable =\n",
              "          await google.colab.kernel.invokeFunction('convertToInteractive',\n",
              "                                                    [key], {});\n",
              "        if (!dataTable) return;\n",
              "\n",
              "        const docLinkHtml = 'Like what you see? Visit the ' +\n",
              "          '<a target=\"_blank\" href=https://colab.research.google.com/notebooks/data_table.ipynb>data table notebook</a>'\n",
              "          + ' to learn more about interactive tables.';\n",
              "        element.innerHTML = '';\n",
              "        dataTable['output_type'] = 'display_data';\n",
              "        await google.colab.output.renderOutput(dataTable, element);\n",
              "        const docLink = document.createElement('div');\n",
              "        docLink.innerHTML = docLinkHtml;\n",
              "        element.appendChild(docLink);\n",
              "      }\n",
              "    </script>\n",
              "  </div>\n",
              "\n",
              "\n",
              "<div id=\"df-9b59807c-e36e-4ce5-bb47-7dfa01d93ece\">\n",
              "  <button class=\"colab-df-quickchart\" onclick=\"quickchart('df-9b59807c-e36e-4ce5-bb47-7dfa01d93ece')\"\n",
              "            title=\"Suggest charts.\"\n",
              "            style=\"display:none;\">\n",
              "\n",
              "<svg xmlns=\"http://www.w3.org/2000/svg\" height=\"24px\"viewBox=\"0 0 24 24\"\n",
              "     width=\"24px\">\n",
              "    <g>\n",
              "        <path d=\"M19 3H5c-1.1 0-2 .9-2 2v14c0 1.1.9 2 2 2h14c1.1 0 2-.9 2-2V5c0-1.1-.9-2-2-2zM9 17H7v-7h2v7zm4 0h-2V7h2v10zm4 0h-2v-4h2v4z\"/>\n",
              "    </g>\n",
              "</svg>\n",
              "  </button>\n",
              "\n",
              "<style>\n",
              "  .colab-df-quickchart {\n",
              "      --bg-color: #E8F0FE;\n",
              "      --fill-color: #1967D2;\n",
              "      --hover-bg-color: #E2EBFA;\n",
              "      --hover-fill-color: #174EA6;\n",
              "      --disabled-fill-color: #AAA;\n",
              "      --disabled-bg-color: #DDD;\n",
              "  }\n",
              "\n",
              "  [theme=dark] .colab-df-quickchart {\n",
              "      --bg-color: #3B4455;\n",
              "      --fill-color: #D2E3FC;\n",
              "      --hover-bg-color: #434B5C;\n",
              "      --hover-fill-color: #FFFFFF;\n",
              "      --disabled-bg-color: #3B4455;\n",
              "      --disabled-fill-color: #666;\n",
              "  }\n",
              "\n",
              "  .colab-df-quickchart {\n",
              "    background-color: var(--bg-color);\n",
              "    border: none;\n",
              "    border-radius: 50%;\n",
              "    cursor: pointer;\n",
              "    display: none;\n",
              "    fill: var(--fill-color);\n",
              "    height: 32px;\n",
              "    padding: 0;\n",
              "    width: 32px;\n",
              "  }\n",
              "\n",
              "  .colab-df-quickchart:hover {\n",
              "    background-color: var(--hover-bg-color);\n",
              "    box-shadow: 0 1px 2px rgba(60, 64, 67, 0.3), 0 1px 3px 1px rgba(60, 64, 67, 0.15);\n",
              "    fill: var(--button-hover-fill-color);\n",
              "  }\n",
              "\n",
              "  .colab-df-quickchart-complete:disabled,\n",
              "  .colab-df-quickchart-complete:disabled:hover {\n",
              "    background-color: var(--disabled-bg-color);\n",
              "    fill: var(--disabled-fill-color);\n",
              "    box-shadow: none;\n",
              "  }\n",
              "\n",
              "  .colab-df-spinner {\n",
              "    border: 2px solid var(--fill-color);\n",
              "    border-color: transparent;\n",
              "    border-bottom-color: var(--fill-color);\n",
              "    animation:\n",
              "      spin 1s steps(1) infinite;\n",
              "  }\n",
              "\n",
              "  @keyframes spin {\n",
              "    0% {\n",
              "      border-color: transparent;\n",
              "      border-bottom-color: var(--fill-color);\n",
              "      border-left-color: var(--fill-color);\n",
              "    }\n",
              "    20% {\n",
              "      border-color: transparent;\n",
              "      border-left-color: var(--fill-color);\n",
              "      border-top-color: var(--fill-color);\n",
              "    }\n",
              "    30% {\n",
              "      border-color: transparent;\n",
              "      border-left-color: var(--fill-color);\n",
              "      border-top-color: var(--fill-color);\n",
              "      border-right-color: var(--fill-color);\n",
              "    }\n",
              "    40% {\n",
              "      border-color: transparent;\n",
              "      border-right-color: var(--fill-color);\n",
              "      border-top-color: var(--fill-color);\n",
              "    }\n",
              "    60% {\n",
              "      border-color: transparent;\n",
              "      border-right-color: var(--fill-color);\n",
              "    }\n",
              "    80% {\n",
              "      border-color: transparent;\n",
              "      border-right-color: var(--fill-color);\n",
              "      border-bottom-color: var(--fill-color);\n",
              "    }\n",
              "    90% {\n",
              "      border-color: transparent;\n",
              "      border-bottom-color: var(--fill-color);\n",
              "    }\n",
              "  }\n",
              "</style>\n",
              "\n",
              "  <script>\n",
              "    async function quickchart(key) {\n",
              "      const quickchartButtonEl =\n",
              "        document.querySelector('#' + key + ' button');\n",
              "      quickchartButtonEl.disabled = true;  // To prevent multiple clicks.\n",
              "      quickchartButtonEl.classList.add('colab-df-spinner');\n",
              "      try {\n",
              "        const charts = await google.colab.kernel.invokeFunction(\n",
              "            'suggestCharts', [key], {});\n",
              "      } catch (error) {\n",
              "        console.error('Error during call to suggestCharts:', error);\n",
              "      }\n",
              "      quickchartButtonEl.classList.remove('colab-df-spinner');\n",
              "      quickchartButtonEl.classList.add('colab-df-quickchart-complete');\n",
              "    }\n",
              "    (() => {\n",
              "      let quickchartButtonEl =\n",
              "        document.querySelector('#df-9b59807c-e36e-4ce5-bb47-7dfa01d93ece button');\n",
              "      quickchartButtonEl.style.display =\n",
              "        google.colab.kernel.accessAllowed ? 'block' : 'none';\n",
              "    })();\n",
              "  </script>\n",
              "</div>\n",
              "    </div>\n",
              "  </div>\n"
            ]
          },
          "metadata": {},
          "execution_count": 9
        }
      ]
    },
    {
      "cell_type": "code",
      "source": [
        "df['formtype'].value_counts()"
      ],
      "metadata": {
        "colab": {
          "base_uri": "https://localhost:8080/"
        },
        "id": "yCkaY2ixv8Lw",
        "outputId": "540c4f2e-beb5-4535-b959-ec4666ef2b91"
      },
      "execution_count": 10,
      "outputs": [
        {
          "output_type": "execute_result",
          "data": {
            "text/plain": [
              "Form 13F        197\n",
              "Form D           41\n",
              "Other            40\n",
              "Form X-17A-5     11\n",
              "Form TA-2         6\n",
              "Form 19B-4        6\n",
              "Form 6-K          2\n",
              "Form 11-K         1\n",
              "Name: formtype, dtype: int64"
            ]
          },
          "metadata": {},
          "execution_count": 10
        }
      ]
    },
    {
      "cell_type": "markdown",
      "source": [
        "\n",
        "---\n",
        "\n",
        "\n",
        "**As we can see from above, there is a huge class\n",
        "imbalance issue in the dataset with Form 13F having relatively high samples than all the other form types. This results in Overfitting of the model. Also, we can drop the Form types which are having very less samples to avoid affecting the accuracy of the model.**\n",
        "\n",
        "---\n",
        "\n",
        "\n",
        "\n"
      ],
      "metadata": {
        "id": "SAP47JgWGtQ7"
      }
    },
    {
      "cell_type": "code",
      "source": [
        "form_list = ['Form TA-2', 'Form 19B-4', 'Form 6-K', 'Form 11-K']"
      ],
      "metadata": {
        "id": "W1U_PlOCv8TX"
      },
      "execution_count": 11,
      "outputs": []
    },
    {
      "cell_type": "code",
      "source": [
        "index_list = []\n",
        "\n",
        "for i in form_list:\n",
        "  a = list(df.index[df['formtype'] == i])\n",
        "  for n in a:\n",
        "    index_list.append(n)"
      ],
      "metadata": {
        "id": "f9xLot2Gv8XL"
      },
      "execution_count": 12,
      "outputs": []
    },
    {
      "cell_type": "code",
      "source": [
        "index_list"
      ],
      "metadata": {
        "colab": {
          "base_uri": "https://localhost:8080/"
        },
        "id": "z3a1Ab9yv8al",
        "outputId": "68a67c5b-d4e3-4701-e415-98c1b70c6f6d"
      },
      "execution_count": 13,
      "outputs": [
        {
          "output_type": "execute_result",
          "data": {
            "text/plain": [
              "[117, 118, 119, 120, 123, 126, 294, 295, 296, 297, 298, 299, 115, 116, 183]"
            ]
          },
          "metadata": {},
          "execution_count": 13
        }
      ]
    },
    {
      "cell_type": "markdown",
      "source": [
        "**Dropping the Forms having very less samples**"
      ],
      "metadata": {
        "id": "oUeHlxqKHyww"
      }
    },
    {
      "cell_type": "code",
      "source": [
        "df = df.drop(index_list)"
      ],
      "metadata": {
        "id": "esITJK-hv8f1"
      },
      "execution_count": 14,
      "outputs": []
    },
    {
      "cell_type": "code",
      "source": [
        "df['formtype'].value_counts()"
      ],
      "metadata": {
        "colab": {
          "base_uri": "https://localhost:8080/"
        },
        "id": "H2LiuWhOv8jd",
        "outputId": "8d6f2a8a-1e80-4a4b-c8f0-650909093364"
      },
      "execution_count": 15,
      "outputs": [
        {
          "output_type": "execute_result",
          "data": {
            "text/plain": [
              "Form 13F        197\n",
              "Form D           41\n",
              "Other            40\n",
              "Form X-17A-5     11\n",
              "Name: formtype, dtype: int64"
            ]
          },
          "metadata": {},
          "execution_count": 15
        }
      ]
    },
    {
      "cell_type": "markdown",
      "source": [
        "**Downsampling the Form 13F to a size equivalent to Form D and Other type**"
      ],
      "metadata": {
        "id": "iNDkc85IH5L9"
      }
    },
    {
      "cell_type": "code",
      "source": [
        "df_FORMD = df[df['formtype']=='Form D']\n",
        "df_FORMD.shape"
      ],
      "metadata": {
        "colab": {
          "base_uri": "https://localhost:8080/"
        },
        "id": "0HsDwiN1v8nM",
        "outputId": "4d4d4cb2-b7ae-4d49-9eaa-91c4db38647f"
      },
      "execution_count": 16,
      "outputs": [
        {
          "output_type": "execute_result",
          "data": {
            "text/plain": [
              "(41, 5)"
            ]
          },
          "metadata": {},
          "execution_count": 16
        }
      ]
    },
    {
      "cell_type": "code",
      "source": [
        "df_FORM13F = df[df['formtype']=='Form 13F']\n",
        "df_FORM13F.shape"
      ],
      "metadata": {
        "colab": {
          "base_uri": "https://localhost:8080/"
        },
        "id": "SHY3jHYyv8qw",
        "outputId": "eb646d83-9ce6-40dd-dca5-608a2c5ae682"
      },
      "execution_count": 17,
      "outputs": [
        {
          "output_type": "execute_result",
          "data": {
            "text/plain": [
              "(197, 5)"
            ]
          },
          "metadata": {},
          "execution_count": 17
        }
      ]
    },
    {
      "cell_type": "code",
      "source": [
        "df_rest = df[df['formtype'].isin(['Form X-17A-5', 'Other'])]\n",
        "df_rest.shape"
      ],
      "metadata": {
        "colab": {
          "base_uri": "https://localhost:8080/"
        },
        "id": "J7wzTGjGz6AN",
        "outputId": "d9d804db-4bcb-468b-a894-72a0adae88b5"
      },
      "execution_count": 18,
      "outputs": [
        {
          "output_type": "execute_result",
          "data": {
            "text/plain": [
              "(51, 5)"
            ]
          },
          "metadata": {},
          "execution_count": 18
        }
      ]
    },
    {
      "cell_type": "code",
      "source": [
        "df_FORM13F_downsampled = df_FORM13F.sample(df_FORMD.shape[0])\n",
        "df_FORM13F_downsampled.shape"
      ],
      "metadata": {
        "colab": {
          "base_uri": "https://localhost:8080/"
        },
        "id": "eZpDMbbiz6Cc",
        "outputId": "c2f95a79-fda3-42d9-f792-f6d90fb988f3"
      },
      "execution_count": 19,
      "outputs": [
        {
          "output_type": "execute_result",
          "data": {
            "text/plain": [
              "(41, 5)"
            ]
          },
          "metadata": {},
          "execution_count": 19
        }
      ]
    },
    {
      "cell_type": "code",
      "source": [
        "df_balanced = pd.concat([df_FORM13F_downsampled, df_FORMD, df_rest])\n",
        "df_balanced.shape"
      ],
      "metadata": {
        "colab": {
          "base_uri": "https://localhost:8080/"
        },
        "id": "3SMLhDpBz6Es",
        "outputId": "3c8f7b82-6ceb-493a-c832-ac65ed1f9a19"
      },
      "execution_count": 20,
      "outputs": [
        {
          "output_type": "execute_result",
          "data": {
            "text/plain": [
              "(133, 5)"
            ]
          },
          "metadata": {},
          "execution_count": 20
        }
      ]
    },
    {
      "cell_type": "code",
      "source": [
        "df_balanced['formtype'].value_counts()"
      ],
      "metadata": {
        "colab": {
          "base_uri": "https://localhost:8080/"
        },
        "id": "6eoYo6gsz6G8",
        "outputId": "9f8b6c1f-1885-4387-b973-211b6953a9ee"
      },
      "execution_count": 21,
      "outputs": [
        {
          "output_type": "execute_result",
          "data": {
            "text/plain": [
              "Form 13F        41\n",
              "Form D          41\n",
              "Other           40\n",
              "Form X-17A-5    11\n",
              "Name: formtype, dtype: int64"
            ]
          },
          "metadata": {},
          "execution_count": 21
        }
      ]
    },
    {
      "cell_type": "code",
      "source": [
        "!pip install swifter"
      ],
      "metadata": {
        "colab": {
          "base_uri": "https://localhost:8080/"
        },
        "id": "pMyYfC4FGK44",
        "outputId": "c8e974fa-0ab9-442d-fba8-1880966fab59"
      },
      "execution_count": 22,
      "outputs": [
        {
          "output_type": "stream",
          "name": "stdout",
          "text": [
            "Collecting swifter\n",
            "  Downloading swifter-1.4.0.tar.gz (1.2 MB)\n",
            "\u001b[?25l     \u001b[90m━━━━━━━━━━━━━━━━━━━━━━━━━━━━━━━━━━━━━━━━\u001b[0m \u001b[32m0.0/1.2 MB\u001b[0m \u001b[31m?\u001b[0m eta \u001b[36m-:--:--\u001b[0m\r\u001b[2K     \u001b[91m━━━━\u001b[0m\u001b[90m╺\u001b[0m\u001b[90m━━━━━━━━━━━━━━━━━━━━━━━━━━━━━━━━━━━\u001b[0m \u001b[32m0.1/1.2 MB\u001b[0m \u001b[31m3.4 MB/s\u001b[0m eta \u001b[36m0:00:01\u001b[0m\r\u001b[2K     \u001b[91m━━━━━━━━━━━━━━━━━━━━━━━━━━━━━━━━━━━━\u001b[0m\u001b[90m╺\u001b[0m\u001b[90m━━━\u001b[0m \u001b[32m1.1/1.2 MB\u001b[0m \u001b[31m15.4 MB/s\u001b[0m eta \u001b[36m0:00:01\u001b[0m\r\u001b[2K     \u001b[90m━━━━━━━━━━━━━━━━━━━━━━━━━━━━━━━━━━━━━━━━\u001b[0m \u001b[32m1.2/1.2 MB\u001b[0m \u001b[31m13.4 MB/s\u001b[0m eta \u001b[36m0:00:00\u001b[0m\n",
            "\u001b[?25h  Preparing metadata (setup.py) ... \u001b[?25l\u001b[?25hdone\n",
            "Requirement already satisfied: pandas>=1.0.0 in /usr/local/lib/python3.10/dist-packages (from swifter) (1.5.3)\n",
            "Requirement already satisfied: psutil>=5.6.6 in /usr/local/lib/python3.10/dist-packages (from swifter) (5.9.5)\n",
            "Requirement already satisfied: dask[dataframe]>=2.10.0 in /usr/local/lib/python3.10/dist-packages (from swifter) (2023.8.1)\n",
            "Requirement already satisfied: tqdm>=4.33.0 in /usr/local/lib/python3.10/dist-packages (from swifter) (4.66.1)\n",
            "Requirement already satisfied: click>=8.0 in /usr/local/lib/python3.10/dist-packages (from dask[dataframe]>=2.10.0->swifter) (8.1.7)\n",
            "Requirement already satisfied: cloudpickle>=1.5.0 in /usr/local/lib/python3.10/dist-packages (from dask[dataframe]>=2.10.0->swifter) (2.2.1)\n",
            "Requirement already satisfied: fsspec>=2021.09.0 in /usr/local/lib/python3.10/dist-packages (from dask[dataframe]>=2.10.0->swifter) (2023.6.0)\n",
            "Requirement already satisfied: packaging>=20.0 in /usr/local/lib/python3.10/dist-packages (from dask[dataframe]>=2.10.0->swifter) (23.1)\n",
            "Requirement already satisfied: partd>=1.2.0 in /usr/local/lib/python3.10/dist-packages (from dask[dataframe]>=2.10.0->swifter) (1.4.0)\n",
            "Requirement already satisfied: pyyaml>=5.3.1 in /usr/local/lib/python3.10/dist-packages (from dask[dataframe]>=2.10.0->swifter) (6.0.1)\n",
            "Requirement already satisfied: toolz>=0.10.0 in /usr/local/lib/python3.10/dist-packages (from dask[dataframe]>=2.10.0->swifter) (0.12.0)\n",
            "Requirement already satisfied: importlib-metadata>=4.13.0 in /usr/local/lib/python3.10/dist-packages (from dask[dataframe]>=2.10.0->swifter) (6.8.0)\n",
            "Requirement already satisfied: python-dateutil>=2.8.1 in /usr/local/lib/python3.10/dist-packages (from pandas>=1.0.0->swifter) (2.8.2)\n",
            "Requirement already satisfied: pytz>=2020.1 in /usr/local/lib/python3.10/dist-packages (from pandas>=1.0.0->swifter) (2023.3.post1)\n",
            "Requirement already satisfied: numpy>=1.21.0 in /usr/local/lib/python3.10/dist-packages (from pandas>=1.0.0->swifter) (1.23.5)\n",
            "Requirement already satisfied: zipp>=0.5 in /usr/local/lib/python3.10/dist-packages (from importlib-metadata>=4.13.0->dask[dataframe]>=2.10.0->swifter) (3.16.2)\n",
            "Requirement already satisfied: locket in /usr/local/lib/python3.10/dist-packages (from partd>=1.2.0->dask[dataframe]>=2.10.0->swifter) (1.0.0)\n",
            "Requirement already satisfied: six>=1.5 in /usr/local/lib/python3.10/dist-packages (from python-dateutil>=2.8.1->pandas>=1.0.0->swifter) (1.16.0)\n",
            "Building wheels for collected packages: swifter\n",
            "  Building wheel for swifter (setup.py) ... \u001b[?25l\u001b[?25hdone\n",
            "  Created wheel for swifter: filename=swifter-1.4.0-py3-none-any.whl size=16507 sha256=7c5b62e4c1d85cf6b5fb8566cdd6e7d95d3e6a35befd1ef0ba67eb799d7559da\n",
            "  Stored in directory: /root/.cache/pip/wheels/e4/cf/51/0904952972ee2c7aa3709437065278dc534ec1b8d2ad41b443\n",
            "Successfully built swifter\n",
            "Installing collected packages: swifter\n",
            "Successfully installed swifter-1.4.0\n"
          ]
        }
      ]
    },
    {
      "cell_type": "code",
      "source": [
        "try:\n",
        "    import json\n",
        "    import os\n",
        "\n",
        "    import pandas as  pd\n",
        "    import numpy as np\n",
        "    import spacy\n",
        "\n",
        "    import seaborn as sns\n",
        "    import string\n",
        "\n",
        "    from tqdm import tqdm\n",
        "    from textblob import TextBlob\n",
        "\n",
        "    from nltk.corpus import stopwords\n",
        "    import nltk\n",
        "    from nltk.stem import WordNetLemmatizer\n",
        "    from nltk import word_tokenize\n",
        "    import re\n",
        "\n",
        "\n",
        "    from sklearn.model_selection import train_test_split\n",
        "    from sklearn.preprocessing import LabelEncoder\n",
        "    from sklearn.feature_extraction.text import CountVectorizer\n",
        "    from sklearn.feature_extraction.text import TfidfTransformer\n",
        "    from sklearn.naive_bayes import MultinomialNB\n",
        "    from sklearn.pipeline import Pipeline\n",
        "\n",
        "\n",
        "    from sklearn.preprocessing import FunctionTransformer\n",
        "    from sklearn.base import BaseEstimator, TransformerMixin\n",
        "    from sklearn.pipeline import FeatureUnion\n",
        "    from sklearn.feature_extraction import DictVectorizer\n",
        "\n",
        "    import swifter\n",
        "\n",
        "    tqdm.pandas()\n",
        "except Exception as e:\n",
        "    print(\"Error : {} \".format(e))"
      ],
      "metadata": {
        "id": "o8QYv45WGK7j"
      },
      "execution_count": 23,
      "outputs": []
    },
    {
      "cell_type": "code",
      "source": [
        "import nltk\n",
        "nltk.download('punkt')\n",
        "nltk.download('stopwords')\n",
        "nltk.download('wordnet')\n",
        "nltk.download('averaged_perceptron_tagger')"
      ],
      "metadata": {
        "colab": {
          "base_uri": "https://localhost:8080/"
        },
        "id": "DS_G5WjtGK-J",
        "outputId": "b200ae4d-0c9e-4c1a-9e02-9372ac73b8bd"
      },
      "execution_count": 24,
      "outputs": [
        {
          "output_type": "stream",
          "name": "stderr",
          "text": [
            "[nltk_data] Downloading package punkt to /root/nltk_data...\n",
            "[nltk_data]   Unzipping tokenizers/punkt.zip.\n",
            "[nltk_data] Downloading package stopwords to /root/nltk_data...\n",
            "[nltk_data]   Unzipping corpora/stopwords.zip.\n",
            "[nltk_data] Downloading package wordnet to /root/nltk_data...\n",
            "[nltk_data] Downloading package averaged_perceptron_tagger to\n",
            "[nltk_data]     /root/nltk_data...\n",
            "[nltk_data]   Unzipping taggers/averaged_perceptron_tagger.zip.\n"
          ]
        },
        {
          "output_type": "execute_result",
          "data": {
            "text/plain": [
              "True"
            ]
          },
          "metadata": {},
          "execution_count": 24
        }
      ]
    },
    {
      "cell_type": "markdown",
      "source": [
        "## **Cleaning the extracted text**"
      ],
      "metadata": {
        "id": "opRDCrooIUh1"
      }
    },
    {
      "cell_type": "code",
      "source": [
        "stop_words_ = set(stopwords.words('english'))\n",
        "wn = WordNetLemmatizer()\n",
        "my_sw = ['make', 'amp',  'news','new' ,'time', 'u','s', 'photos',  'get', 'say']\n",
        "\n",
        "def black_txt(token):\n",
        "    return  token not in stop_words_ and token not in list(string.punctuation)  and len(token)>2 and token not in my_sw\n",
        "\n",
        "def clean_txt(text):\n",
        "    clean_text = []\n",
        "    clean_text2 = []\n",
        "    text = re.sub(\"'\", \"\",text)\n",
        "    text=re.sub(\"(\\\\d|\\\\W)+\",\" \",text)\n",
        "    clean_text = [wn.lemmatize(word, pos=\"v\") for word in word_tokenize(text.lower()) if black_txt(word)]\n",
        "    clean_text2 = [word for word in clean_text if black_txt(word)]\n",
        "    return \" \".join(clean_text2)"
      ],
      "metadata": {
        "id": "FppthZDcGLAR"
      },
      "execution_count": 25,
      "outputs": []
    },
    {
      "cell_type": "code",
      "source": [
        "def subj_txt(text):\n",
        "    return  TextBlob(text).sentiment[1]"
      ],
      "metadata": {
        "id": "VfNK3WfQGLCy"
      },
      "execution_count": 26,
      "outputs": []
    },
    {
      "cell_type": "code",
      "source": [
        "df_balanced['text_content'] = df_balanced['text_content'].swifter.apply(clean_txt)"
      ],
      "metadata": {
        "colab": {
          "base_uri": "https://localhost:8080/",
          "height": 49,
          "referenced_widgets": [
            "5c6e22c1dd9740d2bfedf95c1c64a6af",
            "bbba728193604c84a8bdc41d8cf9e5a4",
            "77bfe1638d7243189ca52238c8d5b846",
            "4c9c94f7100a458e8d7b194cdb0c4be4",
            "a722969b2420480b9fb5d55dcbe223c0",
            "b0d075afb09243a6855ce1e4fa62dd21",
            "7f1f02bd1c9a4008a2f4c321ec4c961a",
            "669922dad8bc48ee93e88453ce666c55",
            "63cc00a4b45f4144b20183916d60f74c",
            "e235d38a859045d8a98bf07d3025ed13",
            "fa666baafdd040e0ac7492ef3056648d"
          ]
        },
        "id": "XvbHA79IgsU_",
        "outputId": "706edc52-42be-4f13-b879-4475306a5069"
      },
      "execution_count": 27,
      "outputs": [
        {
          "output_type": "display_data",
          "data": {
            "text/plain": [
              "Pandas Apply:   0%|          | 0/133 [00:00<?, ?it/s]"
            ],
            "application/vnd.jupyter.widget-view+json": {
              "version_major": 2,
              "version_minor": 0,
              "model_id": "5c6e22c1dd9740d2bfedf95c1c64a6af"
            }
          },
          "metadata": {}
        }
      ]
    },
    {
      "cell_type": "markdown",
      "source": [
        "## **Splitting the data into Train and Test sets**"
      ],
      "metadata": {
        "id": "qA_-L9MuIyuh"
      }
    },
    {
      "cell_type": "code",
      "source": [
        "from sklearn.model_selection import train_test_split\n",
        "\n",
        "X = df_balanced['text_content']\n",
        "y =df_balanced['label']\n",
        "\n",
        "X_train, X_test, y_train, y_test = train_test_split(X, y, test_size=0.2)\n",
        "v = dict(zip(list(y), df_balanced['formtype'].to_list()))"
      ],
      "metadata": {
        "id": "YoalUl8aOp-n"
      },
      "execution_count": 28,
      "outputs": []
    },
    {
      "cell_type": "markdown",
      "source": [
        "## **Creating a Pipeline including Naive Bayes Classifier for classification of Documents**"
      ],
      "metadata": {
        "id": "yBjIOxGQI5ly"
      }
    },
    {
      "cell_type": "code",
      "source": [
        "text_clf = Pipeline([\n",
        "...     ('vect', CountVectorizer(analyzer=\"word\", stop_words=\"english\")),\n",
        "...     ('tfidf', TfidfTransformer(use_idf=True)),\n",
        "...     ('clf', MultinomialNB(alpha=.01)),\n",
        "... ])"
      ],
      "metadata": {
        "id": "E9ZIVxVlS-WV"
      },
      "execution_count": 29,
      "outputs": []
    },
    {
      "cell_type": "code",
      "source": [
        "text_clf.fit(X_train.to_list(), list(y_train))"
      ],
      "metadata": {
        "colab": {
          "base_uri": "https://localhost:8080/",
          "height": 158
        },
        "id": "cv9dl5UjinqB",
        "outputId": "696edbbb-58bf-4e0e-cf29-861437f9f77a"
      },
      "execution_count": 30,
      "outputs": [
        {
          "output_type": "execute_result",
          "data": {
            "text/plain": [
              "Pipeline(steps=[('vect', CountVectorizer(stop_words='english')),\n",
              "                ('tfidf', TfidfTransformer()),\n",
              "                ('clf', MultinomialNB(alpha=0.01))])"
            ],
            "text/html": [
              "<style>#sk-container-id-1 {color: black;background-color: white;}#sk-container-id-1 pre{padding: 0;}#sk-container-id-1 div.sk-toggleable {background-color: white;}#sk-container-id-1 label.sk-toggleable__label {cursor: pointer;display: block;width: 100%;margin-bottom: 0;padding: 0.3em;box-sizing: border-box;text-align: center;}#sk-container-id-1 label.sk-toggleable__label-arrow:before {content: \"▸\";float: left;margin-right: 0.25em;color: #696969;}#sk-container-id-1 label.sk-toggleable__label-arrow:hover:before {color: black;}#sk-container-id-1 div.sk-estimator:hover label.sk-toggleable__label-arrow:before {color: black;}#sk-container-id-1 div.sk-toggleable__content {max-height: 0;max-width: 0;overflow: hidden;text-align: left;background-color: #f0f8ff;}#sk-container-id-1 div.sk-toggleable__content pre {margin: 0.2em;color: black;border-radius: 0.25em;background-color: #f0f8ff;}#sk-container-id-1 input.sk-toggleable__control:checked~div.sk-toggleable__content {max-height: 200px;max-width: 100%;overflow: auto;}#sk-container-id-1 input.sk-toggleable__control:checked~label.sk-toggleable__label-arrow:before {content: \"▾\";}#sk-container-id-1 div.sk-estimator input.sk-toggleable__control:checked~label.sk-toggleable__label {background-color: #d4ebff;}#sk-container-id-1 div.sk-label input.sk-toggleable__control:checked~label.sk-toggleable__label {background-color: #d4ebff;}#sk-container-id-1 input.sk-hidden--visually {border: 0;clip: rect(1px 1px 1px 1px);clip: rect(1px, 1px, 1px, 1px);height: 1px;margin: -1px;overflow: hidden;padding: 0;position: absolute;width: 1px;}#sk-container-id-1 div.sk-estimator {font-family: monospace;background-color: #f0f8ff;border: 1px dotted black;border-radius: 0.25em;box-sizing: border-box;margin-bottom: 0.5em;}#sk-container-id-1 div.sk-estimator:hover {background-color: #d4ebff;}#sk-container-id-1 div.sk-parallel-item::after {content: \"\";width: 100%;border-bottom: 1px solid gray;flex-grow: 1;}#sk-container-id-1 div.sk-label:hover label.sk-toggleable__label {background-color: #d4ebff;}#sk-container-id-1 div.sk-serial::before {content: \"\";position: absolute;border-left: 1px solid gray;box-sizing: border-box;top: 0;bottom: 0;left: 50%;z-index: 0;}#sk-container-id-1 div.sk-serial {display: flex;flex-direction: column;align-items: center;background-color: white;padding-right: 0.2em;padding-left: 0.2em;position: relative;}#sk-container-id-1 div.sk-item {position: relative;z-index: 1;}#sk-container-id-1 div.sk-parallel {display: flex;align-items: stretch;justify-content: center;background-color: white;position: relative;}#sk-container-id-1 div.sk-item::before, #sk-container-id-1 div.sk-parallel-item::before {content: \"\";position: absolute;border-left: 1px solid gray;box-sizing: border-box;top: 0;bottom: 0;left: 50%;z-index: -1;}#sk-container-id-1 div.sk-parallel-item {display: flex;flex-direction: column;z-index: 1;position: relative;background-color: white;}#sk-container-id-1 div.sk-parallel-item:first-child::after {align-self: flex-end;width: 50%;}#sk-container-id-1 div.sk-parallel-item:last-child::after {align-self: flex-start;width: 50%;}#sk-container-id-1 div.sk-parallel-item:only-child::after {width: 0;}#sk-container-id-1 div.sk-dashed-wrapped {border: 1px dashed gray;margin: 0 0.4em 0.5em 0.4em;box-sizing: border-box;padding-bottom: 0.4em;background-color: white;}#sk-container-id-1 div.sk-label label {font-family: monospace;font-weight: bold;display: inline-block;line-height: 1.2em;}#sk-container-id-1 div.sk-label-container {text-align: center;}#sk-container-id-1 div.sk-container {/* jupyter's `normalize.less` sets `[hidden] { display: none; }` but bootstrap.min.css set `[hidden] { display: none !important; }` so we also need the `!important` here to be able to override the default hidden behavior on the sphinx rendered scikit-learn.org. See: https://github.com/scikit-learn/scikit-learn/issues/21755 */display: inline-block !important;position: relative;}#sk-container-id-1 div.sk-text-repr-fallback {display: none;}</style><div id=\"sk-container-id-1\" class=\"sk-top-container\"><div class=\"sk-text-repr-fallback\"><pre>Pipeline(steps=[(&#x27;vect&#x27;, CountVectorizer(stop_words=&#x27;english&#x27;)),\n",
              "                (&#x27;tfidf&#x27;, TfidfTransformer()),\n",
              "                (&#x27;clf&#x27;, MultinomialNB(alpha=0.01))])</pre><b>In a Jupyter environment, please rerun this cell to show the HTML representation or trust the notebook. <br />On GitHub, the HTML representation is unable to render, please try loading this page with nbviewer.org.</b></div><div class=\"sk-container\" hidden><div class=\"sk-item sk-dashed-wrapped\"><div class=\"sk-label-container\"><div class=\"sk-label sk-toggleable\"><input class=\"sk-toggleable__control sk-hidden--visually\" id=\"sk-estimator-id-1\" type=\"checkbox\" ><label for=\"sk-estimator-id-1\" class=\"sk-toggleable__label sk-toggleable__label-arrow\">Pipeline</label><div class=\"sk-toggleable__content\"><pre>Pipeline(steps=[(&#x27;vect&#x27;, CountVectorizer(stop_words=&#x27;english&#x27;)),\n",
              "                (&#x27;tfidf&#x27;, TfidfTransformer()),\n",
              "                (&#x27;clf&#x27;, MultinomialNB(alpha=0.01))])</pre></div></div></div><div class=\"sk-serial\"><div class=\"sk-item\"><div class=\"sk-estimator sk-toggleable\"><input class=\"sk-toggleable__control sk-hidden--visually\" id=\"sk-estimator-id-2\" type=\"checkbox\" ><label for=\"sk-estimator-id-2\" class=\"sk-toggleable__label sk-toggleable__label-arrow\">CountVectorizer</label><div class=\"sk-toggleable__content\"><pre>CountVectorizer(stop_words=&#x27;english&#x27;)</pre></div></div></div><div class=\"sk-item\"><div class=\"sk-estimator sk-toggleable\"><input class=\"sk-toggleable__control sk-hidden--visually\" id=\"sk-estimator-id-3\" type=\"checkbox\" ><label for=\"sk-estimator-id-3\" class=\"sk-toggleable__label sk-toggleable__label-arrow\">TfidfTransformer</label><div class=\"sk-toggleable__content\"><pre>TfidfTransformer()</pre></div></div></div><div class=\"sk-item\"><div class=\"sk-estimator sk-toggleable\"><input class=\"sk-toggleable__control sk-hidden--visually\" id=\"sk-estimator-id-4\" type=\"checkbox\" ><label for=\"sk-estimator-id-4\" class=\"sk-toggleable__label sk-toggleable__label-arrow\">MultinomialNB</label><div class=\"sk-toggleable__content\"><pre>MultinomialNB(alpha=0.01)</pre></div></div></div></div></div></div></div>"
            ]
          },
          "metadata": {},
          "execution_count": 30
        }
      ]
    },
    {
      "cell_type": "code",
      "source": [
        "X_TEST = X_test.to_list()\n",
        "Y_TEST = list(y_test)"
      ],
      "metadata": {
        "id": "rdg1v7nninuL"
      },
      "execution_count": 31,
      "outputs": []
    },
    {
      "cell_type": "markdown",
      "source": [
        "## **Predicting on Test set**"
      ],
      "metadata": {
        "id": "YT0sJIdRJa-O"
      }
    },
    {
      "cell_type": "code",
      "source": [
        "predicted = text_clf.predict(X_TEST)"
      ],
      "metadata": {
        "id": "mJFnt9Qvinxo"
      },
      "execution_count": 32,
      "outputs": []
    },
    {
      "cell_type": "code",
      "source": [
        "len(predicted)"
      ],
      "metadata": {
        "colab": {
          "base_uri": "https://localhost:8080/"
        },
        "id": "uVmdF4Wc18W6",
        "outputId": "ee8c4dc9-21eb-4358-d4f3-403395332cce"
      },
      "execution_count": 33,
      "outputs": [
        {
          "output_type": "execute_result",
          "data": {
            "text/plain": [
              "27"
            ]
          },
          "metadata": {},
          "execution_count": 33
        }
      ]
    },
    {
      "cell_type": "code",
      "source": [
        "c = 0\n",
        "y_pred =[]\n",
        "y_pred1 = []\n",
        "for doc, category in zip(X_TEST, predicted):\n",
        "\n",
        "    # if c == 2:break\n",
        "\n",
        "    print(\"-\"*55)\n",
        "    print(doc)\n",
        "    print(\"Predicted Label:\"+ v[category])\n",
        "    y_pred.append(category)\n",
        "    y_pred1.append(v[category])\n",
        "    print(\"Original Label:\"+ str(Y_TEST[c]))\n",
        "    print(\"-\"*55)\n",
        "\n",
        "    c = c + 1"
      ],
      "metadata": {
        "colab": {
          "base_uri": "https://localhost:8080/"
        },
        "id": "1nxuLqh1jT7M",
        "outputId": "3fd19c40-c402-45c1-f1b5-b1efb74f3064"
      },
      "execution_count": 34,
      "outputs": [
        {
          "output_type": "stream",
          "name": "stdout",
          "text": [
            "-------------------------------------------------------\n",
            "yest_available slbmissions facingsheei hicrofiche teo registrant name centoq_tecmuico_guems current address duk_ kn_l geneeq guemes zlepeince eaia former nake address file fiscal year jzblo_ elw complele iitial submissions please aote aame end address change indicate_fqrm type to_be_qsed eqr_worklqad_entrx initial file aris annual report reinstatement soppl def proxy oicf junuauez date process jan thovson ginancial\n",
            "Predicted Label:Other\n",
            "Original Label:7\n",
            "-------------------------------------------------------\n",
            "-------------------------------------------------------\n",
            "submissions facingsheet kicrofiche control label registrant name zlzbnics_jovikb_ current address a_juande atenc a_tz limgs former name address processfd apr file fiscal year trovson financial complele iitial submissions onl pkase aote aame address change indicate_form_type tq_ be_used fqr_nqrklqad_bntrx initial file aris annual report reinstatement soppl def proxy oicf hzbui date jldap fes saa\n",
            "Predicted Label:Other\n",
            "Original Label:7\n",
            "-------------------------------------------------------\n",
            "-------------------------------------------------------\n",
            "form epe omapprovt unite state omb number securities exchange commission washingloa expire estinated average burden form houiper tesponse sale securities sec use sep pursuant regulation preliz seru section andzor uniform limit offer exemptton date receved naak offcrin cteck amendmcnt iumc change indicte cange convertible note_que_kay filine uadet check boxles hat jpply rulc rule sos rule saion uloeroeessed file bnaw file ameodmcnt basic dewtca ton data isep lentet_tha_infomation_reguested issug namc ssuer chcck amendmcnt nam change indicle change thomson financial fastshie_joc addtess execurive oflices number streci cily stale zip code telephone nuabar laduding arg code chestaut street phi ladelehia address principal business operations numbcr streci city stale zip code telcphoae numba lndudins atgg code differenr rom execulive office brier description business commercial cargo vessel design operat best available copy txe business organization corporalion limit partnership already form please spraify business nusl limit paruership onad month year actual estimate date incorporation organizalion actual estimate jurisdiction incorporation anization enter letter postal servicc abbreviaton stalc canada othcr foreign jurisdiction general instructions federl must file issuers offer securitics reliance exemprion regulation saction cfr wken file notice musi file later days first sale sccurities offer notice deem iled ihe sccuritics exchange commission sec earlier dale receive sec addres ives belor ifgecavdar addressalley date due dare wag mailcd unite sule rceistered cerdlicd mail tbat edress file sccuriies exchange commission fifth stredt washington copics require copie notice must file sec one qust manually sgped copiss manually signcd ust phalocopias thc manually tigned opy bcar lypkd print signalures information require liling must contain informalion rcquesed anendments need tport nape theissudi crs change lherelo infonnalion requeled pan uny maierial change rom tbe ilormation previously parus par appendix need file sec file fee ederal iling fee stise notice shal use indicale reliance uniform limit offer exeaption uloe sles tecurites ini tacr iui aoâ iceopad uuloe idi havcedopce_olthoruhi fotie rdyicd ulog mupleon oidic noiicsvin besdrn forurzcatok slale whezc sales bren stale icquires payment precondition tbe dain wita state lioa proper amount shall accompany orm parice shall file appropriale stalcs accordard appendix notice constitules part notice must complete fallure ile notice ihe appropriale state wili fenton loss tho federal exempuoa coq tallure flle appropriate iederal nolice rasult loss avallablo slalo axemp uhk exemption is_predicsled on_the lederal nolice rottotial wto ore tepeod tbe collectioo iofor atioe coetaioad cit totm idlg qet dot fequiced rtspood udleee focto diepleys currrotly valid csbb ceatre euetc sec august iiic notice supply iog file\n",
            "Predicted Label:Form D\n",
            "Original Label:0\n",
            "-------------------------------------------------------\n",
            "-------------------------------------------------------\n",
            "form omb approval unite state securities exchange commssiqn washington omb number aeceiwed expire form estimate average burden beurs per form notice sale sbenrities pursuant regularonda sec use section andior prefix serial uniform limit offer exeption date receive name offer check amendment name change indicate change series prefer stock file check box apply rule rule rule section uloe type file file amendment basic identification data enter information request issuer name issuer check amendment name change indicate change bluzona nnc address executive offices number street city state zip code telephone number include area code marten avenue mountain view address principal business operations number street state zip code telephone number include area code dificrent fom executivc offces brief description business junt engineer technology type business organization corporation limit parmnership already formled please specify business trust limit partnership form month year actual estimate date incorporation organization actual estimate jurisdiction incorporation organization enter two letter postal service abbreviation state canada foreign jurisdiction general instructions federal must file issuers oflering securities reliance exemption regulation section cfr seq file notice must flee laler days afer first sale securities offer notice deem file sccurities exchange commission sec earlier thc date receive sec address receive hat address afler dale due date mail unite state register certifed mil address_ file securities exchange commission fifh sbeet washingtom copy require five copy notice must file sec one must mauually sign copy manally sign must photocopy manually sign copy bear print signatures_ information require must contain information request amendments necd report name issuer ofilering change thereto information request pant materia change iformation previously supply part part appendix need file sec file fee federal file fec state notice shall use indicate reliance ujnifom limit offer exemplion uloe sales securities state adopt uloe adopt fom issuers rely uloe must file scparate nolice thc sccuritics administrator cach stalc iherc sakes jre bcen statc nquircs thc poynnt fcc precondition claim thc exemption fee proper amount shall accompany lhis form notice shall file appropriate state accordance wilh stale law_ appendix notice constitute part notice must complete attention fallure file notice appropriate state result loss federal exemption conversely failure file appropriate federal notice result joss available state exemption unless exemption predicate federal notice potential persons respond collection information contain form require respond unless form display currently valid omb control number sec jhn doc may secuon processei city thomson financial give type file file\n",
            "Predicted Label:Form D\n",
            "Original Label:0\n",
            "-------------------------------------------------------\n",
            "-------------------------------------------------------\n",
            "omi ctic jzfconp omb nur expire estimate average burden hours per response unite state securities exchange commission washington form cover page report calendar year quarter end september check amendment amendment number amendment check one restatement add hold entries institutional investment manager report name kenneth lipper address park avenue floor york york file number institutional investment manager report attachment hereto person sign hereby represent person sign report authorize submit information contain herein true correct complete understand require items statements schedule list table consider integral part fomm person sign report behalf report manager name kenneth lipper phone process signature place date sign jan thomson york vew yorcian november report type check opey hold report check hold report manager report report notice check hold report report hold report report manager combination report check portion hold report manager report report portion report report manager roz fublk expirec treatment confidential file file\n",
            "Predicted Label:Form 13F\n",
            "Original Label:1\n",
            "-------------------------------------------------------\n",
            "-------------------------------------------------------\n",
            "form unite state omb approval securities exchange comyissior wong omb number washington expire november estimate average burden form hours per response notice sale secuut sec use pursuant regulatiolad prefix serial section andior date receive uniform limit offer exemption name offer check amendment name change indicate change series prefer stock check box apply rule rule rule section uloe type amendment basic dentificationdata enter information request issuer name issuer check amendment name change indicate change favrille_inc address executive offices number street city state zip code telephone number include area code altman row san address principal business operations number street city state code telephone number include area code different executive offices brief description business proceseedby develop customize therapies cancer autoimmune disorder jun type business organization primark corporation limit partnership already fontorporation please specify business trust limit partnership form month year actual estimate date incorporation organization actual estimate jurisdiction incorporation organization enter two letter postal service abbreviation state canada foreign jurisdiction general instructions federal must file issuers offer securities reliance exemption regulation section cfr seq file notice must file later first sale securities offer notice deem file securities exchange commission sec earlier date receive sec eddress give receive address date due date mail unite state register certify mail address file securities exchange commission fifth street washington copy require five copy notice must file sec one must manually sign copy manually sign copy bear type print signatures file federal file fee state notice shall use indicate reliance uniform limit offer exemption uloe sales securities state adopt uloe adopt form issuers rely uloe must file separate notice securities administrator slate sales state require payment fee precondition claim exemption fee proper amount shall accompany form notice shall file appropriate state accordance state law appendix notice constitute part notice must complete attention failure file notice appropriate state result loss federal exemption conversely failure file appropriate federal notice result loss available state exemption unless exemption predicate file federal notice potential persons respond collection information contain form arenot require respond unless form display currently valid omb control number sec receied file file file diege zip days fee\n",
            "Predicted Label:Form D\n",
            "Original Label:0\n",
            "-------------------------------------------------------\n",
            "-------------------------------------------------------\n",
            "pshshoa unite state may confidental securities exchange commission washington form form cover page report calendar year quarter end march check amendment amendment number amendment check one restatement add hold entries institutional investment manager file report name david berkowitz address gotham partner management east street_ floor york york form file number institutional investment manager file report person sign hereby represent person sign report authorize submit it_ information contain herein true correct complete_ understand require items statements schedule list table consider integral part form_ person sign report behalf report manager process name david berkowitz jan title manager thomson financial phone signature place date sign qhls york york expirec treatment confidental\n",
            "Predicted Label:Form 13F\n",
            "Original Label:1\n",
            "-------------------------------------------------------\n",
            "-------------------------------------------------------\n",
            "cromosty omb approval omb number jia expire seplember securittes exchange commssion estimate average burden washington hours per response annual auditedrepqrt sec file number form part face page information require broker dealers pursuant section securities exchange act rule thereunder report period begin loi end guol mmiddiy mwddiyy registrant denttcaton name broker dealer official use sto sccar firm address principal place business use box noj enst end sucat city stte codke name telephone number person contact regard report alect erakceis cot teepbox baccountant ddeniicaton independent public accountant whose opinion contain report sadaad indivicual hole bast fio middk narr essiress nen nokk neulonx add cuy state zip cok check one process cenificd public accountant public accountant may accountant iesident unite state possessions thomson official use fnangial claim exemption ihe requirement ihat annual report cover opinion independent public accountant must suppored sialemenl facts circumslances rely ihe basis exemption see section sec notootiol peesors wdo oro poda sbe colleetioo ipformnjod doeoided form dor require roopond uoloss form jisploge mal receive sece apr section zelv\n",
            "Predicted Label:Form X-17A-5\n",
            "Original Label:2\n",
            "-------------------------------------------------------\n",
            "-------------------------------------------------------\n",
            "form unite state omb approval securities exchange commission iomb number washington expire november form eestimated average burden hours per response notice sale securities pursuant regulation sec use prefix serial section uniform limit offer exemption date receive name offer check amendment name change indicate change sale series prefer stock file check box apply rule rule rule section ueoe type file file amendment keceived basic identifica tion data enter information request issuer name issuer check amendment name change indicate change tonbu inc address executive offices number street city state zip code telephone number include area code fox lane san jose address principal business operations number street city state code different telephone number include area code executive offices fox lane san jose brief description business commerce company specialize electronic products type business organization processfi corporation limit partnership already form business trust limit partnership form please specify month year actual estimate date incorporation organization actual estimate jurisdiction incorporation organization enter two letter postal service abbreviation state canada foreign jurisdiction general instructions federal must file issuers offer securities reliance exemption regulation section cfr seq file notice must file later days first sale securities offer notice deem file securities exchange commission sec earlier date receive sec address give receive address date due date mail unite state register certify mail address file securities exchange commission fifth street washington copy require five copy notice must file sec one must manually sign manually sign must photocopy manually sign copy bear type print signatures information require file must contain information request amendments need report name issuer offer change thereto information request part material change information previously supply part part appendix need file sec file fee federal file fee_ state notice shall use indicate reliance uniform limit offer exemption uloe sales securities state adopt uloe adopt form issuers rely uloe must file separate notice securities administrator state sales ifa state require payment fee precondition claim exemption fee proper amount shall accompany form notice shall file appropriate state accordance state law appendix notice constitute part notice must complete attention failure file notice appropriate state result loss federal exemption conversely failure file appropriate federal notice result loss available state exemption unless exemption predicate federal notice potential persons respond collection information contain form require respond unless form display currently valid omb control number inrportblipalibzigjlii doc sec zip dec thomsoiv financial copy file page\n",
            "Predicted Label:Form D\n",
            "Original Label:0\n",
            "-------------------------------------------------------\n",
            "-------------------------------------------------------\n",
            "omb approval inrna rombnu expiret october jettineted aver burden hour per qjhn urilkc respse fcon unted state securities exchange commission washington fon cover paoe rcport calendar year quartcr end merch check berc amendment amendment nurber tbis amcndment check one restatcmcnt add hold entries insrirutional investment manager file roport name setellite asset managoment address east soth sucet floor york treatment expire confidential form file numbor bxesvppb institutionnl investment managcr file rcport pcrson wom siqued hercby rapresent thet person igning tho icport authorizcd submit inforation contalned horein ouc conect complete undcrstood require items statements schedule ilsts aables consider integral part thls form person sign repport behalf rcporting menager name brian krifitcher title chief operate officer principal phonc signature place end data sign process signature yok ncw yor apr state may date vson fguancial rcport type check one hold report chcck hold report manager reponed eporz notice check bere boldings report report ell boldings ard report othor report managcr combination report check portion tha boldings icporting managcr report thls report portion teported tcporting manager mee cicy\n",
            "Predicted Label:Form 13F\n",
            "Original Label:1\n",
            "-------------------------------------------------------\n",
            "-------------------------------------------------------\n",
            "form qwbbapproval unitei state securities exchange commission omb number washington explres december estimate average burden form hours per response notice sale securities sec use pursuant regulation prellx serlal section uniform limit offer exemption date receive nunie oflering otheck amendme uame change indicale chenge sigma_partners_l file check box thal apply rulc rule sos rule section uloe type file file amendment babic identification data enter_the_inforn alion ecuesed loul_ihe_issuer name issuer check amendment name change irdicate sigma partner address execulive offices number street city state zip code telephore wumbz area code york address principal business operations number street state zip code telephone number include area code diflerent execulive offices brief dcscriplion ausiness process jan type business organizution corporalion limit partnership already form thomson please specify financial business irust limit partnership form montb ycar actual eslimated dale incorporalion organization lgl actual eslimaled jurisdiction incorporation organization enter two leller posial service abbreviation stale canada tor olher foreign jurisdiction general instructions federal must file issuers oflering securities felianee exemption regulation section cfr seq file notice must file ialer days afier lhe fitst sale securities lhe offer norict deem file ihe securilies exchange commission sec earller dale receive sec address give rcceived ihal address aller date due ihe dale mail unilcd stale regislered certify mail thal address file sccurities exchange commission filth streel washinglon copy reguired fivg copy notice must file sec one must manuelly sign copy nol manually sign must pholocopies ihe manually sign copy bear lyped print signatures informalion require liling must contain information requesled amendmnents need teport name issuer offer change therelo inforinazion requcsled part materiel change irom tbe informalion preriously supply part part ihe appendix need file wilh sec file fee federal file fec state notice shall use indicale reliance thc uniform limit offer exemption uloe sales securities hose stale adopt uloe adopt form issuers rely uloe must fille separere notice lhe sacurities administrator stale whete sales bcen state require payment fes precondition thc claim excmp tion proper amount shall accompeny thls form notice shal file appropriale stale accordance state law appendix notice constitute parl notice must complered fallure ille nollce ihe appropriate state atfention ios tederal oxempllon conversely tallure ille ihe approprlate iederal notlce wlii nol result lojs avellablo state exomption unloss exempllon predlcated on_the liling_ol tederel dllce sec sehsezakw cicy ing\n",
            "Predicted Label:Form D\n",
            "Original Label:0\n",
            "-------------------------------------------------------\n",
            "-------------------------------------------------------\n",
            "form qmb approval unite state securities exchange commission omb number washington expire march eslimaled average burden form hours per response allk notice sale securities sec use pursuant regulation prelix serial section date receive uniform limit offer exemption name oflering check amendment name change indicate change birch financial inc file check box apply rule rule sos rule section uloe type file gnew file amendment basic identificationdata enter_the_information request about_the_issuer name issuer check amendment name change indicate change birch financial inc address executive offices number street state zip code telephone number sacluding area code cha tsworth granada hill address principal business operations number street state code telephone number include area code different executive offices brief description business premium financ comercial auto liability insurance policies process avg type business organization corporation limit partnership already form primark please specify business trust limit partnership form corforaton month actual estimate date incorporation organization actual estimate jurisdiction incorporation organization enter two letter postal service abbreviation state canada foreign jurisdiction lnl general instructions federal must file issuers offer securities reliance exemption regulation section cfr seq file notice must file later days first sale securities offer notice deem file securities exchange commission sec earlier date receive sec address give receive address date due date mail unite state register certify mail address file securities exchange commission fifth street washington copy require five copy notice must file sec one must manually sign copy manually sign must photocopy manually sign copy bear lyped print signatures information require must contain information request amendments need ieport name issuer offer change thereto information request pari materiol change information previously supply part part appendix need file sec file fee federal file fee state notice shall use indicate reliance tha uniform limit offer exemption uloe sales securities state adopt uloe adopt form issuers rely uloemust file separate notice rhe securities administrator state sales state require payment fee precondition claim exemp tion fee proper amount shall accompany form notice shall file appropriate state accordance state law appendix notice constitute part notice must complete attention failure ile notice ihe appropriate state wili resuit loss iederal exemption conversely failure file appropriate iederal nolice result loss available state exemption unless exemption predicate on_the_liling_of tederal notice sec frocessing recenved manu_ bigned wsl city zip ing year file ing\n",
            "Predicted Label:Form D\n",
            "Original Label:0\n",
            "-------------------------------------------------------\n",
            "-------------------------------------------------------\n",
            "_submissions facingsheet hicrofiche control label registrant name tele lonica dala_exi_ current address lwrag bazadre znz ezulpn sazi lima_ peru former name address apr file fiscal year complete iitial submissions pkease rote nante address change indicateform type be_usedfor_worklqadbntrx initial file aris annual report reinstatement soppl def proxy oicf zun date frocessed thomson tuinamcial\n",
            "Predicted Label:Other\n",
            "Original Label:7\n",
            "-------------------------------------------------------\n",
            "-------------------------------------------------------\n",
            "sglusckbe_exckan uniteo ftates securities exc commssoi_ ashingtom ls__l divisiom rub market reculation lzoeo december tfo raymond hennessy vice president member fim regulation york stock exchange inc broad street york pime brokerage_arangements_between broker dealers certain investment advisors dear hennessy response letter december request division market regulation permanent extension july action letter regard treatment prime broker arrangements broker dealers engage prime brokerage activities certain investment advisers longer require register section investment advisers act adviser letter advisers letter extend action relief grant section securities exchange act exchangc act rule thereunder regulation provide divisions january prime brokerage letter prime broker letter adviser letter stale division recommend enforcement action december prbcessed jan ihomsqn anncaa letter michael macchiaroli associate director division market regulation sec jeffrey bemstein chaimman hoc prime brokerage committee securities industry association july cfr cfr fran brardon becker director division market regulation sec jcffrcy bemstls riue btoker committee cto beat stearns cosphnc jan lbe grant\n",
            "Predicted Label:Other\n",
            "Original Label:7\n",
            "-------------------------------------------------------\n",
            "-------------------------------------------------------\n",
            "shis confidential treatment request unted state securities exchange commission washington form form cover page report calendar year quarter end september check amendment amendment number amendment check oly one restatement add hold entries institutional investment manager file report name chesapeake partner management inc address reisterstown road suite baltimore maryland fom file number institutional investment manager iling report person sign hereby iepresent person sign teport authorize submit information contain herein true correct complete understand require items statements schedule list table consider integral part fommes person sign report behalf report manager name mark lerner_ erocessed title vice president_ phone apr signature place date sign jnan mark lerner baltimoremaryland_ signature city state date report type check hold report check hold report manager teported report notice check hold eported teport hold report report manager combina ton repori check portion boldings report manager ieported report report report manager office fcon rsh denhed treatment portion\n",
            "Predicted Label:Form 13F\n",
            "Original Label:1\n",
            "-------------------------------------------------------\n",
            "-------------------------------------------------------\n",
            "fibije confidenthal unite state securities exchange commission waghington ijao form rftt form cover page report calendar year quarter end september check amendment amendment number amendment check one restatement add holdi entries institutional investment manager file name staro asset management address market street suite mequon form file number institutional investment manager file report person sign hereby represent person sign report authorize submit information contain herein true_ correct complete understand require items statements_ schedule list table consider integral part form_ person sign report behalf report manager name colin lancaster process title general counsel jan phone lolson finatca signature date sign mequon november fconp deny confidentiap ereatmert expirec treatment confidential\n",
            "Predicted Label:Form 13F\n",
            "Original Label:1\n",
            "-------------------------------------------------------\n",
            "-------------------------------------------------------\n",
            "lllg omb form unite state approval securities exchange commission omb nurber washington expire november eeslimaled average burden form ihours per response notice sale securittes sec use pursuant regulation prefo seral section andior oate reeeived uniform limit offer exemption nex fegze gucheat ateedrzenfeng eee uscend gidicatffbanes canada variable flexible file check box apply rule rule sos rule section uloe account tyee filingxnew fling_q amendment basic identification data lenter infonation reguested about_the issuer name issuer check amendment namc change indicate change sun life canada variable account address executive offices number streel city state_ code telephone number incluoing nuieu one sun life executive park _wellesley ille address principal business opcrations number street city state zip codprocessedhone number include area code dfdiffenent exective offices brief description business oct type business organization taomson corporation limit partnership already form finacialr please specify separate accounc busincss tust limit partnership_to be_fomed month year actua estimate date incorporation organization actual estimate jurisdiction incorporation organization enter letter postal service abbreviation state canada othcr foreign jurisdiction general enstructions fedcral hust file issuers mat offcring sccurilies relience exemplioa regulation section cfr scq wnen fike nctice musi file later fitct sale securities ihe olfering anotice decmcd file lhe securities end echange commissicn sec ueerie thc datc reccivedby sec aadress give bcbw reccived dhzl addrcss ite date duc date mail uniled statcs tegistered ccrtified mail thal address file securities exchange commission fifth street w_washington copy require eite copieg tbis natice must file sec wbich must mangally sign copy bot manually sign must pholocopics tbe manually sign copy beer type print signatures informarion require rew must contain infonation iquested amendments need rpott nan ubc issucr olicring change ltreo unointortoatiod reque sled part macrial change iulormalion previously supplicd part part ead dhe appendix nced hnar file tte sec file fee tbele federal fee shafeaoxtice shall use indicate reliance unifomn limit offer exemotion uloe ales olrecurities tose sate hat adopt uloeard adopt form issuers telying ulob musuilc scparate notice ihe secuntics adminisirator guale wher retobe orhaye bticz stale icquinortne paymepi ceras piecondiucn claim xemption fee prope amoun shali ccompany form notice shall fikd appropriale stale bccordance widh state law appendix dhe dotice consittucs part notice must attention fallure lle nollce approprlate state wiii resulf loss ederal exemption gon versely allure ile appropriale ederal notlce nol result loss avallable statefexemlf tion unlesssuch exempllon fs_predlcated federal nollce potenlial persons wio tespond colleclion information conlained orm reyuired respond unless lhe form display currenlly valid omb conlrel number sec isswng recewed uui stk zp_ days file file cmpleted flllng\n",
            "Predicted Label:Form D\n",
            "Original Label:0\n",
            "-------------------------------------------------------\n",
            "-------------------------------------------------------\n",
            "form unite state omb approval securities exchange commhshsion washington omb number recened expire august formd estimate averege burden sep jours per form___ notice sale sesurities pursuant regulaionp sec use section andior prefix serial uniform limit offer exemption date receive name offer ocheck amendment name change indicate change series prefer stock file check box apply rulc rule rule section uloe type file amendment basic identification data enter information request issuer name issuer check amendment name change indicate change favrille inc address executive offices number street city state zip code telephone number include area code altman row suite san address principal business operations number street city state zip code telephone number include area cprocessel different executive officcs brief description business sep develop customize therapies cancer autoimmune diseases type business organization thqmson corporaition limit partnership already form please specify financiai business irust limit partnership form month year actual estimate date incorporation organization dactual eslimated jurisdiction incorporation organization enter two letter postal service abbreviation state das_i ictopht canada foreign jurisdiction general instructions federal must file issuers offer securities reliarce cxemption regulation section cfr seq file nolice must file later days first sale securities notice deem file securities exchange commission sec carlier date receive sec address give receive thal address ihe date due date mail unite state register certify mail address file sccurities exchange commission fifth strees washington copy require five copy notice inust file sec one iusi manually sign copy manually sign must photocopy manually sizned copy bear print signatures information require must contain information request amendments need report lhe name issuer offer change thercto information request pan material change information previously supply part part ana appendix necd file sec_ file fee federal file fee_ state notice shall use indicate reliance uriform limit offerirg exemption uloe sales securities siates adopt uloe adopt form_ issuers rely uloe must file scparate notice securities administrator stale sales state require payment fec precondition claim ihe exemption fee proper amount shall accompany form_ notice shall file appropriale state accordance state law appendix notice constitute parl notice must complete attention failure file notice appropriate state result loss federal exemption conversely failure file appropriate federal notice result loss available state exemption unless exemption predicate file federal notice polential persons respond collectlon information contain torm require respond unless torm display currently valid omb control number sec vzsd gcv doc secuon file diego offer type file\n",
            "Predicted Label:Form D\n",
            "Original Label:0\n",
            "-------------------------------------------------------\n",
            "-------------------------------------------------------\n",
            "ireroval form wnited state securittes exchange commission jouis wasbington form sel yds profix setbat notice sale securittes date receive pursuant regulation section andior uniform limit offer exemption name offer check amendment name change indicale change recened lipid sciences inc check box apply rule rule sos rule section uloe type file file amendment jun bastc identification data enter information request issuer name issuer check amendment name change indicale change lipid sciences inc address execulive offices number streel city stale zip code telephone number include code wilsbire blvd suite santa monica address principal business operations number streel state zip code telephone number include area code different executive offices brief description business development stage medical technology company engage tbe research development products treat major medical indications regulate plasma lipid level tecorparaiion organizalion processedby corporetion limit partnership already form gthet please specity business trust limit partnership form actual estimate date incomporation organizalion month year actual estimate iprimark jurisdiction incorporalion organizalion enier two letter postal service abbreviation state corpornton canade foreign jurisdictions general nnstructions federal must file issuers offer securities reliance exemption regulation section cfr file notice must filed_no later days first sale securities offer notice deem file securities exchange commission sec earlier date receive sec lhe address give receive address dete due date wes mail unite state regislered certify mail address file securities exchange commission fifth street washington copy require five copy notice must file sec one must manually sign copy manually sign must photocopy manually sign copy bear type prinled signatures_ information require must contain information request amendments need report name issuer ofifering change thereo information request part material change information previously part part appendix need file sec file fee federal file fee state notice shall use indicate reliance uniform limit offer exemption uloe sales securilies state adopt uloe adopt form issuers rely uloe must file separete notice securities administrator state sales state require payment fee precondition claim exemprion fee proper amount shall accompany form notice shall file appropriele stale eccordance stete law appendix nolice constitute pert notice must compleled attention failure file notice appropriate state result loss federal exemption failure file appreprlate federal notice wiil result loss available state exemption unless icoexernpllon predicate federal notice potential persons respond collection information contain form require respond unless farm display currently valid omb control number sec file mrea city file supply file\n",
            "Predicted Label:Form D\n",
            "Original Label:0\n",
            "-------------------------------------------------------\n",
            "-------------------------------------------------------\n",
            "submissions facingsheet hicrofiche control label registrant nake lllehnsl_ current address process former name address thomson funancial file fiscal year complele iiiol submissioas enl pleese rote erd eddress change indicae_eorm_txpe be_usedforworkload_bntrx initial file aris annoal report reinstatement suppl def proxy oicf date apr\n",
            "Predicted Label:Other\n",
            "Original Label:7\n",
            "-------------------------------------------------------\n",
            "-------------------------------------------------------\n",
            "slubmissions facing_sheet kicrofiche control label registrant name osl loh_zlizn current address good_ tous dusgea korea former name process address thoicon financial file fiscal year iekllo compiele iiticl sebmissions onb pleese nams end address change indicate formixpe be_usfd eorworkiqad_bntrx initial file aris annual report reinstatement soppl def proxy oicf date jzy mocig yoids yons sesl\n",
            "Predicted Label:Other\n",
            "Original Label:7\n",
            "-------------------------------------------------------\n",
            "-------------------------------------------------------\n",
            "omb approval nited state omb number expire september exchange commission estimate average burden lington hours per response annual audit repora sec file number form part iil mar face page information require broker dealers pursuankio setieg securities exchange act rule thererader report period begin january end december mmmiddiy mmiddiyy registrant denticaton name broker dealer official use mcdermott julian co_ firm address principal place business use box central street sueat natick massachusetts cuty suc zip code name telephone number person contact regard report julian mcdermott ara code terphone west spring drive ellicott maryland accountant identtficaton independent public accountant whose opinion contain report jam kearney cpa ntc indiviua steal fvs middle namc brigantine east cohasset mass add cute sutc cos check one process cenificd public accountant mar public accountani accountant resident uniled stale ils possessions thomson officiai use faartal claim exemption lhe requirement hat annual repor cover ihe opinion independent public accountant must supponed slalemeni facis rcumslances rely basis exemption see section sec poteotiol pecsong respond collaction informarion contaidnd form squiced seepona unlese shc form jisploge eurrently valid controi oumber receive city\n",
            "Predicted Label:Form X-17A-5\n",
            "Original Label:2\n",
            "-------------------------------------------------------\n",
            "-------------------------------------------------------\n",
            "form omzpproval untted state omb number securities exchange commission expire washingloa august estimate average burden form houte per_fesponss notice sale securities sec use pursuant regulation prelix sera section uniform limit offer exemption date recbved nantc olfcting chcck llis amendmcnl jnd name change indicle change convertible note due july lbsy filine unde chcck bax tbat jpply rulc rule sos rule sqction uloe txe eiling filiog amendmeni basic ddenticatzon data lentcr_the_infonation requestcd aboul_ihe issuer namc lsouet chcck amendmenl pamc change indicre change eastshle_jnc address execucive oflices numbe street city stale zip code telephane number laduding code chestnut street phi jadejehla address principal business operations number strect city state zip code telcphode nunsr laciudine different executive ollices bricf description business comercia cargo vessel design operation best available copy busiaess organization corporalion limit partnership alread formcd plesc spaily process business nust limit partnership form month actual estimate date incorporation organization actual estimate thomson jurisdiction incorporation organizaton enrer lerter postal servicc abbreviation state financial canada othcr oreiga jurisdicion general instructions federzl must file issuers oflering securitics reliance exemption regulation scction cfr file norice must file arer days first sak scurilies offer notjce deemcd file scourities exchange commission sec carlier dale reccivcd sec addre tiveh beld receivd tha address aftel date due ihc dalc mail upited stld islered cerdlied mail thar addren file sccurites ind excbanse commission fifth strect washington copics require eve sdpie orthis nolic must file wilh sec ust manually sign copiss nok nanually sign must phataxopias manually sign brar lyped print tigdalure information require file must contain informalion requesled amendmeals nccd teport ane theissudi change therelo inlornation requeled pan malerial change tbe inlormalion prtviously rans pari appendix nced file sec fee ederal file fee shienotice shall use iadicate feliance uniform limit offer excmption uloe tle curitics dhani tacr hoticeahll ulooeand indi haveedopcegohi horuh duer reyicg uloe musalon piraie notcewith uesentc aduhizezro inacb arophere llcs havo een maor slale require thepiymeni precondition ihe cor hbelale tion thc propar anount shall accompany form nolice shall file appropriale slales accordance baw appendix lhe notice conszilules part notice must complete feuro tilo nolico appropriate state ffemtion ioss ederal exempuon fallure flle ihe appropriate iederel nolice result loss avallabl state unv exemgtion is_predicaled n_lhe_liling lederel notca poreetiel peroops wbo etppood tbe collectioa iotor atioe ceeesiotd bite fon aec fequiced respoed ualest focm disploys currtaely valid cpb coatcol quebo sec aug year supplicd inb fuing oxompuon\n",
            "Predicted Label:Form D\n",
            "Original Label:0\n",
            "-------------------------------------------------------\n",
            "-------------------------------------------------------\n",
            "submissions facingsheet hicrofiche control label registrant name cacdsadecv current address de_cecvaxdes mpliecle former name gunze eaeno_lblo address file fiscal year complete ititial submissions pkease aole name address change indicne_formtype beusedeorworklqad_bntrx initial file aris annual report reinstatement soppl def proxy oicf by_ jefsn date process jan thomson fnancial\n",
            "Predicted Label:Other\n",
            "Original Label:7\n",
            "-------------------------------------------------------\n",
            "-------------------------------------------------------\n",
            "american stock exchange nasd corrpariy hncd bee aichard mlkalluna serior vicc presidenl capital markels jervartincnt ceet june willie mae stroud filer support room mail stop office file information consumer service division market regulation securities exchange commission judiciary plaza pifth street process washington feb dear stroud thomson financial certify american stock exchange llc exchange receive bank america corporation registrant copy company application form registration follow security bagles due june base performance common stock three basket company flextronics international ltd sanmina corporation jabil circuit inc certify security approve exchange list registration upon official notice issuance understand immediately effective upon receipt letter sincerely trinity plac yark fax fig richard mikalitj amex ncw\n",
            "Predicted Label:Other\n",
            "Original Label:7\n",
            "-------------------------------------------------------\n",
            "-------------------------------------------------------\n",
            "original form omb approval unite state omb number securities exchange commission washington expire august estlmated average burden form hours per response notice sale securities sec use pursuant regulation prall_ serial section uniform limit offer exemption rate deceive nunic offcring chcck amendmcnt uame chungcd indicate corpfin com inc series_a convertible prefer stock file cthcck boxles apply rule rulc sos rule scctior apd type file ncw file amendmeni basic dentncatzion data exter_ihe_informulion equested about_ths _issust namc issucr check amendmcnl jnd name changcd indicate change corpfin com inc address executive olfices number strect city state zip code telephone numbcr includins arca code atlanta financial center suite atlanta georgia address principal business opcrarions numbcr strect state zip code telephone number include aret code different rom exccurive offices bricl dcscriprion business online brokerldealer type business organization process corporalion limit partnership already formcd please sprcily business rust limit partnership formcd may monuh ycar primark aclual estimatcd datc incorporalion organizalion actual estimate corporation jurisdietion incorporation organization enter two letter postal scrvice abbrcviation state canada othcr foreign jurisdiction general instructions federa must file issucrs oflering securitics relianec exemplion regulation saction cfr file natice must file later han days alter first sale securitics lhe oflerins notice decmed iled sccurities exchange commission sec thc carlier thc dale receive sec ihe addrers piven belw recsived address aflet dale duc thc dalc mail unite sttte reeislered ccntificd mail ttal udrets file sccurikies exchange commission fifrh street washinaton copy require fivc_ copy norice must file sec one must manuully sign copie manually sign must photocopics ihe manually sign copy bear lyped print signatures informalion require ncw file must contain informalion requcsrcd amendmenls necd report name issucr offe change hereto inforination request part materiat change irom infortlion previously supplicd parus part ihc appendix nccd file sec fee therc cderal file fec_ state notice shall use indicale reliance uniform limit olfering exemption uloe les scurities thox sate thal adopled uloe adopt form issucrs rely uloe must file sparate noticc scuritics administrator cach stale sales bccn state require payment fcc precondition cleim cxcmp tion thc propcr amount shall accompany orm nolice shall file appropriate sules accordtnce ste jaw appendix thc notice constilules parl notice must complete fallure iile noilce approprlate state atfentign loos tedoral oxompllon conbenoty ialluro lla tha appropriato ederal notlce wlll result lose avelleblo etat oxemptlon unlats tuch exemetion le_predlcatod on_tho ledoral nollco potoptial persone reepont collgcrion ioformarioe conteined thto orm aro roquired reepond uolest torm aieplage eurrently alia omj cootrol pumber sec chan city ing file flling\n",
            "Predicted Label:Form D\n",
            "Original Label:0\n",
            "-------------------------------------------------------\n",
            "-------------------------------------------------------\n",
            "cctc lcualcumfcanceziz placenc herv form cnited state omb appaoval securities exchange commission omb numder washinglon explros april estimaled jveraqe burden form nours_por_io ponse notice sale securities sec use pursuant regulation pretix serial section uniform limit offer exemption date aeceived name oflering check amendment namc change indicare change baiserplatz fundig lio file check box apply rule rulc sos rule section uloe rres ixe file file oamendment msic wentwcation data entcr_the_informarion _lcguestcd_about_the issuer name issuer check amendment namc changcd ana indicare change jaseralazz fwnding lted address execulive olfices number strccl stale zip code telephona number includins area codc nan stsear helier jzrsey iannel islanos addrcss principal business operetions number streel city stale zip code telephonc number include area codc different rom exccutive offices arove brief description business assat qacted commercial paper ccnoit awila projfde fund fur iaiserphatz craup respelt tieir acquisition iok finwcing various trade cecewabll financ securitb assets tyrr business organization corporation limit parinership already form olher pleasc spcify busines rust limit partnership form iimited richic process month yer feb acual estimaled date incorporation organization actual estimate jurisdiction incorporation organization enter ictter postal servicc abbrcviation suale itihomson canada ther foreicn jurisdicion angial general instructions federa must file issuers offer scurities reliance excmption regulalion scrion cfr seq whea file notice must liled bater lhan dys alter lhe first salc scuritics offer notice dcemed filad sccuritics und exchense commiseion sec earlicr dare rerrived sec xhc address eiven belw reccived thal sdrer ule dute due dalc mail unitad suates reeistered cnilied majl address file socurida exchantc commisgion fifth strect washington copy require fiveb thjs notice must filad sec must manually siencd copics maqually sign must photocop mtoually simad opy bear type prinled sienatures information requircd file musxt conualn information request amendments necd report namc issuer offe chanse thrrco blomarion request parr apy maleriel chan irom lhe inlorration previously supplicd part pant appendix nced dot flee thc sec fillnx fee federt file suu tis nolicc shel use indicate relianc thc unifor limit oflering excmprion uloe sle scurities ihose sles thu havc adopled uloe adopred fond issucrs relyin uloe must fle sparale lotio thc sccunties administrlor sute wtete mlcs becn madec sute taquire ptyment preconditjon thc ckaim thc exemp lioo fce proper smount shall gccompany lhis orm noticc shall file thc approprialc state accordanc jlalc bw_ thc apprndk tbc potice constitute par lhic nolice must complete felluro ila notleo tho approprlate statar athsntion ooo iho cdoral axomptlon convorsoly telluro ille tho pproprato icdorel notleo wlll rosull loee evolleblo stalo oxomptlon unlosa juch ompilon_ig_prealeated lhe nollca sec jun city ins illny\n",
            "Predicted Label:Form D\n",
            "Original Label:0\n",
            "-------------------------------------------------------\n"
          ]
        }
      ]
    },
    {
      "cell_type": "code",
      "source": [
        "print(y_pred)"
      ],
      "metadata": {
        "colab": {
          "base_uri": "https://localhost:8080/"
        },
        "id": "Z-HkWc524Tuu",
        "outputId": "97690d71-70f4-4f8c-b826-ddda8dc5db9d"
      },
      "execution_count": 35,
      "outputs": [
        {
          "output_type": "stream",
          "name": "stdout",
          "text": [
            "[7, 7, 0, 0, 1, 0, 1, 2, 0, 1, 0, 0, 7, 7, 1, 1, 0, 0, 0, 7, 7, 2, 0, 7, 7, 0, 0]\n"
          ]
        }
      ]
    },
    {
      "cell_type": "markdown",
      "source": [
        "## **Evaluation Metrics and Sample predictions**"
      ],
      "metadata": {
        "id": "mI1TSosDJuBy"
      }
    },
    {
      "cell_type": "code",
      "source": [
        "np.mean(predicted == Y_TEST)"
      ],
      "metadata": {
        "colab": {
          "base_uri": "https://localhost:8080/"
        },
        "id": "uEEV9EeijT9U",
        "outputId": "f352a26b-af3e-42c8-e26a-ccdf019aafa6"
      },
      "execution_count": 36,
      "outputs": [
        {
          "output_type": "execute_result",
          "data": {
            "text/plain": [
              "1.0"
            ]
          },
          "metadata": {},
          "execution_count": 36
        }
      ]
    },
    {
      "cell_type": "code",
      "source": [
        "docs_new = X_TEST[12]\n",
        "docs_new"
      ],
      "metadata": {
        "colab": {
          "base_uri": "https://localhost:8080/",
          "height": 87
        },
        "id": "0-8hh6pPjUBA",
        "outputId": "14352f59-1558-40c0-9f90-f38e39dd89bf"
      },
      "execution_count": 37,
      "outputs": [
        {
          "output_type": "execute_result",
          "data": {
            "text/plain": [
              "'_submissions facingsheet hicrofiche control label registrant name tele lonica dala_exi_ current address lwrag bazadre znz ezulpn sazi lima_ peru former name address apr file fiscal year complete iitial submissions pkease rote nante address change indicateform type be_usedfor_worklqadbntrx initial file aris annual report reinstatement soppl def proxy oicf zun date frocessed thomson tuinamcial'"
            ],
            "application/vnd.google.colaboratory.intrinsic+json": {
              "type": "string"
            }
          },
          "metadata": {},
          "execution_count": 37
        }
      ]
    },
    {
      "cell_type": "code",
      "source": [
        "predicted = text_clf.predict(list(docs_new))"
      ],
      "metadata": {
        "id": "GknmMQxzkTx4"
      },
      "execution_count": 38,
      "outputs": []
    },
    {
      "cell_type": "code",
      "source": [
        "v[predicted[12]]"
      ],
      "metadata": {
        "colab": {
          "base_uri": "https://localhost:8080/",
          "height": 35
        },
        "id": "KQh6CA2pkT0B",
        "outputId": "375751db-5d59-40ac-cd80-64c4b5ffd3f1"
      },
      "execution_count": 40,
      "outputs": [
        {
          "output_type": "execute_result",
          "data": {
            "text/plain": [
              "'Form 13F'"
            ],
            "application/vnd.google.colaboratory.intrinsic+json": {
              "type": "string"
            }
          },
          "metadata": {},
          "execution_count": 40
        }
      ]
    },
    {
      "cell_type": "code",
      "source": [
        "from sklearn.metrics import confusion_matrix"
      ],
      "metadata": {
        "id": "p5q9mDXJ45Y0"
      },
      "execution_count": 41,
      "outputs": []
    },
    {
      "cell_type": "code",
      "source": [
        "confusion_matrix(y_test, y_pred)"
      ],
      "metadata": {
        "colab": {
          "base_uri": "https://localhost:8080/"
        },
        "id": "VFYxXcnD45cN",
        "outputId": "2bc6730a-7d8b-4a9b-e372-f0f4bbc0b0fb"
      },
      "execution_count": 42,
      "outputs": [
        {
          "output_type": "execute_result",
          "data": {
            "text/plain": [
              "array([[12,  0,  0,  0],\n",
              "       [ 0,  5,  0,  0],\n",
              "       [ 0,  0,  2,  0],\n",
              "       [ 0,  0,  0,  8]])"
            ]
          },
          "metadata": {},
          "execution_count": 42
        }
      ]
    },
    {
      "cell_type": "code",
      "source": [
        "table = pd.DataFrame(confusion_matrix(y_test, y_pred))\n",
        "\n",
        "sns.heatmap(table, annot=True, fmt='d', cmap='viridis')"
      ],
      "metadata": {
        "colab": {
          "base_uri": "https://localhost:8080/",
          "height": 452
        },
        "id": "7B76qFKqLLDi",
        "outputId": "bffadc94-7fbc-43e3-fd84-173b2a38c909"
      },
      "execution_count": 45,
      "outputs": [
        {
          "output_type": "execute_result",
          "data": {
            "text/plain": [
              "<Axes: >"
            ]
          },
          "metadata": {},
          "execution_count": 45
        },
        {
          "output_type": "display_data",
          "data": {
            "text/plain": [
              "<Figure size 640x480 with 2 Axes>"
            ],
            "image/png": "[encoded data removed]"
          },
          "metadata": {}
        }
      ]
    },
    {
      "cell_type": "code",
      "source": [
        "from sklearn.metrics import accuracy_score"
      ],
      "metadata": {
        "id": "ZmdfXEFjkT8V"
      },
      "execution_count": 46,
      "outputs": []
    },
    {
      "cell_type": "code",
      "source": [
        "print(f'Accuracy Score is {accuracy_score(y_test,y_pred)}')"
      ],
      "metadata": {
        "colab": {
          "base_uri": "https://localhost:8080/"
        },
        "id": "T4hWxAdN36MP",
        "outputId": "243072c0-a3a5-40a0-e8fc-a0340ca7ca8e"
      },
      "execution_count": 47,
      "outputs": [
        {
          "output_type": "stream",
          "name": "stdout",
          "text": [
            "Accuracy Score is 1.0\n"
          ]
        }
      ]
    }
  ]
}